{
  "nbformat": 4,
  "nbformat_minor": 0,
  "metadata": {
    "colab": {
      "provenance": [],
      "mount_file_id": "1QB5Ph2lONvxNsp5t3nPXInIkI3nep5D7",
      "authorship_tag": "ABX9TyMk4z+I6SUoXVBPHPb8EApQ",
      "include_colab_link": true
    },
    "kernelspec": {
      "name": "python3",
      "display_name": "Python 3"
    },
    "language_info": {
      "name": "python"
    },
    "gpuClass": "standard"
  },
  "cells": [
    {
      "cell_type": "markdown",
      "metadata": {
        "id": "view-in-github",
        "colab_type": "text"
      },
      "source": [
        "<a href=\"https://colab.research.google.com/github/victorsergio/GNN-trajectory-prediction-2023/blob/main/sac_cluster_dataset.ipynb\" target=\"_parent\"><img src=\"https://colab.research.google.com/assets/colab-badge.svg\" alt=\"Open In Colab\"/></a>"
      ]
    },
    {
      "cell_type": "code",
      "source": [
        "# This script, create clusters of a defined area, for the intesection dataset.\n",
        "# For clustering this script uses the diameter-clustering lib from https://github.com/antklen/diameter-clustering"
      ],
      "metadata": {
        "id": "sqWoouvMR5E2"
      },
      "execution_count": null,
      "outputs": []
    },
    {
      "cell_type": "code",
      "source": [
        "!pip install similaritymeasures\n",
        "!pip install diameter-clustering"
      ],
      "metadata": {
        "id": "tmKhtVDOyX_S",
        "colab": {
          "base_uri": "https://localhost:8080/"
        },
        "outputId": "9d303e2a-2210-4943-9e2c-3d8ed0fe9bc9"
      },
      "execution_count": null,
      "outputs": [
        {
          "output_type": "stream",
          "name": "stdout",
          "text": [
            "Looking in indexes: https://pypi.org/simple, https://us-python.pkg.dev/colab-wheels/public/simple/\n",
            "Collecting similaritymeasures\n",
            "  Downloading similaritymeasures-0.7.0.tar.gz (401 kB)\n",
            "\u001b[2K     \u001b[90m━━━━━━━━━━━━━━━━━━━━━━━━━━━━━━━━━━━━━━\u001b[0m \u001b[32m401.2/401.2 KB\u001b[0m \u001b[31m11.5 MB/s\u001b[0m eta \u001b[36m0:00:00\u001b[0m\n",
            "\u001b[?25h  Preparing metadata (setup.py) ... \u001b[?25l\u001b[?25hdone\n",
            "Requirement already satisfied: numpy>=1.14.0 in /usr/local/lib/python3.8/dist-packages (from similaritymeasures) (1.21.6)\n",
            "Requirement already satisfied: scipy>=0.19.0 in /usr/local/lib/python3.8/dist-packages (from similaritymeasures) (1.7.3)\n",
            "Building wheels for collected packages: similaritymeasures\n",
            "  Building wheel for similaritymeasures (setup.py) ... \u001b[?25l\u001b[?25hdone\n",
            "  Created wheel for similaritymeasures: filename=similaritymeasures-0.7.0-py3-none-any.whl size=15453 sha256=ca2f8f90a331ec78b64b4eaffabef6b4b4db74aeb3f16a2aec1c023f1ab2acc8\n",
            "  Stored in directory: /root/.cache/pip/wheels/15/9b/33/e21656ebf649d9ec5debb9914bf5928994cd1a10de01956901\n",
            "Successfully built similaritymeasures\n",
            "Installing collected packages: similaritymeasures\n",
            "Successfully installed similaritymeasures-0.7.0\n",
            "Looking in indexes: https://pypi.org/simple, https://us-python.pkg.dev/colab-wheels/public/simple/\n",
            "Collecting diameter-clustering\n",
            "  Downloading diameter-clustering-0.1.0.tar.gz (11 kB)\n",
            "  Preparing metadata (setup.py) ... \u001b[?25l\u001b[?25hdone\n",
            "Collecting hnswlib\n",
            "  Downloading hnswlib-0.6.2.tar.gz (31 kB)\n",
            "  Installing build dependencies ... \u001b[?25l\u001b[?25hdone\n",
            "  Getting requirements to build wheel ... \u001b[?25l\u001b[?25hdone\n",
            "  Preparing metadata (pyproject.toml) ... \u001b[?25l\u001b[?25hdone\n",
            "Requirement already satisfied: numpy in /usr/local/lib/python3.8/dist-packages (from diameter-clustering) (1.21.6)\n",
            "Collecting numpy_groupies\n",
            "  Downloading numpy_groupies-0.9.20-py3-none-any.whl (25 kB)\n",
            "Requirement already satisfied: scikit_learn in /usr/local/lib/python3.8/dist-packages (from diameter-clustering) (1.0.2)\n",
            "Requirement already satisfied: scipy in /usr/local/lib/python3.8/dist-packages (from diameter-clustering) (1.7.3)\n",
            "Requirement already satisfied: tqdm in /usr/local/lib/python3.8/dist-packages (from diameter-clustering) (4.64.1)\n",
            "Requirement already satisfied: threadpoolctl>=2.0.0 in /usr/local/lib/python3.8/dist-packages (from scikit_learn->diameter-clustering) (3.1.0)\n",
            "Requirement already satisfied: joblib>=0.11 in /usr/local/lib/python3.8/dist-packages (from scikit_learn->diameter-clustering) (1.2.0)\n",
            "Building wheels for collected packages: diameter-clustering, hnswlib\n",
            "  Building wheel for diameter-clustering (setup.py) ... \u001b[?25l\u001b[?25hdone\n",
            "  Created wheel for diameter-clustering: filename=diameter_clustering-0.1.0-py3-none-any.whl size=15680 sha256=06cf73a19dcc0fda7520831caf1af84b17b81843c5826f1e63fc81ad349a6940\n",
            "  Stored in directory: /root/.cache/pip/wheels/90/7f/6d/2fea69261e12e4d52e3b932be65a6976b84d1380a19b993b18\n",
            "  Building wheel for hnswlib (pyproject.toml) ... \u001b[?25l\u001b[?25hdone\n",
            "  Created wheel for hnswlib: filename=hnswlib-0.6.2-cp38-cp38-linux_x86_64.whl size=2045846 sha256=c27a0266931082abef521edc9d8b8722a681aa13b79c07fd63acfe8aaf635f9a\n",
            "  Stored in directory: /root/.cache/pip/wheels/74/3b/89/4bd924865709f24ac2df457bcca4c0b55a3eb89c5a94ce3ce8\n",
            "Successfully built diameter-clustering hnswlib\n",
            "Installing collected packages: numpy_groupies, hnswlib, diameter-clustering\n",
            "Successfully installed diameter-clustering-0.1.0 hnswlib-0.6.2 numpy_groupies-0.9.20\n"
          ]
        }
      ]
    },
    {
      "cell_type": "code",
      "source": [
        "import pandas as pd\n",
        "import numpy as np\n",
        "import seaborn as sns\n",
        "import matplotlib.pyplot as plt\n",
        "import similaritymeasures\n",
        "from diameter_clustering import LeaderClustering\n",
        "from diameter_clustering import MaxDiameterClustering\n",
        "\n",
        "import math"
      ],
      "metadata": {
        "id": "nUCErWkQgSAq"
      },
      "execution_count": null,
      "outputs": []
    },
    {
      "cell_type": "code",
      "metadata": {
        "id": "2KiYwRv814Th"
      },
      "source": [
        "\n",
        "\n",
        "def read_data_from_file(file_name, split=1):\n",
        "    \n",
        "    train_file = file_name\n",
        "    df = pd.read_csv(train_file, sep=',')\n",
        "\n",
        "    # Select a percentage from full dataset (used in debugging)\n",
        "    df = df.head(math.floor(df.shape[0]*split))\n",
        "\n",
        "\n",
        "    return df\n",
        "\n",
        "\n",
        "def filter_data(df):\n",
        "    \n",
        "    # Select cars only\n",
        "    df = df.loc[df['agent_type'] == \"car\"]\n",
        "    return df\n",
        "\n",
        "def filter_length(df):            \n",
        "     \n",
        "    # Select only trajectories with the same length=40 and in the same time phase\n",
        " \n",
        "    g = df.groupby([\"case_id\", \"track_id\"])\n",
        " \n",
        "    g_equal_len = g.filter(lambda x: x['frame_id'].count() == 40. and (x['timestamp_ms'].ge(100).any() and x['timestamp_ms'].le(4000).any()))\n",
        "\n",
        "    return g_equal_len\n",
        "\n",
        "\n",
        "def compute_distance_matrix(trajectories):\n",
        "    \n",
        "    n = len(trajectories)\n",
        "    dist_m = np.zeros((n, n))\n",
        "\n",
        "    for i in range(n - 1):\n",
        "        p = trajectories[i]\n",
        "        p = p[:, [5, 6]]     # Use only x,y columns\n",
        "        p = np.array(p, dtype=float)\n",
        "\n",
        "        for j in range(i + 1, n):\n",
        "            q = trajectories[j]\n",
        "            q = q[:, [5, 6]] # Use only x,y columns\n",
        "            q = np.array(q, dtype=float)\n",
        "\n",
        "            dist_m[i, j] = similaritymeasures.frechet_dist(p, q)\n",
        "            dist_m[j, i] = dist_m[i, j]\n",
        "    return dist_m\n",
        "\n",
        "def max_clustering(distance_matrix, max_radius):\n",
        "    \n",
        "    cl = MaxDiameterClustering(max_distance=max_radius,precomputed_dist=True, deterministic=True, sparse_dist=False)\n",
        "    \n",
        "    labels = cl.fit_predict(distance_matrix)  \n",
        "    \n",
        "    return labels\n",
        "\n",
        "def show_seq_lengths(df):\n",
        "  \n",
        "    # Show the average length of sequences (40 frames)\n",
        "    trajectories_len = []\n",
        "    groups = df.groupby([\"case_id\", \"track_id\"])\n",
        "\n",
        "    for name, group in groups:\n",
        "        trajectories_len.append(len(group))\n",
        "\n",
        "    sns.histplot(data=trajectories_len)\n",
        "\n",
        "def cluster_trajectories(df, max_radius, sub_sampling=False):\n",
        "    \n",
        "    # Convert pandas dataframe to nested list \n",
        "\n",
        "    all_cases = []   #  Multi-dimensional list: ( n_cases, n_tracks, n_steps, n_features)\n",
        "\n",
        "    case_groups = df.groupby([\"case_id\"])\n",
        "\n",
        "    for name, group in case_groups:\n",
        "\n",
        "        case_tracks = []\n",
        "\n",
        "        tracks = group.groupby([\"track_id\"])\n",
        "    \n",
        "        for ix,seq in tracks:\n",
        "\n",
        "            sub_seq = seq.to_numpy()\n",
        "            # Code here for sub-sampling 5Hz\n",
        "            if (sub_sampling == True):\n",
        "                sub_seq = sub_seq[0::2,:]\n",
        "\n",
        "            case_tracks.append(sub_seq)\n",
        "\n",
        "        all_cases.append(case_tracks)\n",
        "\n",
        "    \n",
        "    clustered_trajectories = []\n",
        "\n",
        "    # Group trajectories calculating distance matrix and using leader clustering\n",
        "\n",
        "    for case_n in all_cases:\n",
        "\n",
        "        distance_matrix = compute_distance_matrix(case_n)\n",
        "        labels = max_clustering(distance_matrix, max_radius=max_radius)\n",
        "    \n",
        "\n",
        "        for index, traj in enumerate(case_n):\n",
        "\n",
        "            label_column = np.full((case_n[index].shape[0]), labels[index])\n",
        "               \n",
        "            trajectory = np.insert(traj, case_n[index].shape[1], label_column, axis=1)  # Insert label column at last position\n",
        "            clustered_trajectories.append(trajectory)\n",
        "\n",
        "    return clustered_trajectories\n",
        "\n",
        "def create_clustered_dataset(df, max_radius,split):  \n",
        "\n",
        "    # Apply clustering to select only near cars\n",
        "    clustering_result = np.array(cluster_trajectories(df,max_radius=max_radius,sub_sampling=True)) #50 mts\n",
        "    clustering_result = clustering_result.reshape(-1,13) # Remove the dimension added by grouping by case. 13 is the number of features\n",
        "\n",
        "    # Save results to new dataset file\n",
        "    column_names = ['case_id', 'track_id', 'frame_id', 'timestamp_ms', 'agent_type', 'x','y', 'vx', 'vy', 'psi_rad', 'length', 'width','label']\n",
        "    clustered_df = pd.DataFrame(clustering_result,columns= column_names)    \n",
        "    clustered_df.to_csv('/content/drive/MyDrive/PHD_2022/SAC/data/INTERACTION-Dataset-DR-single-v1_2/train/'+str(max_radius)+'m-DR_USA_Intersection_MA_'+split+'.csv',  index = False)\n",
        "\n",
        "    return clustered_df\n",
        "    \n"
      ],
      "execution_count": null,
      "outputs": []
    },
    {
      "cell_type": "code",
      "source": [
        "# Read full dataset\n",
        "df = read_data_from_file('/content/drive/MyDrive/PHD_2022/SAC/data/INTERACTION-Dataset-DR-single-v1_2/train/DR_USA_Intersection_MA_train.csv', split=1.0)"
      ],
      "metadata": {
        "id": "J14p-8NEidRZ"
      },
      "execution_count": null,
      "outputs": []
    },
    {
      "cell_type": "code",
      "source": [
        "# Select only vehicles\n",
        "df = filter_data(df)"
      ],
      "metadata": {
        "id": "iSkq5uHbtfi-"
      },
      "execution_count": null,
      "outputs": []
    },
    {
      "cell_type": "code",
      "source": [
        "# Show sequences' length\n",
        "g = df.groupby([\"case_id\", \"track_id\"])\n",
        "c = g.count()\n",
        "column = c.frame_id\n",
        "ax = column.plot.hist(bins=10, alpha=0.5)\n",
        "\n",
        "# Select only same length sequences\n",
        "df = filter_length(df)\n",
        "\n",
        "\n",
        "# Full dataset info:\n",
        "# 5163 episodes (cases)\n",
        "# 60293 trajectories\n",
        "# 2034258 rows\n",
        "# 2 agent types\n",
        "\n",
        "# Only cars dataset:\n",
        "\n",
        "# 5163 episodes (cases)\n",
        "# 58191 trajectories\n",
        "# 1968886 rows\n",
        "# 1 agent type\n",
        "\n",
        "# length filtered dataset:\n",
        "# 5163 episodes\n",
        "# 40228 trajectories\n",
        "# 1609120 rows\n",
        "# 1 agent type\n",
        "\n",
        "###############################\n"
      ],
      "metadata": {
        "id": "nDmbzrd7RzjF",
        "colab": {
          "base_uri": "https://localhost:8080/",
          "height": 265
        },
        "outputId": "ebaaa157-8318-4d09-8b78-3bdb3911e785"
      },
      "execution_count": null,
      "outputs": [
        {
          "output_type": "display_data",
          "data": {
            "text/plain": [
              "<Figure size 432x288 with 1 Axes>"
            ],
            "image/png": "[encoded data removed]"
          },
          "metadata": {
            "needs_background": "light"
          }
        }
      ]
    },
    {
      "cell_type": "code",
      "source": [
        "# Show sequences' length\n",
        "g = df.groupby([\"case_id\", \"track_id\"])\n",
        "c = g.count()\n",
        "column = c.frame_id\n",
        "ax = column.plot.hist(bins=10, alpha=0.5)\n"
      ],
      "metadata": {
        "colab": {
          "base_uri": "https://localhost:8080/",
          "height": 265
        },
        "id": "DIIQ5OGMXLFD",
        "outputId": "548ac508-584a-4fce-b9ed-83b60c32d6d8"
      },
      "execution_count": null,
      "outputs": [
        {
          "output_type": "display_data",
          "data": {
            "text/plain": [
              "<Figure size 432x288 with 1 Axes>"
            ],
            "image/png": "[encoded data removed]"
          },
          "metadata": {
            "needs_background": "light"
          }
        }
      ]
    },
    {
      "cell_type": "code",
      "source": [
        "# Group counts, trajectory lengths\n",
        "print(c)"
      ],
      "metadata": {
        "colab": {
          "base_uri": "https://localhost:8080/"
        },
        "id": "HuMrq6U8Xi44",
        "outputId": "c4c65da8-b021-4967-e1e4-895705cea9c9"
      },
      "execution_count": null,
      "outputs": [
        {
          "output_type": "stream",
          "name": "stdout",
          "text": [
            "                  frame_id  timestamp_ms  agent_type   x   y  vx  vy  psi_rad  \\\n",
            "case_id track_id                                                                \n",
            "1.0     1               40            40          40  40  40  40  40       40   \n",
            "        2               40            40          40  40  40  40  40       40   \n",
            "        4               40            40          40  40  40  40  40       40   \n",
            "        5               40            40          40  40  40  40  40       40   \n",
            "        6               40            40          40  40  40  40  40       40   \n",
            "...                    ...           ...         ...  ..  ..  ..  ..      ...   \n",
            "5162.0  6               40            40          40  40  40  40  40       40   \n",
            "5163.0  2               40            40          40  40  40  40  40       40   \n",
            "        3               40            40          40  40  40  40  40       40   \n",
            "        4               40            40          40  40  40  40  40       40   \n",
            "        5               40            40          40  40  40  40  40       40   \n",
            "\n",
            "                  length  width  \n",
            "case_id track_id                 \n",
            "1.0     1             40     40  \n",
            "        2             40     40  \n",
            "        4             40     40  \n",
            "        5             40     40  \n",
            "        6             40     40  \n",
            "...                  ...    ...  \n",
            "5162.0  6             40     40  \n",
            "5163.0  2             40     40  \n",
            "        3             40     40  \n",
            "        4             40     40  \n",
            "        5             40     40  \n",
            "\n",
            "[40228 rows x 10 columns]\n"
          ]
        }
      ]
    },
    {
      "cell_type": "code",
      "source": [
        "print(\"Only same length trajectories:\", len(c))"
      ],
      "metadata": {
        "colab": {
          "base_uri": "https://localhost:8080/"
        },
        "id": "Fjp0x7z6U23U",
        "outputId": "0e5ddd43-70a1-40d2-a944-5770f864bc74"
      },
      "execution_count": null,
      "outputs": [
        {
          "output_type": "stream",
          "name": "stdout",
          "text": [
            "Only same length trajectories: 40228\n"
          ]
        }
      ]
    },
    {
      "cell_type": "code",
      "source": [
        "# Split in training and test set\n",
        "\n",
        "from numpy.random import default_rng\n",
        "import math\n",
        "\n",
        "\n",
        "g = df.groupby([\"case_id\"])\n",
        "g_count = g.ngroups\n",
        "\n",
        "training_size = math.floor(g_count/100)*80 # 80% for the training size\n",
        "test_size = g_count - training_size\n",
        "\n",
        "rng = default_rng(1)\n",
        "choice = rng.choice(g.ngroups, training_size, replace=False)\n",
        "\n",
        "# Create the two data splits\n",
        "training = df[g.ngroup().isin(choice)]\n",
        "test = df[~g.ngroup().isin(choice)]\n"
      ],
      "metadata": {
        "id": "nghZAOKUdMZk"
      },
      "execution_count": null,
      "outputs": []
    },
    {
      "cell_type": "code",
      "source": [
        "print(\"Full dataset size: \",g_count)\n",
        "\n",
        "g = training.groupby([\"case_id\"])\n",
        "g_count = g.ngroups\n",
        "print(\"Training size:\", g_count)\n",
        "\n",
        "g = test.groupby([\"case_id\"])\n",
        "g_count = g.ngroups\n",
        "print(\"Test size:\", g_count)"
      ],
      "metadata": {
        "colab": {
          "base_uri": "https://localhost:8080/"
        },
        "id": "ku5DTArHkIbN",
        "outputId": "88391833-efb4-418a-d2fb-d26bf8ef57dd"
      },
      "execution_count": null,
      "outputs": [
        {
          "output_type": "stream",
          "name": "stdout",
          "text": [
            "Full dataset size:  5163\n",
            "Training size: 4080\n",
            "Test size: 1083\n"
          ]
        }
      ]
    },
    {
      "cell_type": "code",
      "source": [
        "from time import process_time\n",
        "\n",
        "# Create clustered dataset for training\n",
        "start = process_time()\n",
        "clustered_training = create_clustered_dataset(training, max_radius=50,split=\"train\")\n",
        "elapsed = (process_time() - start)\n"
      ],
      "metadata": {
        "id": "qQcPFmx3mnmf"
      },
      "execution_count": null,
      "outputs": []
    },
    {
      "cell_type": "code",
      "source": [
        "print(elapsed)"
      ],
      "metadata": {
        "colab": {
          "base_uri": "https://localhost:8080/"
        },
        "id": "kIT99xQQo3_7",
        "outputId": "4c688626-d0ec-49ab-89c6-a7babf035407"
      },
      "execution_count": null,
      "outputs": [
        {
          "output_type": "stream",
          "name": "stdout",
          "text": [
            "190.10382052100002\n"
          ]
        }
      ]
    },
    {
      "cell_type": "code",
      "source": [
        "# Create clustered dataset for test\n",
        "start = process_time()\n",
        "clustered_test = create_clustered_dataset(test, max_radius=50,split=\"test\")\n",
        "elapsed = (process_time() - start)\n"
      ],
      "metadata": {
        "id": "Yi8PFgHEFjxT"
      },
      "execution_count": null,
      "outputs": []
    },
    {
      "cell_type": "code",
      "source": [
        "print(elapsed)"
      ],
      "metadata": {
        "colab": {
          "base_uri": "https://localhost:8080/"
        },
        "id": "yNrSjH3Co5_q",
        "outputId": "d4b810cd-2ba3-4b3b-d0c0-24572d12838d"
      },
      "execution_count": null,
      "outputs": [
        {
          "output_type": "stream",
          "name": "stdout",
          "text": [
            "46.981192668999995\n"
          ]
        }
      ]
    },
    {
      "cell_type": "code",
      "source": [
        "# Load already pre-computed clustered dataset (TRAIN)\n",
        "clustered_df = pd.read_csv('/content/drive/MyDrive/PHD_2022/SAC/data/INTERACTION-Dataset-DR-single-v1_2/train/50m-DR_USA_Intersection_MA_train.csv', sep=',')\n"
      ],
      "metadata": {
        "id": "cyJ7SbJdBMM-"
      },
      "execution_count": null,
      "outputs": []
    },
    {
      "cell_type": "code",
      "source": [
        "# Show number of trajectories length\n",
        "g = clustered_df.groupby([\"case_id\", \"track_id\"])\n",
        "c = g.count()\n",
        "print(\"Number of trajectories in train: \",c.shape[0])"
      ],
      "metadata": {
        "colab": {
          "base_uri": "https://localhost:8080/"
        },
        "id": "QKe11eaOZ2OI",
        "outputId": "0a99e59d-6ce3-4cd8-fe20-c49459d1f3ef"
      },
      "execution_count": null,
      "outputs": [
        {
          "output_type": "stream",
          "name": "stdout",
          "text": [
            "Number of trajectories in train:  31778\n"
          ]
        }
      ]
    },
    {
      "cell_type": "code",
      "source": [
        "# display parameters\n",
        "a4_dims = (15, 8.27)\n",
        "fig, ax = plt.subplots(figsize=a4_dims)\n",
        "sns.set_palette(\"pastel\")\n",
        "\n",
        "\n",
        "# Display how many clusters were created, and its elements\n",
        "case_id = clustered_df.groupby([\"case_id\", \"label\"])\n",
        "\n",
        "g = []\n",
        "\n",
        "for ix,element in case_id:\n",
        "    l = element.groupby([\"track_id\"])\n",
        "    g.append(len(l))\n",
        "\n",
        "print(\"max number of cars by cluster: \", max(g))\n",
        "print(\"number of clusters:\", len(g)) \n",
        "\n",
        "ax = sns.histplot(ax=ax, data=g, discrete=True, shrink=.8)\n",
        "ax.set(xlabel='number of interacting vehicles', ylabel='number of groups')"
      ],
      "metadata": {
        "id": "2L_OJfZLJGQu",
        "colab": {
          "base_uri": "https://localhost:8080/",
          "height": 580
        },
        "outputId": "566ef999-5910-46fc-a450-b65c503fca5f"
      },
      "execution_count": null,
      "outputs": [
        {
          "output_type": "stream",
          "name": "stdout",
          "text": [
            "max number of cars by cluster:  14\n",
            "number of clusters: 8725\n"
          ]
        },
        {
          "output_type": "execute_result",
          "data": {
            "text/plain": [
              "[Text(0, 0.5, 'number of groups'),\n",
              " Text(0.5, 0, 'number of interacting vehicles')]"
            ]
          },
          "metadata": {},
          "execution_count": 24
        },
        {
          "output_type": "display_data",
          "data": {
            "text/plain": [
              "<Figure size 1080x595.44 with 1 Axes>"
            ],
            "image/png": "[encoded data removed]"
          },
          "metadata": {
            "needs_background": "light"
          }
        }
      ]
    },
    {
      "cell_type": "code",
      "source": [
        "# Load already pre-computed clustered dataset (TEST)\n",
        "clustered_df = pd.read_csv('/content/drive/MyDrive/PHD_2022/SAC/data/INTERACTION-Dataset-DR-single-v1_2/train/50m-DR_USA_Intersection_MA_test.csv', sep=',')\n"
      ],
      "metadata": {
        "id": "U4AAENxypUyJ"
      },
      "execution_count": null,
      "outputs": []
    },
    {
      "cell_type": "code",
      "source": [
        "# Show number of trajectories length\n",
        "g = clustered_df.groupby([\"case_id\", \"track_id\"])\n",
        "c = g.count()\n",
        "print(\"Number of trajectories in test: \",c.shape[0])"
      ],
      "metadata": {
        "colab": {
          "base_uri": "https://localhost:8080/"
        },
        "id": "eCJpPLS8aX2F",
        "outputId": "46c7be2f-5e7f-4ecd-c526-be9b9cd9ed86"
      },
      "execution_count": null,
      "outputs": [
        {
          "output_type": "stream",
          "name": "stdout",
          "text": [
            "Number of trajectories in test:  8450\n"
          ]
        }
      ]
    },
    {
      "cell_type": "code",
      "source": [
        "# display parameters\n",
        "a4_dims = (15, 8.27)\n",
        "fig, ax = plt.subplots(figsize=a4_dims)\n",
        "sns.set_palette(\"pastel\")\n",
        "\n",
        "\n",
        "# Display how many clusters were created, and its elements\n",
        "case_id = clustered_df.groupby([\"case_id\", \"label\"])\n",
        "\n",
        "g = []\n",
        "\n",
        "for ix,element in case_id:\n",
        "    l = element.groupby([\"track_id\"])\n",
        "    g.append(len(l))\n",
        "\n",
        "print(\"max number of cars by cluster: \", max(g))\n",
        "print(\"number of clusters:\", len(g)) \n",
        "    \n",
        "ax = sns.histplot(ax=ax, data=g, discrete=True, shrink=.8)\n",
        "ax.set(xlabel='number of interacting vehicles', ylabel='number of groups')"
      ],
      "metadata": {
        "colab": {
          "base_uri": "https://localhost:8080/",
          "height": 580
        },
        "id": "4zcMWPYYmQoW",
        "outputId": "0136f783-7c03-42ce-fef7-65698a9a8bb4"
      },
      "execution_count": null,
      "outputs": [
        {
          "output_type": "stream",
          "name": "stdout",
          "text": [
            "max number of cars by cluster:  13\n",
            "number of clusters: 2349\n"
          ]
        },
        {
          "output_type": "execute_result",
          "data": {
            "text/plain": [
              "[Text(0, 0.5, 'number of groups'),\n",
              " Text(0.5, 0, 'number of interacting vehicles')]"
            ]
          },
          "metadata": {},
          "execution_count": 22
        },
        {
          "output_type": "display_data",
          "data": {
            "text/plain": [
              "<Figure size 1080x595.44 with 1 Axes>"
            ],
            "image/png": "[encoded data removed]"
          },
          "metadata": {
            "needs_background": "light"
          }
        }
      ]
    }
  ]
}