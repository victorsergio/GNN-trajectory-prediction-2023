{
  "nbformat": 4,
  "nbformat_minor": 0,
  "metadata": {
    "colab": {
      "provenance": [],
      "mount_file_id": "1Wyt5Q7fD5Ud3cg5Gt9BWI6ThLOWTlgBI",
      "authorship_tag": "ABX9TyOtM20dGce5QFLELePFxCmi",
      "include_colab_link": true
    },
    "kernelspec": {
      "name": "python3",
      "display_name": "Python 3"
    },
    "language_info": {
      "name": "python"
    },
    "accelerator": "GPU",
    "gpuClass": "premium"
  },
  "cells": [
    {
      "cell_type": "markdown",
      "metadata": {
        "id": "view-in-github",
        "colab_type": "text"
      },
      "source": [
        "<a href=\"https://colab.research.google.com/github/victorsergio/GNN-trajectory-prediction-2023/blob/main/sac_baseline_model.ipynb\" target=\"_parent\"><img src=\"https://colab.research.google.com/assets/colab-badge.svg\" alt=\"Open In Colab\"/></a>"
      ]
    },
    {
      "cell_type": "code",
      "source": [
        "gpu_info = !nvidia-smi\n",
        "gpu_info = '\\n'.join(gpu_info)\n",
        "if gpu_info.find('failed') >= 0:\n",
        "  print('Select the Runtime → \"Change runtime type\" menu to enable a GPU accelerator, ')\n",
        "  print('and then re-execute this cell.')\n",
        "else:\n",
        "  print(gpu_info)"
      ],
      "metadata": {
        "colab": {
          "base_uri": "https://localhost:8080/"
        },
        "id": "JumAY-3VtZ3A",
        "outputId": "961b6ef1-fa3f-438b-ac97-95d130fd83f7"
      },
      "execution_count": 1,
      "outputs": [
        {
          "output_type": "stream",
          "name": "stdout",
          "text": [
            "Tue Jan 31 23:40:36 2023       \n",
            "+-----------------------------------------------------------------------------+\n",
            "| NVIDIA-SMI 510.47.03    Driver Version: 510.47.03    CUDA Version: 11.6     |\n",
            "|-------------------------------+----------------------+----------------------+\n",
            "| GPU  Name        Persistence-M| Bus-Id        Disp.A | Volatile Uncorr. ECC |\n",
            "| Fan  Temp  Perf  Pwr:Usage/Cap|         Memory-Usage | GPU-Util  Compute M. |\n",
            "|                               |                      |               MIG M. |\n",
            "|===============================+======================+======================|\n",
            "|   0  NVIDIA A100-SXM...  Off  | 00000000:00:04.0 Off |                    0 |\n",
            "| N/A   32C    P0    47W / 400W |      0MiB / 40960MiB |      0%      Default |\n",
            "|                               |                      |             Disabled |\n",
            "+-------------------------------+----------------------+----------------------+\n",
            "                                                                               \n",
            "+-----------------------------------------------------------------------------+\n",
            "| Processes:                                                                  |\n",
            "|  GPU   GI   CI        PID   Type   Process name                  GPU Memory |\n",
            "|        ID   ID                                                   Usage      |\n",
            "|=============================================================================|\n",
            "|  No running processes found                                                 |\n",
            "+-----------------------------------------------------------------------------+\n"
          ]
        }
      ]
    },
    {
      "cell_type": "code",
      "source": [
        "!pip install wandb"
      ],
      "metadata": {
        "id": "MIS-b98Hrxjd",
        "colab": {
          "base_uri": "https://localhost:8080/"
        },
        "outputId": "4cfebaf5-c8a6-42ce-db84-cf7592124dd2"
      },
      "execution_count": 2,
      "outputs": [
        {
          "output_type": "stream",
          "name": "stdout",
          "text": [
            "Looking in indexes: https://pypi.org/simple, https://us-python.pkg.dev/colab-wheels/public/simple/\n",
            "Requirement already satisfied: wandb in /usr/local/lib/python3.8/dist-packages (0.13.9)\n",
            "Requirement already satisfied: setuptools in /usr/local/lib/python3.8/dist-packages (from wandb) (57.4.0)\n",
            "Requirement already satisfied: sentry-sdk>=1.0.0 in /usr/local/lib/python3.8/dist-packages (from wandb) (1.14.0)\n",
            "Requirement already satisfied: typing-extensions in /usr/local/lib/python3.8/dist-packages (from wandb) (4.4.0)\n",
            "Requirement already satisfied: psutil>=5.0.0 in /usr/local/lib/python3.8/dist-packages (from wandb) (5.4.8)\n",
            "Requirement already satisfied: pathtools in /usr/local/lib/python3.8/dist-packages (from wandb) (0.1.2)\n",
            "Requirement already satisfied: Click!=8.0.0,>=7.0 in /usr/local/lib/python3.8/dist-packages (from wandb) (7.1.2)\n",
            "Requirement already satisfied: setproctitle in /usr/local/lib/python3.8/dist-packages (from wandb) (1.3.2)\n",
            "Requirement already satisfied: protobuf!=4.21.0,<5,>=3.12.0 in /usr/local/lib/python3.8/dist-packages (from wandb) (3.19.6)\n",
            "Requirement already satisfied: docker-pycreds>=0.4.0 in /usr/local/lib/python3.8/dist-packages (from wandb) (0.4.0)\n",
            "Requirement already satisfied: GitPython>=1.0.0 in /usr/local/lib/python3.8/dist-packages (from wandb) (3.1.30)\n",
            "Requirement already satisfied: requests<3,>=2.0.0 in /usr/local/lib/python3.8/dist-packages (from wandb) (2.25.1)\n",
            "Requirement already satisfied: appdirs>=1.4.3 in /usr/local/lib/python3.8/dist-packages (from wandb) (1.4.4)\n",
            "Requirement already satisfied: PyYAML in /usr/local/lib/python3.8/dist-packages (from wandb) (6.0)\n",
            "Requirement already satisfied: six>=1.4.0 in /usr/local/lib/python3.8/dist-packages (from docker-pycreds>=0.4.0->wandb) (1.15.0)\n",
            "Requirement already satisfied: gitdb<5,>=4.0.1 in /usr/local/lib/python3.8/dist-packages (from GitPython>=1.0.0->wandb) (4.0.10)\n",
            "Requirement already satisfied: chardet<5,>=3.0.2 in /usr/local/lib/python3.8/dist-packages (from requests<3,>=2.0.0->wandb) (4.0.0)\n",
            "Requirement already satisfied: urllib3<1.27,>=1.21.1 in /usr/local/lib/python3.8/dist-packages (from requests<3,>=2.0.0->wandb) (1.26.14)\n",
            "Requirement already satisfied: idna<3,>=2.5 in /usr/local/lib/python3.8/dist-packages (from requests<3,>=2.0.0->wandb) (2.10)\n",
            "Requirement already satisfied: certifi>=2017.4.17 in /usr/local/lib/python3.8/dist-packages (from requests<3,>=2.0.0->wandb) (2022.12.7)\n",
            "Requirement already satisfied: smmap<6,>=3.0.1 in /usr/local/lib/python3.8/dist-packages (from gitdb<5,>=4.0.1->GitPython>=1.0.0->wandb) (5.0.0)\n"
          ]
        }
      ]
    },
    {
      "cell_type": "code",
      "source": [
        "import pandas as pd\n",
        "import numpy as np\n",
        "import tensorflow as tf\n",
        "import matplotlib.pyplot as plt\n",
        "import pickle as pkl\n",
        "\n",
        "# EXPERIMENT PARAMETERS\n",
        "in_timesteps = 10\n",
        "out_timesteps = 10\n",
        "in_features = 5\n",
        "out_features = 2\n",
        "\n",
        "# Run name\n",
        "wandb_project_name = \"baseline-model-50\"\n",
        "\n",
        "train_dataset_path = \"/content/drive/MyDrive/PHD_2022/SAC/data/INTERACTION-Dataset-DR-single-v1_2/train/50m-DR_USA_Intersection_MA_train.csv\"\n",
        "test_dataset_path = '/content/drive/MyDrive/PHD_2022/SAC/data/INTERACTION-Dataset-DR-single-v1_2/train/50m-DR_USA_Intersection_MA_test.csv'\n",
        "\n",
        "scaler_save_path = '/content/drive/MyDrive/PHD_2022/SAC/models/baseline/baseline_train_scaler.pkl'\n",
        "scaler_reload_path = '/content/drive/MyDrive/PHD_2022/SAC/models/baseline/baseline_train_scaler.pkl'\n",
        "\n",
        "model_save_path = '/content/drive/MyDrive/PHD_2022/SAC/models/baseline/'\n",
        "model_reload_path = '/content/drive/MyDrive/PHD_2022/SAC/models/baseline/'\n",
        "\n",
        "csv_out_path_train = '/content/drive/MyDrive/PHD_2022/SAC/results/50m-DR_USA_Intersection_MA_train_baseline_results.csv'\n",
        "csv_out_path_test = '/content/drive/MyDrive/PHD_2022/SAC/results/50m-DR_USA_Intersection_MA_test_baseline_results.csv'\n",
        "\n"
      ],
      "metadata": {
        "id": "aATfUBSJ0mD8"
      },
      "execution_count": 3,
      "outputs": []
    },
    {
      "cell_type": "markdown",
      "source": [
        "**METRICS**"
      ],
      "metadata": {
        "id": "TNL5yk7mgvHz"
      }
    },
    {
      "cell_type": "code",
      "source": [
        "# ADE function (single)\n",
        "\n",
        "import math\n",
        "def average_displacement_error(pred,ground):\n",
        "\n",
        "    e = []\n",
        "\n",
        "    for p,g in zip(pred,ground):\n",
        "        e.append( math.sqrt (((p[0] - g[0]) ** 2) + ((p[1] - g[1]) ** 2)))\n",
        "\n",
        "    return np.sum(e)/len(e)\n"
      ],
      "metadata": {
        "id": "AJ6YrTE0u_f4"
      },
      "execution_count": 17,
      "outputs": []
    },
    {
      "cell_type": "code",
      "source": [
        "# ADE function over BATCH (mean)\n",
        "\n",
        "def calculate_error_batch(results, ground):\n",
        "\n",
        "    e = [] \n",
        "\n",
        "    for r, g in zip(results, ground):\n",
        "        e.append(average_displacement_error(r,g))\n",
        "    \n",
        "    return np.sum(e)/len(e)\n"
      ],
      "metadata": {
        "id": "hSpgqzccxNbU"
      },
      "execution_count": 18,
      "outputs": []
    },
    {
      "cell_type": "code",
      "source": [
        "import wandb\n",
        "from wandb.keras import WandbCallback\n",
        "\n",
        "wandb.init(project=wandb_project_name)\n",
        "\n",
        "#wandb\n",
        "wandb_callback = WandbCallback(monitor='val_loss', mode='min', log_gradients=False,save_model=False)"
      ],
      "metadata": {
        "id": "Zzu5ZbgvrqTM",
        "colab": {
          "base_uri": "https://localhost:8080/",
          "height": 139
        },
        "outputId": "13727b5d-3457-416e-8dbf-ee330d55055e"
      },
      "execution_count": 4,
      "outputs": [
        {
          "output_type": "stream",
          "name": "stderr",
          "text": [
            "ERROR:wandb.jupyter:Failed to detect the name of this notebook, you can set it manually with the WANDB_NOTEBOOK_NAME environment variable to enable code saving.\n",
            "\u001b[34m\u001b[1mwandb\u001b[0m: Currently logged in as: \u001b[33mvictorsergio\u001b[0m. Use \u001b[1m`wandb login --relogin`\u001b[0m to force relogin\n"
          ]
        },
        {
          "output_type": "display_data",
          "data": {
            "text/plain": [
              "<IPython.core.display.HTML object>"
            ],
            "text/html": [
              "Tracking run with wandb version 0.13.9"
            ]
          },
          "metadata": {}
        },
        {
          "output_type": "display_data",
          "data": {
            "text/plain": [
              "<IPython.core.display.HTML object>"
            ],
            "text/html": [
              "Run data is saved locally in <code>/content/wandb/run-20230131_234057-rtrya44b</code>"
            ]
          },
          "metadata": {}
        },
        {
          "output_type": "display_data",
          "data": {
            "text/plain": [
              "<IPython.core.display.HTML object>"
            ],
            "text/html": [
              "Syncing run <strong><a href=\"https://wandb.ai/victorsergio/baseline-model-50/runs/rtrya44b\" target=\"_blank\">lambent-envelope-3</a></strong> to <a href=\"https://wandb.ai/victorsergio/baseline-model-50\" target=\"_blank\">Weights & Biases</a> (<a href=\"https://wandb.me/run\" target=\"_blank\">docs</a>)<br/>"
            ]
          },
          "metadata": {}
        },
        {
          "output_type": "display_data",
          "data": {
            "text/plain": [
              "<IPython.core.display.HTML object>"
            ],
            "text/html": [
              " View project at <a href=\"https://wandb.ai/victorsergio/baseline-model-50\" target=\"_blank\">https://wandb.ai/victorsergio/baseline-model-50</a>"
            ]
          },
          "metadata": {}
        },
        {
          "output_type": "display_data",
          "data": {
            "text/plain": [
              "<IPython.core.display.HTML object>"
            ],
            "text/html": [
              " View run at <a href=\"https://wandb.ai/victorsergio/baseline-model-50/runs/rtrya44b\" target=\"_blank\">https://wandb.ai/victorsergio/baseline-model-50/runs/rtrya44b</a>"
            ]
          },
          "metadata": {}
        }
      ]
    },
    {
      "cell_type": "markdown",
      "source": [
        "**START**"
      ],
      "metadata": {
        "id": "7bc1YzhEg1-A"
      }
    },
    {
      "cell_type": "code",
      "source": [
        "# Load clustered dataset\n",
        "dataframe = pd.read_csv(train_dataset_path, sep=',')\n",
        "# This is the train dataframe without normalization, it will be needed after to write the results to disk .csv\n",
        "dataframe_raw = dataframe   "
      ],
      "metadata": {
        "id": "8HsTXGmkhE3P"
      },
      "execution_count": 5,
      "outputs": []
    },
    {
      "cell_type": "code",
      "source": [
        "# Scaling\n",
        "from sklearn.preprocessing import StandardScaler\n",
        "from sklearn.preprocessing import MinMaxScaler\n",
        "\n",
        "def scale_full_dataframe(dataframe, scaler_reload_path):\n",
        "\n",
        "    dataframe_scaled = dataframe[[\"x\", \"y\", \"vx\", \"vy\",\"psi_rad\"]]\n",
        "    dataframe = dataframe.drop(columns=[\"x\", \"y\", \"vx\", \"vy\",\"psi_rad\"], axis=1) # Keep only meta-data features\n",
        "\n",
        "    if scaler_reload_path is not None: # if this is test set\n",
        "        scaler = pd.read_pickle(scaler_reload_path)\n",
        "    else:\n",
        "        scaler = MinMaxScaler()\n",
        "\n",
        "    dataframe_scaled = pd.DataFrame(scaler.fit_transform(dataframe_scaled), columns=[\"x\", \"y\", \"vx\", \"vy\",\"psi_rad\"])\n",
        "\n",
        "    dataframe = pd.concat([dataframe, dataframe_scaled], axis=1)\n",
        "    \n",
        "    if scaler_reload_path is None:  # if this is training set save scaler to file\n",
        "        # Save scaler to file\n",
        "        \n",
        "        with open(scaler_save_path, \"wb\") as outfile:\n",
        "            pkl.dump(scaler, outfile)\n",
        "\n",
        "    return dataframe\n"
      ],
      "metadata": {
        "id": "SsGaBAGXa7W8"
      },
      "execution_count": 6,
      "outputs": []
    },
    {
      "cell_type": "code",
      "source": [
        "dataframe = scale_full_dataframe(dataframe, scaler_reload_path = None)  # not send a pre-calculated scaler because this is training set"
      ],
      "metadata": {
        "id": "t4GFZgyhHW8n"
      },
      "execution_count": 7,
      "outputs": []
    },
    {
      "cell_type": "code",
      "source": [
        "def split_groups(dataframe):\n",
        "\n",
        "    case_id = dataframe.groupby([\"case_id\", \"label\"])\n",
        "\n",
        "    scenary_x = []\n",
        "    scenary_y = []\n",
        "\n",
        "\n",
        "\n",
        "    for ix,element in case_id:\n",
        "        l = element.groupby([\"track_id\"])\n",
        "    \n",
        "        agents = [] # n trajectories (scenary-(aka: cluster)), one per agent\n",
        "\n",
        "        # Get all scenary-(aka:cluster) trajectories\n",
        "        for ig, eg in l:\n",
        "            feat = eg[[\"x\", \"y\", \"vx\", \"vy\",\"psi_rad\"]]\n",
        "            f_list = feat.values.tolist()\n",
        "            agents.append(f_list)\n",
        "    \n",
        "        # separate each trajectory\n",
        "\n",
        "        for tj in agents:\n",
        "            temp = np.array(tj)\n",
        "            temp_x = temp[0:in_timesteps,:]  # 0:10,:\n",
        "            temp_y = temp[in_timesteps:,0:out_features]  # 10:, 0:2 only predict x,y\n",
        "\n",
        "            d_x = np.hstack((temp_x))\n",
        "            d_x = d_x.reshape(in_timesteps,1,in_features) # in_timesteps=10, 1= only one car, in_features = 5 features\n",
        "\n",
        "            d_y = np.hstack((temp_y))\n",
        "            d_y = d_y.reshape(out_timesteps,1,out_features) # out_timesteps=10, 1=only one car, out_features = 2 features\n",
        "\n",
        "            scenary_x.append(d_x)\n",
        "            scenary_y.append(d_y)   \n",
        "\n",
        "    return np.array(scenary_x),np.array(scenary_y)"
      ],
      "metadata": {
        "id": "r_PcyXNDewUF"
      },
      "execution_count": 8,
      "outputs": []
    },
    {
      "cell_type": "code",
      "source": [
        "scene_x_train,scene_y_train = split_groups(dataframe) # unfold groups\n",
        "\n",
        "# Print training shape\n",
        "print(scene_x_train.shape)\n",
        "print(scene_y_train.shape)"
      ],
      "metadata": {
        "colab": {
          "base_uri": "https://localhost:8080/"
        },
        "id": "6_kKddXPpoSu",
        "outputId": "b8dca6eb-440e-4646-fa5b-6e49666afd08"
      },
      "execution_count": 9,
      "outputs": [
        {
          "output_type": "stream",
          "name": "stdout",
          "text": [
            "(31778, 10, 1, 5)\n",
            "(31778, 10, 1, 2)\n"
          ]
        }
      ]
    },
    {
      "cell_type": "code",
      "source": [
        "def to_single_agent_predictor(scene_x_train,scene_y_train):\n",
        "\n",
        "    # Split dataset to be used as single agent model predictor, remove single group dimension\n",
        "\n",
        "    n_samples_train = scene_x_train.shape[0]\n",
        "\n",
        "    scene_x_train = tf.transpose(scene_x_train, [2, 0, 1, 3])\n",
        "    scene_x_train = tf.reshape(scene_x_train, (n_samples_train * 1, in_timesteps, in_features))  #batch*nodes, seq_len, feat\n",
        "\n",
        "    scene_y_train = tf.transpose(scene_y_train, [2, 0, 1, 3])\n",
        "    scene_y_train = tf.reshape(scene_y_train, (n_samples_train * 1, out_timesteps, out_features))  #batch*nodes, seq_len, feat =  2, only predict x,y\n",
        "\n",
        "    print(scene_x_train.shape)\n",
        "    print(scene_y_train.shape)\n",
        "\n",
        "    return scene_x_train, scene_y_train\n"
      ],
      "metadata": {
        "id": "8CHBYlcZYhHJ"
      },
      "execution_count": 10,
      "outputs": []
    },
    {
      "cell_type": "code",
      "source": [
        "scene_x_train, scene_y_train =  to_single_agent_predictor(scene_x_train,scene_y_train)"
      ],
      "metadata": {
        "colab": {
          "base_uri": "https://localhost:8080/"
        },
        "id": "H29GHlR5ErVM",
        "outputId": "9f6e8d0f-f68c-4028-aa46-aeeb25c93ad9"
      },
      "execution_count": 11,
      "outputs": [
        {
          "output_type": "stream",
          "name": "stdout",
          "text": [
            "(31778, 10, 5)\n",
            "(31778, 10, 2)\n"
          ]
        }
      ]
    },
    {
      "cell_type": "code",
      "source": [
        "# Display single trajectories\n",
        "\n",
        "def print_single_trajectory(prev_list,ground_list,prediction_list,n,ix,debug=False):\n",
        "    \n",
        "    prev = prev_list[ix:ix+n]\n",
        "    ground = ground_list[ix:ix+n]\n",
        "\n",
        "    if prediction_list is not None:\n",
        "        pred = prediction_list[ix:ix+n]\n",
        "\n",
        "   \n",
        "    fig, ax = plt.subplots(1,n,figsize=(40,5))   \n",
        "\n",
        "\n",
        "    for i,p in enumerate(prev):\n",
        "        \n",
        "        g = ground[i]\n",
        "\n",
        "        p = tf.transpose(p,[1,0]) \n",
        "        g = tf.transpose(g,[1,0])\n",
        "\n",
        "        ax[i].set_aspect('equal')\n",
        "        ax[i].plot(p[0], p[1],'-o',color='gray',linestyle='solid')\n",
        "        ax[i].plot(g[0], g[1],'-o',color='green',linestyle='solid')\n",
        "\n",
        "\n",
        "        # if you want to print predictions and ground truths at the same time\n",
        "        if prediction_list is not None:\n",
        "            r = pred[i]\n",
        "            r = tf.transpose(r,[1,0])\n",
        "            ax[i].set_aspect('equal')\n",
        "            ax[i].plot(r[0], r[1],'-o',color='red',linestyle='solid')\n",
        "            \n",
        "            if (debug):\n",
        "                print(\"forecasted: \", r.numpy())\n",
        "                print(\"truth: \", g.numpy())\n",
        "\n",
        "            print(\"ADE error: \", average_displacement_error(r.numpy(),g.numpy())) # Difference between predicted and ground truth\n",
        "\n",
        "\n",
        "    plt.show()\n",
        "\n",
        "print_single_trajectory(scene_x_train,scene_y_train,None,3,400)"
      ],
      "metadata": {
        "colab": {
          "base_uri": "https://localhost:8080/",
          "height": 72
        },
        "id": "stuvCjMuTUJs",
        "outputId": "36f2d277-2605-4d80-9f35-ce7c44b8814f"
      },
      "execution_count": 49,
      "outputs": [
        {
          "output_type": "display_data",
          "data": {
            "text/plain": [
              "<Figure size 2880x360 with 3 Axes>"
            ],
            "image/png": "[encoded data removed]"
          },
          "metadata": {
            "needs_background": "light"
          }
        }
      ]
    },
    {
      "cell_type": "code",
      "source": [
        "import tensorflow as tf\n",
        "\n",
        "input_layer = tf.keras.Input(shape=(in_timesteps,in_features)) # in_seq_len = 10, in_features = 5\n",
        "\n",
        "encoder = tf.keras.layers.LSTM(2048, return_sequences=False)(input_layer)\n",
        "latent_vector = tf.keras.layers.RepeatVector(10)(encoder)  #  RepeatVector = 10 = out_timesteps  !Attention\n",
        "decoder = tf.keras.layers.LSTM(1024, return_sequences=True)(latent_vector)\n",
        "decoder_last = tf.keras.layers.TimeDistributed(tf.keras.layers.Dense(units=out_features, activation='relu'))(decoder) # units= 2 because we are only predicting x,y\n",
        "\n",
        "model = tf.keras.Model(input_layer, decoder_last)\n",
        "\n",
        "model.compile(loss='mse', optimizer=tf.keras.optimizers.Adam(learning_rate=0.0001), metrics=['mse', 'mae']) #0.00003\n",
        "\n",
        "#uncomment this line to show model summary\n",
        "#print(model.summary())"
      ],
      "metadata": {
        "id": "cN12zCFaZrSM"
      },
      "execution_count": 13,
      "outputs": []
    },
    {
      "cell_type": "code",
      "source": [
        "# uncomment this line to load a pre-trained model file for re-training only\n",
        "#model = tf.keras.models.load_model(model_reload_path)"
      ],
      "metadata": {
        "id": "PRoe1aB67XAO"
      },
      "execution_count": null,
      "outputs": []
    },
    {
      "cell_type": "code",
      "source": [
        "# early stopping\n",
        "early_stopping_callback = tf.keras.callbacks.EarlyStopping(monitor='val_loss', min_delta = 0.0000000000000005, patience=30, mode='min', restore_best_weights=True) #0.00005\n",
        "\n",
        "# callbacks\n",
        "callbacks_list = [wandb_callback,early_stopping_callback]"
      ],
      "metadata": {
        "id": "uY2y8z5grMdK"
      },
      "execution_count": 14,
      "outputs": []
    },
    {
      "cell_type": "code",
      "source": [
        "# Model training\n",
        "from sklearn.utils import shuffle\n",
        "model.fit(\n",
        "    scene_x_train, scene_y_train, \n",
        "    validation_split=0.2,\n",
        "    batch_size = 32, #128\n",
        "    epochs=4000,  #1000\n",
        "    shuffle = True,\n",
        "    callbacks=callbacks_list,\n",
        ")"
      ],
      "metadata": {
        "id": "lG-24YAJ-Quh",
        "colab": {
          "base_uri": "https://localhost:8080/"
        },
        "outputId": "0ad26b19-ee19-457f-ef94-d8ea1895eb86"
      },
      "execution_count": 15,
      "outputs": [
        {
          "output_type": "stream",
          "name": "stdout",
          "text": [
            "Epoch 1/4000\n",
            "795/795 [==============================] - 12s 10ms/step - loss: 0.0054 - mse: 0.0054 - mae: 0.0335 - val_loss: 3.0560e-04 - val_mse: 3.0560e-04 - val_mae: 0.0115\n",
            "Epoch 2/4000\n",
            "795/795 [==============================] - 7s 9ms/step - loss: 2.8799e-04 - mse: 2.8799e-04 - mae: 0.0119 - val_loss: 1.9714e-04 - val_mse: 1.9714e-04 - val_mae: 0.0098\n",
            "Epoch 3/4000\n",
            "795/795 [==============================] - 7s 9ms/step - loss: 1.9886e-04 - mse: 1.9886e-04 - mae: 0.0100 - val_loss: 2.7647e-04 - val_mse: 2.7647e-04 - val_mae: 0.0120\n",
            "Epoch 4/4000\n",
            "795/795 [==============================] - 7s 9ms/step - loss: 1.5168e-04 - mse: 1.5168e-04 - mae: 0.0086 - val_loss: 1.1639e-04 - val_mse: 1.1639e-04 - val_mae: 0.0073\n",
            "Epoch 5/4000\n",
            "795/795 [==============================] - 7s 9ms/step - loss: 1.2593e-04 - mse: 1.2593e-04 - mae: 0.0078 - val_loss: 1.3849e-04 - val_mse: 1.3849e-04 - val_mae: 0.0083\n",
            "Epoch 6/4000\n",
            "795/795 [==============================] - 7s 9ms/step - loss: 1.1297e-04 - mse: 1.1297e-04 - mae: 0.0074 - val_loss: 6.6492e-05 - val_mse: 6.6492e-05 - val_mae: 0.0049\n",
            "Epoch 7/4000\n",
            "795/795 [==============================] - 7s 9ms/step - loss: 1.0638e-04 - mse: 1.0638e-04 - mae: 0.0072 - val_loss: 8.8461e-05 - val_mse: 8.8461e-05 - val_mae: 0.0067\n",
            "Epoch 8/4000\n",
            "795/795 [==============================] - 7s 9ms/step - loss: 8.9837e-05 - mse: 8.9837e-05 - mae: 0.0065 - val_loss: 1.4228e-04 - val_mse: 1.4228e-04 - val_mae: 0.0091\n",
            "Epoch 9/4000\n",
            "795/795 [==============================] - 7s 9ms/step - loss: 7.8925e-05 - mse: 7.8925e-05 - mae: 0.0061 - val_loss: 8.0750e-05 - val_mse: 8.0750e-05 - val_mae: 0.0064\n",
            "Epoch 10/4000\n",
            "795/795 [==============================] - 7s 9ms/step - loss: 7.6151e-05 - mse: 7.6151e-05 - mae: 0.0060 - val_loss: 7.8892e-05 - val_mse: 7.8892e-05 - val_mae: 0.0066\n",
            "Epoch 11/4000\n",
            "795/795 [==============================] - 7s 9ms/step - loss: 6.0366e-05 - mse: 6.0366e-05 - mae: 0.0053 - val_loss: 5.8984e-05 - val_mse: 5.8984e-05 - val_mae: 0.0055\n",
            "Epoch 12/4000\n",
            "795/795 [==============================] - 7s 9ms/step - loss: 5.8692e-05 - mse: 5.8692e-05 - mae: 0.0053 - val_loss: 5.6498e-05 - val_mse: 5.6498e-05 - val_mae: 0.0050\n",
            "Epoch 13/4000\n",
            "795/795 [==============================] - 7s 9ms/step - loss: 5.8144e-05 - mse: 5.8144e-05 - mae: 0.0052 - val_loss: 7.6891e-05 - val_mse: 7.6891e-05 - val_mae: 0.0060\n",
            "Epoch 14/4000\n",
            "795/795 [==============================] - 7s 9ms/step - loss: 5.0577e-05 - mse: 5.0577e-05 - mae: 0.0049 - val_loss: 6.9827e-05 - val_mse: 6.9827e-05 - val_mae: 0.0063\n",
            "Epoch 15/4000\n",
            "795/795 [==============================] - 7s 9ms/step - loss: 4.9589e-05 - mse: 4.9589e-05 - mae: 0.0048 - val_loss: 4.7067e-05 - val_mse: 4.7067e-05 - val_mae: 0.0051\n",
            "Epoch 16/4000\n",
            "795/795 [==============================] - 7s 9ms/step - loss: 4.4308e-05 - mse: 4.4308e-05 - mae: 0.0045 - val_loss: 4.1320e-05 - val_mse: 4.1320e-05 - val_mae: 0.0041\n",
            "Epoch 17/4000\n",
            "795/795 [==============================] - 7s 9ms/step - loss: 4.1452e-05 - mse: 4.1452e-05 - mae: 0.0044 - val_loss: 4.7916e-05 - val_mse: 4.7916e-05 - val_mae: 0.0046\n",
            "Epoch 18/4000\n",
            "795/795 [==============================] - 7s 9ms/step - loss: 4.0991e-05 - mse: 4.0991e-05 - mae: 0.0044 - val_loss: 2.9033e-05 - val_mse: 2.9033e-05 - val_mae: 0.0035\n",
            "Epoch 19/4000\n",
            "795/795 [==============================] - 7s 9ms/step - loss: 4.1276e-05 - mse: 4.1276e-05 - mae: 0.0044 - val_loss: 4.0919e-05 - val_mse: 4.0919e-05 - val_mae: 0.0046\n",
            "Epoch 20/4000\n",
            "795/795 [==============================] - 7s 9ms/step - loss: 3.7117e-05 - mse: 3.7117e-05 - mae: 0.0041 - val_loss: 4.1713e-05 - val_mse: 4.1713e-05 - val_mae: 0.0047\n",
            "Epoch 21/4000\n",
            "795/795 [==============================] - 7s 9ms/step - loss: 3.6257e-05 - mse: 3.6257e-05 - mae: 0.0041 - val_loss: 2.5377e-05 - val_mse: 2.5377e-05 - val_mae: 0.0031\n",
            "Epoch 22/4000\n",
            "795/795 [==============================] - 7s 9ms/step - loss: 3.5231e-05 - mse: 3.5231e-05 - mae: 0.0040 - val_loss: 2.7284e-05 - val_mse: 2.7284e-05 - val_mae: 0.0031\n",
            "Epoch 23/4000\n",
            "795/795 [==============================] - 7s 9ms/step - loss: 3.1038e-05 - mse: 3.1038e-05 - mae: 0.0037 - val_loss: 2.6302e-05 - val_mse: 2.6302e-05 - val_mae: 0.0034\n",
            "Epoch 24/4000\n",
            "795/795 [==============================] - 7s 9ms/step - loss: 3.1885e-05 - mse: 3.1885e-05 - mae: 0.0038 - val_loss: 6.4279e-05 - val_mse: 6.4279e-05 - val_mae: 0.0058\n",
            "Epoch 25/4000\n",
            "795/795 [==============================] - 7s 9ms/step - loss: 3.0962e-05 - mse: 3.0962e-05 - mae: 0.0037 - val_loss: 2.7317e-05 - val_mse: 2.7317e-05 - val_mae: 0.0034\n",
            "Epoch 26/4000\n",
            "795/795 [==============================] - 7s 9ms/step - loss: 2.9176e-05 - mse: 2.9176e-05 - mae: 0.0036 - val_loss: 2.4736e-05 - val_mse: 2.4736e-05 - val_mae: 0.0033\n",
            "Epoch 27/4000\n",
            "795/795 [==============================] - 7s 9ms/step - loss: 2.7420e-05 - mse: 2.7420e-05 - mae: 0.0035 - val_loss: 2.0724e-05 - val_mse: 2.0724e-05 - val_mae: 0.0028\n",
            "Epoch 28/4000\n",
            "795/795 [==============================] - 7s 9ms/step - loss: 2.8415e-05 - mse: 2.8415e-05 - mae: 0.0036 - val_loss: 2.2519e-05 - val_mse: 2.2519e-05 - val_mae: 0.0031\n",
            "Epoch 29/4000\n",
            "795/795 [==============================] - 7s 9ms/step - loss: 2.8855e-05 - mse: 2.8855e-05 - mae: 0.0036 - val_loss: 2.3158e-05 - val_mse: 2.3158e-05 - val_mae: 0.0032\n",
            "Epoch 30/4000\n",
            "795/795 [==============================] - 7s 9ms/step - loss: 2.6026e-05 - mse: 2.6026e-05 - mae: 0.0034 - val_loss: 2.3847e-05 - val_mse: 2.3847e-05 - val_mae: 0.0031\n",
            "Epoch 31/4000\n",
            "795/795 [==============================] - 7s 9ms/step - loss: 2.4646e-05 - mse: 2.4646e-05 - mae: 0.0033 - val_loss: 3.0190e-05 - val_mse: 3.0190e-05 - val_mae: 0.0038\n",
            "Epoch 32/4000\n",
            "795/795 [==============================] - 7s 9ms/step - loss: 2.5466e-05 - mse: 2.5466e-05 - mae: 0.0034 - val_loss: 3.3096e-05 - val_mse: 3.3096e-05 - val_mae: 0.0042\n",
            "Epoch 33/4000\n",
            "795/795 [==============================] - 7s 9ms/step - loss: 2.5357e-05 - mse: 2.5357e-05 - mae: 0.0033 - val_loss: 2.5045e-05 - val_mse: 2.5045e-05 - val_mae: 0.0035\n",
            "Epoch 34/4000\n",
            "795/795 [==============================] - 7s 9ms/step - loss: 2.3776e-05 - mse: 2.3776e-05 - mae: 0.0032 - val_loss: 2.4169e-05 - val_mse: 2.4169e-05 - val_mae: 0.0032\n",
            "Epoch 35/4000\n",
            "795/795 [==============================] - 7s 9ms/step - loss: 2.3263e-05 - mse: 2.3263e-05 - mae: 0.0032 - val_loss: 2.1883e-05 - val_mse: 2.1883e-05 - val_mae: 0.0031\n",
            "Epoch 36/4000\n",
            "795/795 [==============================] - 7s 9ms/step - loss: 2.2755e-05 - mse: 2.2755e-05 - mae: 0.0031 - val_loss: 2.3492e-05 - val_mse: 2.3492e-05 - val_mae: 0.0030\n",
            "Epoch 37/4000\n",
            "795/795 [==============================] - 7s 9ms/step - loss: 2.3705e-05 - mse: 2.3705e-05 - mae: 0.0032 - val_loss: 2.0772e-05 - val_mse: 2.0772e-05 - val_mae: 0.0030\n",
            "Epoch 38/4000\n",
            "795/795 [==============================] - 7s 9ms/step - loss: 2.3228e-05 - mse: 2.3228e-05 - mae: 0.0032 - val_loss: 2.4832e-05 - val_mse: 2.4832e-05 - val_mae: 0.0030\n",
            "Epoch 39/4000\n",
            "795/795 [==============================] - 7s 9ms/step - loss: 2.3149e-05 - mse: 2.3149e-05 - mae: 0.0032 - val_loss: 2.1489e-05 - val_mse: 2.1489e-05 - val_mae: 0.0028\n",
            "Epoch 40/4000\n",
            "795/795 [==============================] - 7s 9ms/step - loss: 2.1459e-05 - mse: 2.1459e-05 - mae: 0.0030 - val_loss: 3.5681e-05 - val_mse: 3.5681e-05 - val_mae: 0.0043\n",
            "Epoch 41/4000\n",
            "795/795 [==============================] - 7s 9ms/step - loss: 2.0871e-05 - mse: 2.0871e-05 - mae: 0.0030 - val_loss: 3.4246e-05 - val_mse: 3.4246e-05 - val_mae: 0.0043\n",
            "Epoch 42/4000\n",
            "795/795 [==============================] - 7s 9ms/step - loss: 2.1387e-05 - mse: 2.1387e-05 - mae: 0.0030 - val_loss: 2.0665e-05 - val_mse: 2.0665e-05 - val_mae: 0.0030\n",
            "Epoch 43/4000\n",
            "795/795 [==============================] - 7s 9ms/step - loss: 2.0905e-05 - mse: 2.0905e-05 - mae: 0.0030 - val_loss: 1.6962e-05 - val_mse: 1.6962e-05 - val_mae: 0.0025\n",
            "Epoch 44/4000\n",
            "795/795 [==============================] - 7s 9ms/step - loss: 2.0602e-05 - mse: 2.0602e-05 - mae: 0.0030 - val_loss: 2.0389e-05 - val_mse: 2.0389e-05 - val_mae: 0.0027\n",
            "Epoch 45/4000\n",
            "795/795 [==============================] - 7s 9ms/step - loss: 2.0690e-05 - mse: 2.0690e-05 - mae: 0.0030 - val_loss: 1.8901e-05 - val_mse: 1.8901e-05 - val_mae: 0.0028\n",
            "Epoch 46/4000\n",
            "795/795 [==============================] - 7s 9ms/step - loss: 2.0667e-05 - mse: 2.0667e-05 - mae: 0.0030 - val_loss: 1.7730e-05 - val_mse: 1.7730e-05 - val_mae: 0.0027\n",
            "Epoch 47/4000\n",
            "795/795 [==============================] - 7s 9ms/step - loss: 1.9434e-05 - mse: 1.9434e-05 - mae: 0.0029 - val_loss: 2.3801e-05 - val_mse: 2.3801e-05 - val_mae: 0.0035\n",
            "Epoch 48/4000\n",
            "795/795 [==============================] - 7s 9ms/step - loss: 1.9511e-05 - mse: 1.9511e-05 - mae: 0.0029 - val_loss: 1.8882e-05 - val_mse: 1.8882e-05 - val_mae: 0.0026\n",
            "Epoch 49/4000\n",
            "795/795 [==============================] - 7s 9ms/step - loss: 1.8869e-05 - mse: 1.8870e-05 - mae: 0.0028 - val_loss: 3.1917e-05 - val_mse: 3.1917e-05 - val_mae: 0.0041\n",
            "Epoch 50/4000\n",
            "795/795 [==============================] - 7s 9ms/step - loss: 1.9391e-05 - mse: 1.9391e-05 - mae: 0.0029 - val_loss: 1.6842e-05 - val_mse: 1.6842e-05 - val_mae: 0.0023\n",
            "Epoch 51/4000\n",
            "795/795 [==============================] - 7s 9ms/step - loss: 1.8553e-05 - mse: 1.8553e-05 - mae: 0.0028 - val_loss: 1.4814e-05 - val_mse: 1.4814e-05 - val_mae: 0.0023\n",
            "Epoch 52/4000\n",
            "795/795 [==============================] - 7s 9ms/step - loss: 1.9919e-05 - mse: 1.9919e-05 - mae: 0.0029 - val_loss: 2.6236e-05 - val_mse: 2.6236e-05 - val_mae: 0.0037\n",
            "Epoch 53/4000\n",
            "795/795 [==============================] - 7s 9ms/step - loss: 1.8221e-05 - mse: 1.8221e-05 - mae: 0.0027 - val_loss: 2.3461e-05 - val_mse: 2.3461e-05 - val_mae: 0.0035\n",
            "Epoch 54/4000\n",
            "795/795 [==============================] - 7s 9ms/step - loss: 1.9134e-05 - mse: 1.9134e-05 - mae: 0.0029 - val_loss: 1.7998e-05 - val_mse: 1.7998e-05 - val_mae: 0.0026\n",
            "Epoch 55/4000\n",
            "795/795 [==============================] - 7s 9ms/step - loss: 1.7798e-05 - mse: 1.7798e-05 - mae: 0.0027 - val_loss: 1.6649e-05 - val_mse: 1.6649e-05 - val_mae: 0.0024\n",
            "Epoch 56/4000\n",
            "795/795 [==============================] - 7s 9ms/step - loss: 1.8568e-05 - mse: 1.8568e-05 - mae: 0.0028 - val_loss: 1.7201e-05 - val_mse: 1.7201e-05 - val_mae: 0.0030\n",
            "Epoch 57/4000\n",
            "795/795 [==============================] - 7s 9ms/step - loss: 1.7479e-05 - mse: 1.7479e-05 - mae: 0.0027 - val_loss: 1.5610e-05 - val_mse: 1.5610e-05 - val_mae: 0.0025\n",
            "Epoch 58/4000\n",
            "795/795 [==============================] - 7s 9ms/step - loss: 1.8281e-05 - mse: 1.8281e-05 - mae: 0.0028 - val_loss: 1.5194e-05 - val_mse: 1.5194e-05 - val_mae: 0.0023\n",
            "Epoch 59/4000\n",
            "795/795 [==============================] - 7s 9ms/step - loss: 1.7854e-05 - mse: 1.7854e-05 - mae: 0.0027 - val_loss: 1.4819e-05 - val_mse: 1.4819e-05 - val_mae: 0.0022\n",
            "Epoch 60/4000\n",
            "795/795 [==============================] - 7s 9ms/step - loss: 1.7158e-05 - mse: 1.7158e-05 - mae: 0.0026 - val_loss: 1.4925e-05 - val_mse: 1.4925e-05 - val_mae: 0.0022\n",
            "Epoch 61/4000\n",
            "795/795 [==============================] - 7s 9ms/step - loss: 1.8578e-05 - mse: 1.8578e-05 - mae: 0.0028 - val_loss: 2.1640e-05 - val_mse: 2.1640e-05 - val_mae: 0.0032\n",
            "Epoch 62/4000\n",
            "795/795 [==============================] - 7s 9ms/step - loss: 1.7189e-05 - mse: 1.7189e-05 - mae: 0.0026 - val_loss: 2.3385e-05 - val_mse: 2.3385e-05 - val_mae: 0.0034\n",
            "Epoch 63/4000\n",
            "795/795 [==============================] - 7s 9ms/step - loss: 1.8359e-05 - mse: 1.8359e-05 - mae: 0.0028 - val_loss: 1.6752e-05 - val_mse: 1.6752e-05 - val_mae: 0.0024\n",
            "Epoch 64/4000\n",
            "795/795 [==============================] - 7s 9ms/step - loss: 1.6429e-05 - mse: 1.6429e-05 - mae: 0.0026 - val_loss: 1.4646e-05 - val_mse: 1.4646e-05 - val_mae: 0.0021\n",
            "Epoch 65/4000\n",
            "795/795 [==============================] - 7s 9ms/step - loss: 1.7265e-05 - mse: 1.7265e-05 - mae: 0.0027 - val_loss: 1.5494e-05 - val_mse: 1.5494e-05 - val_mae: 0.0024\n",
            "Epoch 66/4000\n",
            "795/795 [==============================] - 7s 9ms/step - loss: 1.7878e-05 - mse: 1.7878e-05 - mae: 0.0027 - val_loss: 1.9056e-05 - val_mse: 1.9056e-05 - val_mae: 0.0031\n",
            "Epoch 67/4000\n",
            "795/795 [==============================] - 7s 9ms/step - loss: 1.6789e-05 - mse: 1.6789e-05 - mae: 0.0026 - val_loss: 1.4728e-05 - val_mse: 1.4728e-05 - val_mae: 0.0021\n",
            "Epoch 68/4000\n",
            "795/795 [==============================] - 7s 9ms/step - loss: 1.6567e-05 - mse: 1.6567e-05 - mae: 0.0026 - val_loss: 1.6187e-05 - val_mse: 1.6187e-05 - val_mae: 0.0023\n",
            "Epoch 69/4000\n",
            "795/795 [==============================] - 7s 9ms/step - loss: 1.6771e-05 - mse: 1.6771e-05 - mae: 0.0026 - val_loss: 1.4206e-05 - val_mse: 1.4206e-05 - val_mae: 0.0022\n",
            "Epoch 70/4000\n",
            "795/795 [==============================] - 7s 9ms/step - loss: 1.6156e-05 - mse: 1.6156e-05 - mae: 0.0025 - val_loss: 2.7819e-05 - val_mse: 2.7819e-05 - val_mae: 0.0043\n",
            "Epoch 71/4000\n",
            "795/795 [==============================] - 7s 9ms/step - loss: 1.6960e-05 - mse: 1.6960e-05 - mae: 0.0027 - val_loss: 1.9547e-05 - val_mse: 1.9547e-05 - val_mae: 0.0031\n",
            "Epoch 72/4000\n",
            "795/795 [==============================] - 7s 9ms/step - loss: 1.6576e-05 - mse: 1.6576e-05 - mae: 0.0026 - val_loss: 1.4396e-05 - val_mse: 1.4396e-05 - val_mae: 0.0022\n",
            "Epoch 73/4000\n",
            "795/795 [==============================] - 7s 9ms/step - loss: 1.6446e-05 - mse: 1.6446e-05 - mae: 0.0026 - val_loss: 1.4538e-05 - val_mse: 1.4538e-05 - val_mae: 0.0022\n",
            "Epoch 74/4000\n",
            "795/795 [==============================] - 7s 9ms/step - loss: 1.5906e-05 - mse: 1.5906e-05 - mae: 0.0025 - val_loss: 1.3309e-05 - val_mse: 1.3309e-05 - val_mae: 0.0020\n",
            "Epoch 75/4000\n",
            "795/795 [==============================] - 7s 9ms/step - loss: 1.7367e-05 - mse: 1.7367e-05 - mae: 0.0027 - val_loss: 1.6379e-05 - val_mse: 1.6379e-05 - val_mae: 0.0026\n",
            "Epoch 76/4000\n",
            "795/795 [==============================] - 7s 9ms/step - loss: 1.6010e-05 - mse: 1.6010e-05 - mae: 0.0025 - val_loss: 1.9708e-05 - val_mse: 1.9708e-05 - val_mae: 0.0030\n",
            "Epoch 77/4000\n",
            "795/795 [==============================] - 7s 9ms/step - loss: 1.5844e-05 - mse: 1.5844e-05 - mae: 0.0025 - val_loss: 3.4406e-05 - val_mse: 3.4406e-05 - val_mae: 0.0046\n",
            "Epoch 78/4000\n",
            "795/795 [==============================] - 7s 9ms/step - loss: 1.6063e-05 - mse: 1.6063e-05 - mae: 0.0026 - val_loss: 1.5711e-05 - val_mse: 1.5711e-05 - val_mae: 0.0024\n",
            "Epoch 79/4000\n",
            "795/795 [==============================] - 7s 9ms/step - loss: 1.6203e-05 - mse: 1.6203e-05 - mae: 0.0026 - val_loss: 1.4057e-05 - val_mse: 1.4057e-05 - val_mae: 0.0023\n",
            "Epoch 80/4000\n",
            "795/795 [==============================] - 7s 9ms/step - loss: 1.5503e-05 - mse: 1.5503e-05 - mae: 0.0025 - val_loss: 3.5328e-05 - val_mse: 3.5328e-05 - val_mae: 0.0044\n",
            "Epoch 81/4000\n",
            "795/795 [==============================] - 7s 9ms/step - loss: 1.5309e-05 - mse: 1.5309e-05 - mae: 0.0024 - val_loss: 1.4014e-05 - val_mse: 1.4014e-05 - val_mae: 0.0022\n",
            "Epoch 82/4000\n",
            "795/795 [==============================] - 7s 9ms/step - loss: 1.6306e-05 - mse: 1.6306e-05 - mae: 0.0026 - val_loss: 1.3828e-05 - val_mse: 1.3828e-05 - val_mae: 0.0023\n",
            "Epoch 83/4000\n",
            "795/795 [==============================] - 7s 9ms/step - loss: 1.5393e-05 - mse: 1.5393e-05 - mae: 0.0025 - val_loss: 1.4163e-05 - val_mse: 1.4163e-05 - val_mae: 0.0022\n",
            "Epoch 84/4000\n",
            "795/795 [==============================] - 7s 9ms/step - loss: 1.5055e-05 - mse: 1.5055e-05 - mae: 0.0024 - val_loss: 1.6253e-05 - val_mse: 1.6253e-05 - val_mae: 0.0026\n",
            "Epoch 85/4000\n",
            "795/795 [==============================] - 7s 9ms/step - loss: 1.6182e-05 - mse: 1.6182e-05 - mae: 0.0026 - val_loss: 1.2498e-05 - val_mse: 1.2498e-05 - val_mae: 0.0019\n",
            "Epoch 86/4000\n",
            "795/795 [==============================] - 7s 9ms/step - loss: 1.5321e-05 - mse: 1.5321e-05 - mae: 0.0025 - val_loss: 1.4594e-05 - val_mse: 1.4594e-05 - val_mae: 0.0023\n",
            "Epoch 87/4000\n",
            "795/795 [==============================] - 7s 9ms/step - loss: 1.5129e-05 - mse: 1.5129e-05 - mae: 0.0024 - val_loss: 1.2787e-05 - val_mse: 1.2787e-05 - val_mae: 0.0020\n",
            "Epoch 88/4000\n",
            "795/795 [==============================] - 7s 9ms/step - loss: 1.5124e-05 - mse: 1.5124e-05 - mae: 0.0024 - val_loss: 1.3463e-05 - val_mse: 1.3463e-05 - val_mae: 0.0020\n",
            "Epoch 89/4000\n",
            "795/795 [==============================] - 7s 9ms/step - loss: 1.5114e-05 - mse: 1.5114e-05 - mae: 0.0024 - val_loss: 1.4913e-05 - val_mse: 1.4913e-05 - val_mae: 0.0023\n",
            "Epoch 90/4000\n",
            "795/795 [==============================] - 7s 9ms/step - loss: 1.5521e-05 - mse: 1.5521e-05 - mae: 0.0025 - val_loss: 1.5255e-05 - val_mse: 1.5255e-05 - val_mae: 0.0022\n",
            "Epoch 91/4000\n",
            "795/795 [==============================] - 7s 9ms/step - loss: 1.4669e-05 - mse: 1.4669e-05 - mae: 0.0024 - val_loss: 1.2903e-05 - val_mse: 1.2903e-05 - val_mae: 0.0020\n",
            "Epoch 92/4000\n",
            "795/795 [==============================] - 7s 9ms/step - loss: 1.4623e-05 - mse: 1.4623e-05 - mae: 0.0024 - val_loss: 1.8539e-05 - val_mse: 1.8539e-05 - val_mae: 0.0026\n",
            "Epoch 93/4000\n",
            "795/795 [==============================] - 7s 9ms/step - loss: 1.5114e-05 - mse: 1.5114e-05 - mae: 0.0025 - val_loss: 1.8611e-05 - val_mse: 1.8611e-05 - val_mae: 0.0031\n",
            "Epoch 94/4000\n",
            "795/795 [==============================] - 7s 9ms/step - loss: 1.4533e-05 - mse: 1.4533e-05 - mae: 0.0024 - val_loss: 1.1329e-05 - val_mse: 1.1329e-05 - val_mae: 0.0017\n",
            "Epoch 95/4000\n",
            "795/795 [==============================] - 7s 9ms/step - loss: 1.5106e-05 - mse: 1.5106e-05 - mae: 0.0025 - val_loss: 1.5572e-05 - val_mse: 1.5572e-05 - val_mae: 0.0026\n",
            "Epoch 96/4000\n",
            "795/795 [==============================] - 7s 9ms/step - loss: 1.4332e-05 - mse: 1.4332e-05 - mae: 0.0024 - val_loss: 1.6319e-05 - val_mse: 1.6319e-05 - val_mae: 0.0025\n",
            "Epoch 97/4000\n",
            "795/795 [==============================] - 7s 9ms/step - loss: 1.4457e-05 - mse: 1.4457e-05 - mae: 0.0024 - val_loss: 1.5477e-05 - val_mse: 1.5477e-05 - val_mae: 0.0024\n",
            "Epoch 98/4000\n",
            "795/795 [==============================] - 7s 9ms/step - loss: 1.4580e-05 - mse: 1.4580e-05 - mae: 0.0024 - val_loss: 1.5909e-05 - val_mse: 1.5909e-05 - val_mae: 0.0026\n",
            "Epoch 99/4000\n",
            "795/795 [==============================] - 7s 9ms/step - loss: 1.5351e-05 - mse: 1.5351e-05 - mae: 0.0025 - val_loss: 1.5214e-05 - val_mse: 1.5214e-05 - val_mae: 0.0026\n",
            "Epoch 100/4000\n",
            "795/795 [==============================] - 7s 9ms/step - loss: 1.4063e-05 - mse: 1.4063e-05 - mae: 0.0023 - val_loss: 1.2689e-05 - val_mse: 1.2689e-05 - val_mae: 0.0022\n",
            "Epoch 101/4000\n",
            "795/795 [==============================] - 7s 9ms/step - loss: 1.4043e-05 - mse: 1.4043e-05 - mae: 0.0023 - val_loss: 2.1218e-05 - val_mse: 2.1218e-05 - val_mae: 0.0031\n",
            "Epoch 102/4000\n",
            "795/795 [==============================] - 7s 9ms/step - loss: 1.4373e-05 - mse: 1.4373e-05 - mae: 0.0024 - val_loss: 1.7054e-05 - val_mse: 1.7054e-05 - val_mae: 0.0025\n",
            "Epoch 103/4000\n",
            "795/795 [==============================] - 7s 9ms/step - loss: 1.4088e-05 - mse: 1.4088e-05 - mae: 0.0023 - val_loss: 1.3829e-05 - val_mse: 1.3829e-05 - val_mae: 0.0022\n",
            "Epoch 104/4000\n",
            "795/795 [==============================] - 7s 9ms/step - loss: 1.4222e-05 - mse: 1.4222e-05 - mae: 0.0024 - val_loss: 1.1219e-05 - val_mse: 1.1219e-05 - val_mae: 0.0017\n",
            "Epoch 105/4000\n",
            "795/795 [==============================] - 7s 9ms/step - loss: 1.4215e-05 - mse: 1.4215e-05 - mae: 0.0024 - val_loss: 1.3130e-05 - val_mse: 1.3130e-05 - val_mae: 0.0022\n",
            "Epoch 106/4000\n",
            "795/795 [==============================] - 7s 9ms/step - loss: 1.4522e-05 - mse: 1.4522e-05 - mae: 0.0024 - val_loss: 1.2291e-05 - val_mse: 1.2291e-05 - val_mae: 0.0020\n",
            "Epoch 107/4000\n",
            "795/795 [==============================] - 7s 9ms/step - loss: 1.4370e-05 - mse: 1.4370e-05 - mae: 0.0024 - val_loss: 1.8084e-05 - val_mse: 1.8084e-05 - val_mae: 0.0029\n",
            "Epoch 108/4000\n",
            "795/795 [==============================] - 7s 9ms/step - loss: 1.4494e-05 - mse: 1.4494e-05 - mae: 0.0024 - val_loss: 1.3387e-05 - val_mse: 1.3387e-05 - val_mae: 0.0022\n",
            "Epoch 109/4000\n",
            "795/795 [==============================] - 7s 9ms/step - loss: 1.3533e-05 - mse: 1.3533e-05 - mae: 0.0023 - val_loss: 1.6806e-05 - val_mse: 1.6806e-05 - val_mae: 0.0025\n",
            "Epoch 110/4000\n",
            "795/795 [==============================] - 7s 9ms/step - loss: 1.3142e-05 - mse: 1.3142e-05 - mae: 0.0022 - val_loss: 1.2145e-05 - val_mse: 1.2145e-05 - val_mae: 0.0020\n",
            "Epoch 111/4000\n",
            "795/795 [==============================] - 7s 9ms/step - loss: 1.4202e-05 - mse: 1.4202e-05 - mae: 0.0024 - val_loss: 1.3367e-05 - val_mse: 1.3367e-05 - val_mae: 0.0022\n",
            "Epoch 112/4000\n",
            "795/795 [==============================] - 7s 9ms/step - loss: 1.3575e-05 - mse: 1.3575e-05 - mae: 0.0023 - val_loss: 1.2741e-05 - val_mse: 1.2741e-05 - val_mae: 0.0021\n",
            "Epoch 113/4000\n",
            "795/795 [==============================] - 7s 9ms/step - loss: 1.3729e-05 - mse: 1.3729e-05 - mae: 0.0023 - val_loss: 1.3171e-05 - val_mse: 1.3171e-05 - val_mae: 0.0021\n",
            "Epoch 114/4000\n",
            "795/795 [==============================] - 7s 9ms/step - loss: 1.3602e-05 - mse: 1.3602e-05 - mae: 0.0023 - val_loss: 1.7199e-05 - val_mse: 1.7199e-05 - val_mae: 0.0029\n",
            "Epoch 115/4000\n",
            "795/795 [==============================] - 7s 9ms/step - loss: 1.3549e-05 - mse: 1.3549e-05 - mae: 0.0023 - val_loss: 1.0883e-05 - val_mse: 1.0883e-05 - val_mae: 0.0017\n",
            "Epoch 116/4000\n",
            "795/795 [==============================] - 7s 9ms/step - loss: 1.3396e-05 - mse: 1.3396e-05 - mae: 0.0023 - val_loss: 1.1848e-05 - val_mse: 1.1848e-05 - val_mae: 0.0019\n",
            "Epoch 117/4000\n",
            "795/795 [==============================] - 7s 9ms/step - loss: 1.4255e-05 - mse: 1.4255e-05 - mae: 0.0024 - val_loss: 1.3843e-05 - val_mse: 1.3843e-05 - val_mae: 0.0023\n",
            "Epoch 118/4000\n",
            "795/795 [==============================] - 7s 9ms/step - loss: 1.3656e-05 - mse: 1.3656e-05 - mae: 0.0023 - val_loss: 1.4380e-05 - val_mse: 1.4380e-05 - val_mae: 0.0024\n",
            "Epoch 119/4000\n",
            "795/795 [==============================] - 7s 9ms/step - loss: 1.3241e-05 - mse: 1.3241e-05 - mae: 0.0022 - val_loss: 1.4618e-05 - val_mse: 1.4618e-05 - val_mae: 0.0024\n",
            "Epoch 120/4000\n",
            "795/795 [==============================] - 7s 9ms/step - loss: 1.3636e-05 - mse: 1.3636e-05 - mae: 0.0023 - val_loss: 1.4165e-05 - val_mse: 1.4165e-05 - val_mae: 0.0026\n",
            "Epoch 121/4000\n",
            "795/795 [==============================] - 7s 9ms/step - loss: 1.3478e-05 - mse: 1.3478e-05 - mae: 0.0023 - val_loss: 1.2556e-05 - val_mse: 1.2556e-05 - val_mae: 0.0022\n",
            "Epoch 122/4000\n",
            "795/795 [==============================] - 7s 9ms/step - loss: 1.3494e-05 - mse: 1.3494e-05 - mae: 0.0023 - val_loss: 1.1020e-05 - val_mse: 1.1020e-05 - val_mae: 0.0018\n",
            "Epoch 123/4000\n",
            "795/795 [==============================] - 7s 9ms/step - loss: 1.3552e-05 - mse: 1.3552e-05 - mae: 0.0023 - val_loss: 1.2667e-05 - val_mse: 1.2667e-05 - val_mae: 0.0022\n",
            "Epoch 124/4000\n",
            "795/795 [==============================] - 7s 9ms/step - loss: 1.2927e-05 - mse: 1.2927e-05 - mae: 0.0022 - val_loss: 1.1762e-05 - val_mse: 1.1762e-05 - val_mae: 0.0020\n",
            "Epoch 125/4000\n",
            "795/795 [==============================] - 7s 9ms/step - loss: 1.3488e-05 - mse: 1.3488e-05 - mae: 0.0023 - val_loss: 1.6110e-05 - val_mse: 1.6110e-05 - val_mae: 0.0027\n",
            "Epoch 126/4000\n",
            "795/795 [==============================] - 7s 9ms/step - loss: 1.3104e-05 - mse: 1.3104e-05 - mae: 0.0022 - val_loss: 1.1485e-05 - val_mse: 1.1485e-05 - val_mae: 0.0019\n",
            "Epoch 127/4000\n",
            "795/795 [==============================] - 7s 9ms/step - loss: 1.3608e-05 - mse: 1.3608e-05 - mae: 0.0023 - val_loss: 1.4175e-05 - val_mse: 1.4175e-05 - val_mae: 0.0025\n",
            "Epoch 128/4000\n",
            "795/795 [==============================] - 7s 9ms/step - loss: 1.3427e-05 - mse: 1.3427e-05 - mae: 0.0023 - val_loss: 2.9214e-05 - val_mse: 2.9214e-05 - val_mae: 0.0046\n",
            "Epoch 129/4000\n",
            "795/795 [==============================] - 7s 9ms/step - loss: 1.3114e-05 - mse: 1.3114e-05 - mae: 0.0022 - val_loss: 1.1488e-05 - val_mse: 1.1488e-05 - val_mae: 0.0019\n",
            "Epoch 130/4000\n",
            "795/795 [==============================] - 7s 9ms/step - loss: 1.3405e-05 - mse: 1.3405e-05 - mae: 0.0023 - val_loss: 1.1847e-05 - val_mse: 1.1847e-05 - val_mae: 0.0020\n",
            "Epoch 131/4000\n",
            "795/795 [==============================] - 7s 9ms/step - loss: 1.3203e-05 - mse: 1.3203e-05 - mae: 0.0023 - val_loss: 1.5245e-05 - val_mse: 1.5245e-05 - val_mae: 0.0026\n",
            "Epoch 132/4000\n",
            "795/795 [==============================] - 7s 9ms/step - loss: 1.3649e-05 - mse: 1.3649e-05 - mae: 0.0023 - val_loss: 1.2099e-05 - val_mse: 1.2099e-05 - val_mae: 0.0020\n",
            "Epoch 133/4000\n",
            "795/795 [==============================] - 7s 9ms/step - loss: 1.3010e-05 - mse: 1.3010e-05 - mae: 0.0022 - val_loss: 1.6523e-05 - val_mse: 1.6523e-05 - val_mae: 0.0026\n",
            "Epoch 134/4000\n",
            "795/795 [==============================] - 7s 9ms/step - loss: 1.2927e-05 - mse: 1.2927e-05 - mae: 0.0022 - val_loss: 1.4178e-05 - val_mse: 1.4178e-05 - val_mae: 0.0024\n",
            "Epoch 135/4000\n",
            "795/795 [==============================] - 7s 9ms/step - loss: 1.3013e-05 - mse: 1.3013e-05 - mae: 0.0022 - val_loss: 1.1825e-05 - val_mse: 1.1825e-05 - val_mae: 0.0021\n",
            "Epoch 136/4000\n",
            "795/795 [==============================] - 7s 9ms/step - loss: 1.3028e-05 - mse: 1.3028e-05 - mae: 0.0022 - val_loss: 1.2157e-05 - val_mse: 1.2157e-05 - val_mae: 0.0021\n",
            "Epoch 137/4000\n",
            "795/795 [==============================] - 7s 9ms/step - loss: 1.3382e-05 - mse: 1.3382e-05 - mae: 0.0023 - val_loss: 1.0851e-05 - val_mse: 1.0851e-05 - val_mae: 0.0018\n",
            "Epoch 138/4000\n",
            "795/795 [==============================] - 7s 9ms/step - loss: 1.2434e-05 - mse: 1.2434e-05 - mae: 0.0021 - val_loss: 1.5867e-05 - val_mse: 1.5867e-05 - val_mae: 0.0027\n",
            "Epoch 139/4000\n",
            "795/795 [==============================] - 7s 9ms/step - loss: 1.3081e-05 - mse: 1.3081e-05 - mae: 0.0023 - val_loss: 1.2806e-05 - val_mse: 1.2806e-05 - val_mae: 0.0022\n",
            "Epoch 140/4000\n",
            "795/795 [==============================] - 7s 9ms/step - loss: 1.2916e-05 - mse: 1.2916e-05 - mae: 0.0022 - val_loss: 1.1139e-05 - val_mse: 1.1139e-05 - val_mae: 0.0018\n",
            "Epoch 141/4000\n",
            "795/795 [==============================] - 7s 9ms/step - loss: 1.2835e-05 - mse: 1.2835e-05 - mae: 0.0022 - val_loss: 1.5517e-05 - val_mse: 1.5517e-05 - val_mae: 0.0023\n",
            "Epoch 142/4000\n",
            "795/795 [==============================] - 7s 9ms/step - loss: 1.2821e-05 - mse: 1.2821e-05 - mae: 0.0022 - val_loss: 1.7282e-05 - val_mse: 1.7282e-05 - val_mae: 0.0031\n",
            "Epoch 143/4000\n",
            "795/795 [==============================] - 7s 9ms/step - loss: 1.2667e-05 - mse: 1.2667e-05 - mae: 0.0022 - val_loss: 1.0746e-05 - val_mse: 1.0746e-05 - val_mae: 0.0017\n",
            "Epoch 144/4000\n",
            "795/795 [==============================] - 7s 9ms/step - loss: 1.2694e-05 - mse: 1.2694e-05 - mae: 0.0022 - val_loss: 1.6712e-05 - val_mse: 1.6712e-05 - val_mae: 0.0028\n",
            "Epoch 145/4000\n",
            "795/795 [==============================] - 7s 9ms/step - loss: 1.3169e-05 - mse: 1.3169e-05 - mae: 0.0023 - val_loss: 1.3612e-05 - val_mse: 1.3612e-05 - val_mae: 0.0024\n",
            "Epoch 146/4000\n",
            "795/795 [==============================] - 7s 9ms/step - loss: 1.2819e-05 - mse: 1.2819e-05 - mae: 0.0022 - val_loss: 1.4332e-05 - val_mse: 1.4332e-05 - val_mae: 0.0025\n",
            "Epoch 147/4000\n",
            "795/795 [==============================] - 7s 9ms/step - loss: 1.2968e-05 - mse: 1.2968e-05 - mae: 0.0022 - val_loss: 1.3095e-05 - val_mse: 1.3095e-05 - val_mae: 0.0021\n",
            "Epoch 148/4000\n",
            "795/795 [==============================] - 7s 9ms/step - loss: 1.2792e-05 - mse: 1.2792e-05 - mae: 0.0022 - val_loss: 1.4212e-05 - val_mse: 1.4212e-05 - val_mae: 0.0024\n",
            "Epoch 149/4000\n",
            "795/795 [==============================] - 7s 9ms/step - loss: 1.2837e-05 - mse: 1.2837e-05 - mae: 0.0022 - val_loss: 1.1022e-05 - val_mse: 1.1022e-05 - val_mae: 0.0019\n",
            "Epoch 150/4000\n",
            "795/795 [==============================] - 7s 9ms/step - loss: 1.2660e-05 - mse: 1.2660e-05 - mae: 0.0022 - val_loss: 1.2938e-05 - val_mse: 1.2938e-05 - val_mae: 0.0022\n",
            "Epoch 151/4000\n",
            "795/795 [==============================] - 7s 9ms/step - loss: 1.2593e-05 - mse: 1.2593e-05 - mae: 0.0022 - val_loss: 1.3751e-05 - val_mse: 1.3751e-05 - val_mae: 0.0023\n",
            "Epoch 152/4000\n",
            "795/795 [==============================] - 7s 9ms/step - loss: 1.2867e-05 - mse: 1.2867e-05 - mae: 0.0022 - val_loss: 1.5226e-05 - val_mse: 1.5226e-05 - val_mae: 0.0025\n",
            "Epoch 153/4000\n",
            "795/795 [==============================] - 7s 9ms/step - loss: 1.2548e-05 - mse: 1.2548e-05 - mae: 0.0022 - val_loss: 1.1841e-05 - val_mse: 1.1841e-05 - val_mae: 0.0020\n",
            "Epoch 154/4000\n",
            "795/795 [==============================] - 7s 9ms/step - loss: 1.2566e-05 - mse: 1.2566e-05 - mae: 0.0022 - val_loss: 1.0306e-05 - val_mse: 1.0306e-05 - val_mae: 0.0017\n",
            "Epoch 155/4000\n",
            "795/795 [==============================] - 7s 9ms/step - loss: 1.2832e-05 - mse: 1.2832e-05 - mae: 0.0022 - val_loss: 1.2861e-05 - val_mse: 1.2861e-05 - val_mae: 0.0021\n",
            "Epoch 156/4000\n",
            "795/795 [==============================] - 7s 9ms/step - loss: 1.2929e-05 - mse: 1.2929e-05 - mae: 0.0022 - val_loss: 1.2456e-05 - val_mse: 1.2456e-05 - val_mae: 0.0022\n",
            "Epoch 157/4000\n",
            "795/795 [==============================] - 7s 9ms/step - loss: 1.2274e-05 - mse: 1.2274e-05 - mae: 0.0021 - val_loss: 1.1732e-05 - val_mse: 1.1732e-05 - val_mae: 0.0020\n",
            "Epoch 158/4000\n",
            "795/795 [==============================] - 7s 9ms/step - loss: 1.2826e-05 - mse: 1.2826e-05 - mae: 0.0022 - val_loss: 1.2426e-05 - val_mse: 1.2426e-05 - val_mae: 0.0020\n",
            "Epoch 159/4000\n",
            "795/795 [==============================] - 7s 9ms/step - loss: 1.2781e-05 - mse: 1.2781e-05 - mae: 0.0022 - val_loss: 1.0374e-05 - val_mse: 1.0374e-05 - val_mae: 0.0018\n",
            "Epoch 160/4000\n",
            "795/795 [==============================] - 7s 9ms/step - loss: 1.2266e-05 - mse: 1.2266e-05 - mae: 0.0021 - val_loss: 1.1435e-05 - val_mse: 1.1435e-05 - val_mae: 0.0019\n",
            "Epoch 161/4000\n",
            "795/795 [==============================] - 7s 9ms/step - loss: 1.2647e-05 - mse: 1.2647e-05 - mae: 0.0022 - val_loss: 1.2442e-05 - val_mse: 1.2442e-05 - val_mae: 0.0021\n",
            "Epoch 162/4000\n",
            "795/795 [==============================] - 7s 9ms/step - loss: 1.2618e-05 - mse: 1.2618e-05 - mae: 0.0022 - val_loss: 1.1908e-05 - val_mse: 1.1908e-05 - val_mae: 0.0021\n",
            "Epoch 163/4000\n",
            "795/795 [==============================] - 7s 9ms/step - loss: 1.2336e-05 - mse: 1.2336e-05 - mae: 0.0021 - val_loss: 1.6943e-05 - val_mse: 1.6943e-05 - val_mae: 0.0028\n",
            "Epoch 164/4000\n",
            "795/795 [==============================] - 7s 9ms/step - loss: 1.2194e-05 - mse: 1.2194e-05 - mae: 0.0021 - val_loss: 1.2437e-05 - val_mse: 1.2437e-05 - val_mae: 0.0021\n",
            "Epoch 165/4000\n",
            "795/795 [==============================] - 7s 9ms/step - loss: 1.2327e-05 - mse: 1.2327e-05 - mae: 0.0022 - val_loss: 1.5948e-05 - val_mse: 1.5948e-05 - val_mae: 0.0028\n",
            "Epoch 166/4000\n",
            "795/795 [==============================] - 7s 9ms/step - loss: 1.2066e-05 - mse: 1.2066e-05 - mae: 0.0021 - val_loss: 1.0756e-05 - val_mse: 1.0756e-05 - val_mae: 0.0018\n",
            "Epoch 167/4000\n",
            "795/795 [==============================] - 7s 9ms/step - loss: 1.2544e-05 - mse: 1.2544e-05 - mae: 0.0022 - val_loss: 1.1477e-05 - val_mse: 1.1477e-05 - val_mae: 0.0019\n",
            "Epoch 168/4000\n",
            "795/795 [==============================] - 7s 9ms/step - loss: 1.2108e-05 - mse: 1.2108e-05 - mae: 0.0021 - val_loss: 1.0823e-05 - val_mse: 1.0823e-05 - val_mae: 0.0018\n",
            "Epoch 169/4000\n",
            "795/795 [==============================] - 7s 9ms/step - loss: 1.2244e-05 - mse: 1.2244e-05 - mae: 0.0021 - val_loss: 1.1722e-05 - val_mse: 1.1722e-05 - val_mae: 0.0021\n",
            "Epoch 170/4000\n",
            "795/795 [==============================] - 7s 9ms/step - loss: 1.2297e-05 - mse: 1.2297e-05 - mae: 0.0022 - val_loss: 1.2673e-05 - val_mse: 1.2673e-05 - val_mae: 0.0020\n",
            "Epoch 171/4000\n",
            "795/795 [==============================] - 7s 9ms/step - loss: 1.2533e-05 - mse: 1.2533e-05 - mae: 0.0022 - val_loss: 1.1932e-05 - val_mse: 1.1932e-05 - val_mae: 0.0021\n",
            "Epoch 172/4000\n",
            "795/795 [==============================] - 7s 9ms/step - loss: 1.2124e-05 - mse: 1.2124e-05 - mae: 0.0021 - val_loss: 1.1564e-05 - val_mse: 1.1564e-05 - val_mae: 0.0020\n",
            "Epoch 173/4000\n",
            "795/795 [==============================] - 7s 9ms/step - loss: 1.2374e-05 - mse: 1.2374e-05 - mae: 0.0022 - val_loss: 1.0973e-05 - val_mse: 1.0973e-05 - val_mae: 0.0019\n",
            "Epoch 174/4000\n",
            "795/795 [==============================] - 7s 9ms/step - loss: 1.1978e-05 - mse: 1.1978e-05 - mae: 0.0021 - val_loss: 1.2319e-05 - val_mse: 1.2319e-05 - val_mae: 0.0022\n",
            "Epoch 175/4000\n",
            "795/795 [==============================] - 7s 9ms/step - loss: 1.2410e-05 - mse: 1.2410e-05 - mae: 0.0022 - val_loss: 1.4452e-05 - val_mse: 1.4452e-05 - val_mae: 0.0024\n",
            "Epoch 176/4000\n",
            "795/795 [==============================] - 7s 9ms/step - loss: 1.1677e-05 - mse: 1.1677e-05 - mae: 0.0021 - val_loss: 1.0838e-05 - val_mse: 1.0838e-05 - val_mae: 0.0019\n",
            "Epoch 177/4000\n",
            "795/795 [==============================] - 7s 9ms/step - loss: 1.2427e-05 - mse: 1.2427e-05 - mae: 0.0022 - val_loss: 1.2837e-05 - val_mse: 1.2837e-05 - val_mae: 0.0023\n",
            "Epoch 178/4000\n",
            "795/795 [==============================] - 7s 9ms/step - loss: 1.2104e-05 - mse: 1.2104e-05 - mae: 0.0022 - val_loss: 1.1761e-05 - val_mse: 1.1761e-05 - val_mae: 0.0019\n",
            "Epoch 179/4000\n",
            "795/795 [==============================] - 7s 9ms/step - loss: 1.1692e-05 - mse: 1.1692e-05 - mae: 0.0021 - val_loss: 1.0002e-05 - val_mse: 1.0002e-05 - val_mae: 0.0017\n",
            "Epoch 180/4000\n",
            "795/795 [==============================] - 7s 9ms/step - loss: 1.2204e-05 - mse: 1.2204e-05 - mae: 0.0022 - val_loss: 1.4513e-05 - val_mse: 1.4513e-05 - val_mae: 0.0025\n",
            "Epoch 181/4000\n",
            "795/795 [==============================] - 7s 9ms/step - loss: 1.1908e-05 - mse: 1.1908e-05 - mae: 0.0021 - val_loss: 1.3260e-05 - val_mse: 1.3260e-05 - val_mae: 0.0022\n",
            "Epoch 182/4000\n",
            "795/795 [==============================] - 7s 9ms/step - loss: 1.2081e-05 - mse: 1.2081e-05 - mae: 0.0022 - val_loss: 1.2628e-05 - val_mse: 1.2628e-05 - val_mae: 0.0021\n",
            "Epoch 183/4000\n",
            "795/795 [==============================] - 7s 9ms/step - loss: 1.1953e-05 - mse: 1.1953e-05 - mae: 0.0021 - val_loss: 1.1332e-05 - val_mse: 1.1332e-05 - val_mae: 0.0020\n",
            "Epoch 184/4000\n",
            "795/795 [==============================] - 7s 9ms/step - loss: 1.1704e-05 - mse: 1.1704e-05 - mae: 0.0021 - val_loss: 2.1694e-05 - val_mse: 2.1694e-05 - val_mae: 0.0034\n",
            "Epoch 185/4000\n",
            "795/795 [==============================] - 7s 9ms/step - loss: 1.1675e-05 - mse: 1.1675e-05 - mae: 0.0021 - val_loss: 1.2606e-05 - val_mse: 1.2606e-05 - val_mae: 0.0023\n",
            "Epoch 186/4000\n",
            "795/795 [==============================] - 7s 9ms/step - loss: 1.1819e-05 - mse: 1.1819e-05 - mae: 0.0021 - val_loss: 1.8226e-05 - val_mse: 1.8226e-05 - val_mae: 0.0030\n",
            "Epoch 187/4000\n",
            "795/795 [==============================] - 7s 9ms/step - loss: 1.1820e-05 - mse: 1.1820e-05 - mae: 0.0021 - val_loss: 1.1538e-05 - val_mse: 1.1538e-05 - val_mae: 0.0021\n",
            "Epoch 188/4000\n",
            "795/795 [==============================] - 7s 9ms/step - loss: 1.1889e-05 - mse: 1.1889e-05 - mae: 0.0021 - val_loss: 1.2695e-05 - val_mse: 1.2695e-05 - val_mae: 0.0023\n",
            "Epoch 189/4000\n",
            "795/795 [==============================] - 7s 9ms/step - loss: 1.1622e-05 - mse: 1.1622e-05 - mae: 0.0021 - val_loss: 1.1863e-05 - val_mse: 1.1863e-05 - val_mae: 0.0019\n",
            "Epoch 190/4000\n",
            "795/795 [==============================] - 7s 9ms/step - loss: 1.1873e-05 - mse: 1.1873e-05 - mae: 0.0021 - val_loss: 1.1425e-05 - val_mse: 1.1425e-05 - val_mae: 0.0020\n",
            "Epoch 191/4000\n",
            "795/795 [==============================] - 7s 9ms/step - loss: 1.1578e-05 - mse: 1.1578e-05 - mae: 0.0021 - val_loss: 1.5029e-05 - val_mse: 1.5029e-05 - val_mae: 0.0027\n",
            "Epoch 192/4000\n",
            "795/795 [==============================] - 7s 9ms/step - loss: 1.1576e-05 - mse: 1.1576e-05 - mae: 0.0021 - val_loss: 1.4811e-05 - val_mse: 1.4811e-05 - val_mae: 0.0026\n",
            "Epoch 193/4000\n",
            "795/795 [==============================] - 7s 9ms/step - loss: 1.1679e-05 - mse: 1.1679e-05 - mae: 0.0021 - val_loss: 1.0834e-05 - val_mse: 1.0834e-05 - val_mae: 0.0018\n",
            "Epoch 194/4000\n",
            "795/795 [==============================] - 7s 9ms/step - loss: 1.1673e-05 - mse: 1.1673e-05 - mae: 0.0021 - val_loss: 1.1669e-05 - val_mse: 1.1669e-05 - val_mae: 0.0021\n",
            "Epoch 195/4000\n",
            "795/795 [==============================] - 7s 9ms/step - loss: 1.1483e-05 - mse: 1.1483e-05 - mae: 0.0021 - val_loss: 1.0994e-05 - val_mse: 1.0994e-05 - val_mae: 0.0020\n",
            "Epoch 196/4000\n",
            "795/795 [==============================] - 7s 9ms/step - loss: 1.1579e-05 - mse: 1.1579e-05 - mae: 0.0021 - val_loss: 1.2131e-05 - val_mse: 1.2131e-05 - val_mae: 0.0022\n",
            "Epoch 197/4000\n",
            "795/795 [==============================] - 7s 9ms/step - loss: 1.1562e-05 - mse: 1.1562e-05 - mae: 0.0021 - val_loss: 1.2611e-05 - val_mse: 1.2611e-05 - val_mae: 0.0023\n",
            "Epoch 198/4000\n",
            "795/795 [==============================] - 7s 9ms/step - loss: 1.1149e-05 - mse: 1.1149e-05 - mae: 0.0020 - val_loss: 1.0050e-05 - val_mse: 1.0050e-05 - val_mae: 0.0018\n",
            "Epoch 199/4000\n",
            "795/795 [==============================] - 7s 9ms/step - loss: 1.1582e-05 - mse: 1.1582e-05 - mae: 0.0021 - val_loss: 1.1940e-05 - val_mse: 1.1940e-05 - val_mae: 0.0021\n",
            "Epoch 200/4000\n",
            "795/795 [==============================] - 7s 9ms/step - loss: 1.1335e-05 - mse: 1.1335e-05 - mae: 0.0021 - val_loss: 1.2213e-05 - val_mse: 1.2213e-05 - val_mae: 0.0021\n",
            "Epoch 201/4000\n",
            "795/795 [==============================] - 7s 9ms/step - loss: 1.1333e-05 - mse: 1.1333e-05 - mae: 0.0021 - val_loss: 1.2191e-05 - val_mse: 1.2191e-05 - val_mae: 0.0022\n",
            "Epoch 202/4000\n",
            "795/795 [==============================] - 7s 9ms/step - loss: 1.1208e-05 - mse: 1.1208e-05 - mae: 0.0020 - val_loss: 1.3960e-05 - val_mse: 1.3960e-05 - val_mae: 0.0023\n",
            "Epoch 203/4000\n",
            "795/795 [==============================] - 7s 9ms/step - loss: 1.1230e-05 - mse: 1.1230e-05 - mae: 0.0020 - val_loss: 1.0735e-05 - val_mse: 1.0735e-05 - val_mae: 0.0020\n",
            "Epoch 204/4000\n",
            "795/795 [==============================] - 7s 9ms/step - loss: 1.1361e-05 - mse: 1.1361e-05 - mae: 0.0021 - val_loss: 9.7400e-06 - val_mse: 9.7400e-06 - val_mae: 0.0017\n",
            "Epoch 205/4000\n",
            "795/795 [==============================] - 7s 9ms/step - loss: 1.1338e-05 - mse: 1.1338e-05 - mae: 0.0021 - val_loss: 1.0927e-05 - val_mse: 1.0927e-05 - val_mae: 0.0020\n",
            "Epoch 206/4000\n",
            "795/795 [==============================] - 7s 9ms/step - loss: 1.0958e-05 - mse: 1.0958e-05 - mae: 0.0020 - val_loss: 9.6379e-06 - val_mse: 9.6379e-06 - val_mae: 0.0016\n",
            "Epoch 207/4000\n",
            "795/795 [==============================] - 7s 9ms/step - loss: 1.1680e-05 - mse: 1.1680e-05 - mae: 0.0021 - val_loss: 1.1152e-05 - val_mse: 1.1152e-05 - val_mae: 0.0020\n",
            "Epoch 208/4000\n",
            "795/795 [==============================] - 7s 9ms/step - loss: 1.0934e-05 - mse: 1.0934e-05 - mae: 0.0020 - val_loss: 1.0564e-05 - val_mse: 1.0564e-05 - val_mae: 0.0018\n",
            "Epoch 209/4000\n",
            "795/795 [==============================] - 7s 9ms/step - loss: 1.1208e-05 - mse: 1.1208e-05 - mae: 0.0021 - val_loss: 1.3010e-05 - val_mse: 1.3010e-05 - val_mae: 0.0023\n",
            "Epoch 210/4000\n",
            "795/795 [==============================] - 7s 9ms/step - loss: 1.1513e-05 - mse: 1.1513e-05 - mae: 0.0021 - val_loss: 1.0167e-05 - val_mse: 1.0167e-05 - val_mae: 0.0018\n",
            "Epoch 211/4000\n",
            "795/795 [==============================] - 7s 9ms/step - loss: 1.0989e-05 - mse: 1.0989e-05 - mae: 0.0020 - val_loss: 1.0910e-05 - val_mse: 1.0910e-05 - val_mae: 0.0021\n",
            "Epoch 212/4000\n",
            "795/795 [==============================] - 7s 9ms/step - loss: 1.1073e-05 - mse: 1.1073e-05 - mae: 0.0020 - val_loss: 1.0360e-05 - val_mse: 1.0360e-05 - val_mae: 0.0019\n",
            "Epoch 213/4000\n",
            "795/795 [==============================] - 7s 9ms/step - loss: 1.0868e-05 - mse: 1.0868e-05 - mae: 0.0020 - val_loss: 9.5766e-06 - val_mse: 9.5766e-06 - val_mae: 0.0017\n",
            "Epoch 214/4000\n",
            "795/795 [==============================] - 7s 9ms/step - loss: 1.1134e-05 - mse: 1.1134e-05 - mae: 0.0021 - val_loss: 1.0715e-05 - val_mse: 1.0715e-05 - val_mae: 0.0018\n",
            "Epoch 215/4000\n",
            "795/795 [==============================] - 7s 9ms/step - loss: 1.1048e-05 - mse: 1.1048e-05 - mae: 0.0020 - val_loss: 1.0619e-05 - val_mse: 1.0619e-05 - val_mae: 0.0018\n",
            "Epoch 216/4000\n",
            "795/795 [==============================] - 7s 9ms/step - loss: 1.0991e-05 - mse: 1.0991e-05 - mae: 0.0020 - val_loss: 1.0118e-05 - val_mse: 1.0118e-05 - val_mae: 0.0017\n",
            "Epoch 217/4000\n",
            "795/795 [==============================] - 7s 9ms/step - loss: 1.0996e-05 - mse: 1.0996e-05 - mae: 0.0020 - val_loss: 9.5117e-06 - val_mse: 9.5117e-06 - val_mae: 0.0016\n",
            "Epoch 218/4000\n",
            "795/795 [==============================] - 7s 9ms/step - loss: 1.0702e-05 - mse: 1.0702e-05 - mae: 0.0020 - val_loss: 1.0236e-05 - val_mse: 1.0236e-05 - val_mae: 0.0019\n",
            "Epoch 219/4000\n",
            "795/795 [==============================] - 7s 9ms/step - loss: 1.0782e-05 - mse: 1.0782e-05 - mae: 0.0020 - val_loss: 9.4537e-06 - val_mse: 9.4537e-06 - val_mae: 0.0016\n",
            "Epoch 220/4000\n",
            "795/795 [==============================] - 7s 9ms/step - loss: 1.0876e-05 - mse: 1.0876e-05 - mae: 0.0020 - val_loss: 1.0648e-05 - val_mse: 1.0648e-05 - val_mae: 0.0019\n",
            "Epoch 221/4000\n",
            "795/795 [==============================] - 7s 9ms/step - loss: 1.0563e-05 - mse: 1.0563e-05 - mae: 0.0020 - val_loss: 1.3569e-05 - val_mse: 1.3569e-05 - val_mae: 0.0026\n",
            "Epoch 222/4000\n",
            "795/795 [==============================] - 7s 9ms/step - loss: 1.0736e-05 - mse: 1.0736e-05 - mae: 0.0020 - val_loss: 1.4041e-05 - val_mse: 1.4041e-05 - val_mae: 0.0026\n",
            "Epoch 223/4000\n",
            "795/795 [==============================] - 7s 9ms/step - loss: 1.0807e-05 - mse: 1.0807e-05 - mae: 0.0020 - val_loss: 9.7026e-06 - val_mse: 9.7026e-06 - val_mae: 0.0017\n",
            "Epoch 224/4000\n",
            "795/795 [==============================] - 7s 9ms/step - loss: 1.0636e-05 - mse: 1.0636e-05 - mae: 0.0020 - val_loss: 1.0153e-05 - val_mse: 1.0153e-05 - val_mae: 0.0018\n",
            "Epoch 225/4000\n",
            "795/795 [==============================] - 7s 9ms/step - loss: 1.0753e-05 - mse: 1.0753e-05 - mae: 0.0020 - val_loss: 1.3252e-05 - val_mse: 1.3252e-05 - val_mae: 0.0026\n",
            "Epoch 226/4000\n",
            "795/795 [==============================] - 7s 9ms/step - loss: 1.0431e-05 - mse: 1.0431e-05 - mae: 0.0020 - val_loss: 9.6467e-06 - val_mse: 9.6467e-06 - val_mae: 0.0018\n",
            "Epoch 227/4000\n",
            "795/795 [==============================] - 7s 9ms/step - loss: 1.0385e-05 - mse: 1.0385e-05 - mae: 0.0020 - val_loss: 9.9076e-06 - val_mse: 9.9076e-06 - val_mae: 0.0019\n",
            "Epoch 228/4000\n",
            "795/795 [==============================] - 7s 9ms/step - loss: 1.0611e-05 - mse: 1.0611e-05 - mae: 0.0020 - val_loss: 9.8745e-06 - val_mse: 9.8745e-06 - val_mae: 0.0017\n",
            "Epoch 229/4000\n",
            "795/795 [==============================] - 7s 9ms/step - loss: 1.0882e-05 - mse: 1.0882e-05 - mae: 0.0021 - val_loss: 1.1404e-05 - val_mse: 1.1404e-05 - val_mae: 0.0021\n",
            "Epoch 230/4000\n",
            "795/795 [==============================] - 7s 9ms/step - loss: 1.0452e-05 - mse: 1.0452e-05 - mae: 0.0020 - val_loss: 1.0018e-05 - val_mse: 1.0018e-05 - val_mae: 0.0018\n",
            "Epoch 231/4000\n",
            "795/795 [==============================] - 7s 9ms/step - loss: 1.0454e-05 - mse: 1.0454e-05 - mae: 0.0020 - val_loss: 1.0644e-05 - val_mse: 1.0644e-05 - val_mae: 0.0019\n",
            "Epoch 232/4000\n",
            "795/795 [==============================] - 7s 9ms/step - loss: 1.0310e-05 - mse: 1.0310e-05 - mae: 0.0020 - val_loss: 1.1527e-05 - val_mse: 1.1527e-05 - val_mae: 0.0021\n",
            "Epoch 233/4000\n",
            "795/795 [==============================] - 7s 9ms/step - loss: 1.0324e-05 - mse: 1.0324e-05 - mae: 0.0020 - val_loss: 9.2417e-06 - val_mse: 9.2417e-06 - val_mae: 0.0017\n",
            "Epoch 234/4000\n",
            "795/795 [==============================] - 7s 9ms/step - loss: 1.0428e-05 - mse: 1.0428e-05 - mae: 0.0020 - val_loss: 1.2419e-05 - val_mse: 1.2419e-05 - val_mae: 0.0024\n",
            "Epoch 235/4000\n",
            "795/795 [==============================] - 7s 9ms/step - loss: 1.0020e-05 - mse: 1.0020e-05 - mae: 0.0019 - val_loss: 1.0023e-05 - val_mse: 1.0023e-05 - val_mae: 0.0019\n",
            "Epoch 236/4000\n",
            "795/795 [==============================] - 7s 9ms/step - loss: 1.0458e-05 - mse: 1.0458e-05 - mae: 0.0020 - val_loss: 9.3400e-06 - val_mse: 9.3400e-06 - val_mae: 0.0018\n",
            "Epoch 237/4000\n",
            "795/795 [==============================] - 7s 9ms/step - loss: 1.0345e-05 - mse: 1.0345e-05 - mae: 0.0020 - val_loss: 1.9408e-05 - val_mse: 1.9408e-05 - val_mae: 0.0034\n",
            "Epoch 238/4000\n",
            "795/795 [==============================] - 7s 9ms/step - loss: 1.0208e-05 - mse: 1.0208e-05 - mae: 0.0020 - val_loss: 9.2747e-06 - val_mse: 9.2747e-06 - val_mae: 0.0016\n",
            "Epoch 239/4000\n",
            "795/795 [==============================] - 7s 9ms/step - loss: 1.0172e-05 - mse: 1.0172e-05 - mae: 0.0019 - val_loss: 8.8998e-06 - val_mse: 8.8998e-06 - val_mae: 0.0016\n",
            "Epoch 240/4000\n",
            "795/795 [==============================] - 7s 9ms/step - loss: 1.0545e-05 - mse: 1.0545e-05 - mae: 0.0020 - val_loss: 9.1786e-06 - val_mse: 9.1786e-06 - val_mae: 0.0016\n",
            "Epoch 241/4000\n",
            "795/795 [==============================] - 7s 9ms/step - loss: 1.0189e-05 - mse: 1.0189e-05 - mae: 0.0020 - val_loss: 1.0408e-05 - val_mse: 1.0408e-05 - val_mae: 0.0020\n",
            "Epoch 242/4000\n",
            "795/795 [==============================] - 7s 9ms/step - loss: 1.0070e-05 - mse: 1.0071e-05 - mae: 0.0020 - val_loss: 9.4779e-06 - val_mse: 9.4779e-06 - val_mae: 0.0018\n",
            "Epoch 243/4000\n",
            "795/795 [==============================] - 7s 9ms/step - loss: 1.0055e-05 - mse: 1.0055e-05 - mae: 0.0019 - val_loss: 1.1890e-05 - val_mse: 1.1890e-05 - val_mae: 0.0022\n",
            "Epoch 244/4000\n",
            "795/795 [==============================] - 7s 9ms/step - loss: 1.0065e-05 - mse: 1.0065e-05 - mae: 0.0019 - val_loss: 1.2635e-05 - val_mse: 1.2635e-05 - val_mae: 0.0023\n",
            "Epoch 245/4000\n",
            "795/795 [==============================] - 7s 9ms/step - loss: 1.0364e-05 - mse: 1.0364e-05 - mae: 0.0020 - val_loss: 1.0330e-05 - val_mse: 1.0330e-05 - val_mae: 0.0020\n",
            "Epoch 246/4000\n",
            "795/795 [==============================] - 7s 9ms/step - loss: 9.7962e-06 - mse: 9.7962e-06 - mae: 0.0019 - val_loss: 1.7381e-05 - val_mse: 1.7381e-05 - val_mae: 0.0029\n",
            "Epoch 247/4000\n",
            "795/795 [==============================] - 7s 9ms/step - loss: 1.0271e-05 - mse: 1.0271e-05 - mae: 0.0020 - val_loss: 1.1392e-05 - val_mse: 1.1392e-05 - val_mae: 0.0020\n",
            "Epoch 248/4000\n",
            "795/795 [==============================] - 7s 9ms/step - loss: 1.0342e-05 - mse: 1.0342e-05 - mae: 0.0020 - val_loss: 1.0008e-05 - val_mse: 1.0008e-05 - val_mae: 0.0019\n",
            "Epoch 249/4000\n",
            "795/795 [==============================] - 7s 9ms/step - loss: 9.9602e-06 - mse: 9.9602e-06 - mae: 0.0019 - val_loss: 9.2221e-06 - val_mse: 9.2221e-06 - val_mae: 0.0018\n",
            "Epoch 250/4000\n",
            "795/795 [==============================] - 7s 9ms/step - loss: 9.8683e-06 - mse: 9.8683e-06 - mae: 0.0019 - val_loss: 8.7476e-06 - val_mse: 8.7476e-06 - val_mae: 0.0016\n",
            "Epoch 251/4000\n",
            "795/795 [==============================] - 7s 9ms/step - loss: 9.6852e-06 - mse: 9.6852e-06 - mae: 0.0019 - val_loss: 9.5596e-06 - val_mse: 9.5596e-06 - val_mae: 0.0017\n",
            "Epoch 252/4000\n",
            "795/795 [==============================] - 7s 9ms/step - loss: 9.9448e-06 - mse: 9.9448e-06 - mae: 0.0019 - val_loss: 9.6964e-06 - val_mse: 9.6964e-06 - val_mae: 0.0019\n",
            "Epoch 253/4000\n",
            "795/795 [==============================] - 7s 9ms/step - loss: 9.6867e-06 - mse: 9.6867e-06 - mae: 0.0019 - val_loss: 8.6909e-06 - val_mse: 8.6909e-06 - val_mae: 0.0017\n",
            "Epoch 254/4000\n",
            "795/795 [==============================] - 7s 9ms/step - loss: 9.9344e-06 - mse: 9.9344e-06 - mae: 0.0019 - val_loss: 9.5654e-06 - val_mse: 9.5654e-06 - val_mae: 0.0018\n",
            "Epoch 255/4000\n",
            "795/795 [==============================] - 7s 9ms/step - loss: 9.6157e-06 - mse: 9.6157e-06 - mae: 0.0019 - val_loss: 1.0027e-05 - val_mse: 1.0027e-05 - val_mae: 0.0018\n",
            "Epoch 256/4000\n",
            "795/795 [==============================] - 7s 9ms/step - loss: 9.6272e-06 - mse: 9.6272e-06 - mae: 0.0019 - val_loss: 1.1885e-05 - val_mse: 1.1885e-05 - val_mae: 0.0021\n",
            "Epoch 257/4000\n",
            "795/795 [==============================] - 7s 9ms/step - loss: 1.0075e-05 - mse: 1.0075e-05 - mae: 0.0020 - val_loss: 8.8536e-06 - val_mse: 8.8536e-06 - val_mae: 0.0017\n",
            "Epoch 258/4000\n",
            "795/795 [==============================] - 7s 9ms/step - loss: 9.8909e-06 - mse: 9.8909e-06 - mae: 0.0019 - val_loss: 1.1443e-05 - val_mse: 1.1443e-05 - val_mae: 0.0023\n",
            "Epoch 259/4000\n",
            "795/795 [==============================] - 7s 9ms/step - loss: 9.9889e-06 - mse: 9.9889e-06 - mae: 0.0020 - val_loss: 1.3403e-05 - val_mse: 1.3403e-05 - val_mae: 0.0027\n",
            "Epoch 260/4000\n",
            "795/795 [==============================] - 7s 9ms/step - loss: 9.7529e-06 - mse: 9.7529e-06 - mae: 0.0019 - val_loss: 9.4869e-06 - val_mse: 9.4869e-06 - val_mae: 0.0018\n",
            "Epoch 261/4000\n",
            "795/795 [==============================] - 7s 9ms/step - loss: 9.5478e-06 - mse: 9.5478e-06 - mae: 0.0019 - val_loss: 1.0304e-05 - val_mse: 1.0304e-05 - val_mae: 0.0020\n",
            "Epoch 262/4000\n",
            "795/795 [==============================] - 7s 9ms/step - loss: 1.0015e-05 - mse: 1.0015e-05 - mae: 0.0020 - val_loss: 1.0929e-05 - val_mse: 1.0929e-05 - val_mae: 0.0022\n",
            "Epoch 263/4000\n",
            "795/795 [==============================] - 7s 9ms/step - loss: 9.5844e-06 - mse: 9.5844e-06 - mae: 0.0019 - val_loss: 1.2727e-05 - val_mse: 1.2727e-05 - val_mae: 0.0024\n",
            "Epoch 264/4000\n",
            "795/795 [==============================] - 7s 9ms/step - loss: 1.0095e-05 - mse: 1.0095e-05 - mae: 0.0020 - val_loss: 9.1359e-06 - val_mse: 9.1359e-06 - val_mae: 0.0017\n",
            "Epoch 265/4000\n",
            "795/795 [==============================] - 7s 9ms/step - loss: 9.6597e-06 - mse: 9.6597e-06 - mae: 0.0019 - val_loss: 9.2330e-06 - val_mse: 9.2330e-06 - val_mae: 0.0017\n",
            "Epoch 266/4000\n",
            "795/795 [==============================] - 7s 9ms/step - loss: 9.9777e-06 - mse: 9.9777e-06 - mae: 0.0020 - val_loss: 1.0032e-05 - val_mse: 1.0032e-05 - val_mae: 0.0019\n",
            "Epoch 267/4000\n",
            "795/795 [==============================] - 7s 9ms/step - loss: 9.5974e-06 - mse: 9.5974e-06 - mae: 0.0019 - val_loss: 1.0014e-05 - val_mse: 1.0014e-05 - val_mae: 0.0020\n",
            "Epoch 268/4000\n",
            "795/795 [==============================] - 7s 9ms/step - loss: 9.6073e-06 - mse: 9.6073e-06 - mae: 0.0019 - val_loss: 9.1666e-06 - val_mse: 9.1666e-06 - val_mae: 0.0018\n",
            "Epoch 269/4000\n",
            "795/795 [==============================] - 7s 9ms/step - loss: 9.4302e-06 - mse: 9.4302e-06 - mae: 0.0019 - val_loss: 1.4298e-05 - val_mse: 1.4298e-05 - val_mae: 0.0025\n",
            "Epoch 270/4000\n",
            "795/795 [==============================] - 7s 9ms/step - loss: 9.6093e-06 - mse: 9.6093e-06 - mae: 0.0019 - val_loss: 1.0928e-05 - val_mse: 1.0928e-05 - val_mae: 0.0021\n",
            "Epoch 271/4000\n",
            "795/795 [==============================] - 7s 9ms/step - loss: 9.7154e-06 - mse: 9.7154e-06 - mae: 0.0019 - val_loss: 8.7408e-06 - val_mse: 8.7408e-06 - val_mae: 0.0017\n",
            "Epoch 272/4000\n",
            "795/795 [==============================] - 7s 9ms/step - loss: 9.4982e-06 - mse: 9.4982e-06 - mae: 0.0019 - val_loss: 8.8648e-06 - val_mse: 8.8648e-06 - val_mae: 0.0016\n",
            "Epoch 273/4000\n",
            "795/795 [==============================] - 7s 9ms/step - loss: 9.6415e-06 - mse: 9.6415e-06 - mae: 0.0019 - val_loss: 1.0831e-05 - val_mse: 1.0831e-05 - val_mae: 0.0022\n",
            "Epoch 274/4000\n",
            "795/795 [==============================] - 7s 9ms/step - loss: 9.3379e-06 - mse: 9.3379e-06 - mae: 0.0018 - val_loss: 9.5931e-06 - val_mse: 9.5931e-06 - val_mae: 0.0018\n",
            "Epoch 275/4000\n",
            "795/795 [==============================] - 7s 9ms/step - loss: 9.4834e-06 - mse: 9.4835e-06 - mae: 0.0019 - val_loss: 1.0704e-05 - val_mse: 1.0704e-05 - val_mae: 0.0022\n",
            "Epoch 276/4000\n",
            "795/795 [==============================] - 7s 9ms/step - loss: 9.4481e-06 - mse: 9.4481e-06 - mae: 0.0019 - val_loss: 9.8249e-06 - val_mse: 9.8249e-06 - val_mae: 0.0019\n",
            "Epoch 277/4000\n",
            "795/795 [==============================] - 7s 9ms/step - loss: 9.4483e-06 - mse: 9.4483e-06 - mae: 0.0019 - val_loss: 8.7757e-06 - val_mse: 8.7757e-06 - val_mae: 0.0017\n",
            "Epoch 278/4000\n",
            "795/795 [==============================] - 7s 9ms/step - loss: 9.5812e-06 - mse: 9.5812e-06 - mae: 0.0019 - val_loss: 9.6431e-06 - val_mse: 9.6431e-06 - val_mae: 0.0020\n",
            "Epoch 279/4000\n",
            "795/795 [==============================] - 7s 9ms/step - loss: 9.3068e-06 - mse: 9.3067e-06 - mae: 0.0018 - val_loss: 9.3640e-06 - val_mse: 9.3640e-06 - val_mae: 0.0018\n",
            "Epoch 280/4000\n",
            "795/795 [==============================] - 7s 9ms/step - loss: 9.5611e-06 - mse: 9.5611e-06 - mae: 0.0019 - val_loss: 9.6850e-06 - val_mse: 9.6850e-06 - val_mae: 0.0019\n",
            "Epoch 281/4000\n",
            "795/795 [==============================] - 7s 9ms/step - loss: 9.2370e-06 - mse: 9.2370e-06 - mae: 0.0018 - val_loss: 8.4203e-06 - val_mse: 8.4203e-06 - val_mae: 0.0017\n",
            "Epoch 282/4000\n",
            "795/795 [==============================] - 7s 9ms/step - loss: 9.5235e-06 - mse: 9.5235e-06 - mae: 0.0019 - val_loss: 9.1475e-06 - val_mse: 9.1475e-06 - val_mae: 0.0017\n",
            "Epoch 283/4000\n",
            "795/795 [==============================] - 7s 9ms/step - loss: 9.1483e-06 - mse: 9.1483e-06 - mae: 0.0018 - val_loss: 1.4531e-05 - val_mse: 1.4531e-05 - val_mae: 0.0029\n",
            "Epoch 284/4000\n",
            "795/795 [==============================] - 7s 9ms/step - loss: 9.2314e-06 - mse: 9.2314e-06 - mae: 0.0019 - val_loss: 1.0080e-05 - val_mse: 1.0080e-05 - val_mae: 0.0020\n",
            "Epoch 285/4000\n",
            "795/795 [==============================] - 7s 9ms/step - loss: 9.5694e-06 - mse: 9.5694e-06 - mae: 0.0019 - val_loss: 9.5574e-06 - val_mse: 9.5574e-06 - val_mae: 0.0020\n",
            "Epoch 286/4000\n",
            "795/795 [==============================] - 7s 9ms/step - loss: 9.6545e-06 - mse: 9.6545e-06 - mae: 0.0019 - val_loss: 9.5456e-06 - val_mse: 9.5456e-06 - val_mae: 0.0018\n",
            "Epoch 287/4000\n",
            "795/795 [==============================] - 7s 9ms/step - loss: 9.2681e-06 - mse: 9.2681e-06 - mae: 0.0019 - val_loss: 9.5643e-06 - val_mse: 9.5643e-06 - val_mae: 0.0019\n",
            "Epoch 288/4000\n",
            "795/795 [==============================] - 7s 9ms/step - loss: 9.3158e-06 - mse: 9.3158e-06 - mae: 0.0019 - val_loss: 1.1077e-05 - val_mse: 1.1077e-05 - val_mae: 0.0022\n",
            "Epoch 289/4000\n",
            "795/795 [==============================] - 7s 9ms/step - loss: 9.4532e-06 - mse: 9.4532e-06 - mae: 0.0019 - val_loss: 8.8523e-06 - val_mse: 8.8523e-06 - val_mae: 0.0017\n",
            "Epoch 290/4000\n",
            "795/795 [==============================] - 7s 9ms/step - loss: 9.1247e-06 - mse: 9.1247e-06 - mae: 0.0018 - val_loss: 8.6542e-06 - val_mse: 8.6542e-06 - val_mae: 0.0017\n",
            "Epoch 291/4000\n",
            "795/795 [==============================] - 7s 9ms/step - loss: 9.3702e-06 - mse: 9.3702e-06 - mae: 0.0019 - val_loss: 9.4452e-06 - val_mse: 9.4452e-06 - val_mae: 0.0019\n",
            "Epoch 292/4000\n",
            "795/795 [==============================] - 7s 9ms/step - loss: 9.2041e-06 - mse: 9.2041e-06 - mae: 0.0018 - val_loss: 9.3047e-06 - val_mse: 9.3047e-06 - val_mae: 0.0018\n",
            "Epoch 293/4000\n",
            "795/795 [==============================] - 7s 9ms/step - loss: 9.1660e-06 - mse: 9.1660e-06 - mae: 0.0018 - val_loss: 1.0042e-05 - val_mse: 1.0042e-05 - val_mae: 0.0019\n",
            "Epoch 294/4000\n",
            "795/795 [==============================] - 7s 9ms/step - loss: 9.2220e-06 - mse: 9.2220e-06 - mae: 0.0019 - val_loss: 1.0637e-05 - val_mse: 1.0637e-05 - val_mae: 0.0021\n",
            "Epoch 295/4000\n",
            "795/795 [==============================] - 7s 9ms/step - loss: 9.0316e-06 - mse: 9.0316e-06 - mae: 0.0018 - val_loss: 9.7664e-06 - val_mse: 9.7664e-06 - val_mae: 0.0019\n",
            "Epoch 296/4000\n",
            "795/795 [==============================] - 7s 9ms/step - loss: 9.2522e-06 - mse: 9.2522e-06 - mae: 0.0019 - val_loss: 9.7816e-06 - val_mse: 9.7816e-06 - val_mae: 0.0019\n",
            "Epoch 297/4000\n",
            "795/795 [==============================] - 7s 9ms/step - loss: 9.0993e-06 - mse: 9.0993e-06 - mae: 0.0018 - val_loss: 1.1530e-05 - val_mse: 1.1530e-05 - val_mae: 0.0024\n",
            "Epoch 298/4000\n",
            "795/795 [==============================] - 7s 9ms/step - loss: 8.9865e-06 - mse: 8.9865e-06 - mae: 0.0018 - val_loss: 8.7809e-06 - val_mse: 8.7809e-06 - val_mae: 0.0017\n",
            "Epoch 299/4000\n",
            "795/795 [==============================] - 7s 9ms/step - loss: 9.2759e-06 - mse: 9.2759e-06 - mae: 0.0019 - val_loss: 1.0464e-05 - val_mse: 1.0464e-05 - val_mae: 0.0022\n",
            "Epoch 300/4000\n",
            "795/795 [==============================] - 7s 9ms/step - loss: 9.0949e-06 - mse: 9.0949e-06 - mae: 0.0018 - val_loss: 8.6792e-06 - val_mse: 8.6792e-06 - val_mae: 0.0017\n",
            "Epoch 301/4000\n",
            "795/795 [==============================] - 7s 9ms/step - loss: 8.9749e-06 - mse: 8.9749e-06 - mae: 0.0018 - val_loss: 1.1194e-05 - val_mse: 1.1194e-05 - val_mae: 0.0021\n",
            "Epoch 302/4000\n",
            "795/795 [==============================] - 7s 9ms/step - loss: 8.9489e-06 - mse: 8.9489e-06 - mae: 0.0018 - val_loss: 8.8222e-06 - val_mse: 8.8222e-06 - val_mae: 0.0016\n",
            "Epoch 303/4000\n",
            "795/795 [==============================] - 7s 9ms/step - loss: 9.1377e-06 - mse: 9.1377e-06 - mae: 0.0019 - val_loss: 9.9319e-06 - val_mse: 9.9319e-06 - val_mae: 0.0021\n",
            "Epoch 304/4000\n",
            "795/795 [==============================] - 7s 9ms/step - loss: 9.0077e-06 - mse: 9.0077e-06 - mae: 0.0018 - val_loss: 1.0112e-05 - val_mse: 1.0112e-05 - val_mae: 0.0020\n",
            "Epoch 305/4000\n",
            "795/795 [==============================] - 7s 9ms/step - loss: 9.0430e-06 - mse: 9.0430e-06 - mae: 0.0018 - val_loss: 1.3048e-05 - val_mse: 1.3048e-05 - val_mae: 0.0026\n",
            "Epoch 306/4000\n",
            "795/795 [==============================] - 7s 9ms/step - loss: 8.9101e-06 - mse: 8.9101e-06 - mae: 0.0018 - val_loss: 1.1868e-05 - val_mse: 1.1868e-05 - val_mae: 0.0023\n",
            "Epoch 307/4000\n",
            "795/795 [==============================] - 7s 9ms/step - loss: 9.0515e-06 - mse: 9.0515e-06 - mae: 0.0018 - val_loss: 1.0025e-05 - val_mse: 1.0025e-05 - val_mae: 0.0021\n",
            "Epoch 308/4000\n",
            "795/795 [==============================] - 7s 9ms/step - loss: 8.9541e-06 - mse: 8.9541e-06 - mae: 0.0018 - val_loss: 8.6197e-06 - val_mse: 8.6197e-06 - val_mae: 0.0017\n",
            "Epoch 309/4000\n",
            "795/795 [==============================] - 7s 9ms/step - loss: 8.8803e-06 - mse: 8.8803e-06 - mae: 0.0018 - val_loss: 1.0532e-05 - val_mse: 1.0532e-05 - val_mae: 0.0020\n",
            "Epoch 310/4000\n",
            "795/795 [==============================] - 7s 9ms/step - loss: 8.8511e-06 - mse: 8.8511e-06 - mae: 0.0018 - val_loss: 9.4062e-06 - val_mse: 9.4062e-06 - val_mae: 0.0020\n",
            "Epoch 311/4000\n",
            "795/795 [==============================] - 7s 9ms/step - loss: 8.8474e-06 - mse: 8.8474e-06 - mae: 0.0018 - val_loss: 1.1196e-05 - val_mse: 1.1196e-05 - val_mae: 0.0021\n"
          ]
        },
        {
          "output_type": "execute_result",
          "data": {
            "text/plain": [
              "<keras.callbacks.History at 0x7f70e78d90a0>"
            ]
          },
          "metadata": {},
          "execution_count": 15
        }
      ]
    },
    {
      "cell_type": "code",
      "source": [
        "# save the model in tensorflow format\n",
        "model.save(model_save_path)"
      ],
      "metadata": {
        "id": "IJhvyvxjseTe",
        "colab": {
          "base_uri": "https://localhost:8080/"
        },
        "outputId": "af0f2ea9-326c-485f-e857-c8c0ac832b21"
      },
      "execution_count": 16,
      "outputs": [
        {
          "output_type": "stream",
          "name": "stderr",
          "text": [
            "WARNING:absl:Found untraced functions such as lstm_cell_layer_call_fn, lstm_cell_layer_call_and_return_conditional_losses, lstm_cell_1_layer_call_fn, lstm_cell_1_layer_call_and_return_conditional_losses while saving (showing 4 of 4). These functions will not be directly callable after loading.\n"
          ]
        }
      ]
    },
    {
      "cell_type": "markdown",
      "source": [
        "**EVALUATION OF MODEL'S PERFORMANCE**"
      ],
      "metadata": {
        "id": "JGlVfogd72Dj"
      }
    },
    {
      "cell_type": "markdown",
      "source": [
        "**TRAINING EVALUATION**"
      ],
      "metadata": {
        "id": "r7hqhBvC82Kr"
      }
    },
    {
      "cell_type": "code",
      "source": [
        "# Evaluate to get MSE error over training set\n",
        "y_pred = model.evaluate(scene_x_train,scene_y_train)"
      ],
      "metadata": {
        "colab": {
          "base_uri": "https://localhost:8080/"
        },
        "id": "EQ1Og2igGatJ",
        "outputId": "926a679d-7c9f-4d06-8b58-e6e2b0408d39"
      },
      "execution_count": 19,
      "outputs": [
        {
          "output_type": "stream",
          "name": "stdout",
          "text": [
            "994/994 [==============================] - 4s 4ms/step - loss: 8.0121e-06 - mse: 8.0121e-06 - mae: 0.0016\n"
          ]
        }
      ]
    },
    {
      "cell_type": "code",
      "source": [
        "# Predictions over training set (Normalized)\n",
        "\n",
        "results_train = model.predict(scene_x_train)\n",
        "\n",
        "# Uncomment if you are interested on calculate ADE over normalized trajectories\n",
        "#print('Error ADE training (normalized): ',calculate_error_batch(results,scene_y_train))"
      ],
      "metadata": {
        "id": "nPTzj7ikAhIX",
        "colab": {
          "base_uri": "https://localhost:8080/"
        },
        "outputId": "cbd2cc00-35da-4c68-9c1b-9a942f92b4a5"
      },
      "execution_count": 20,
      "outputs": [
        {
          "output_type": "stream",
          "name": "stdout",
          "text": [
            "994/994 [==============================] - 4s 3ms/step\n"
          ]
        }
      ]
    },
    {
      "cell_type": "markdown",
      "source": [
        "**DE-NORMALIZATION EVALUATION**"
      ],
      "metadata": {
        "id": "zEMcE6yA89rw"
      }
    },
    {
      "cell_type": "code",
      "source": [
        "# De-normalization to calculate metrics in meters scale\n",
        "\n",
        "def denormalize_x_y_r(scene_x_train,scene_y_train,results,scaler_reload_path):\n",
        "\n",
        "    scene_x_train_inv = tf.reshape(scene_x_train, [-1, in_features]).numpy()\n",
        "    scene_y_train_inv = tf.reshape(scene_y_train, [-1, out_features]).numpy()\n",
        "    results_inv = np.reshape(results, (-1,out_features))\n",
        "\n",
        "    # Reload Original Scaler Train with all features\n",
        "    scaler =  pd.read_pickle(scaler_reload_path) \n",
        "\n",
        "    # Create a new scaler only for x,y features, because the first scaler contains all the input features\n",
        "    scaler_feat = MinMaxScaler()\n",
        "    scaler_feat.n_features_in=out_features\n",
        "    scaler_feat.min_,scaler_feat.scale_= [scaler.min_[0],scaler.min_[1]],[scaler.scale_[0],scaler.scale_[1]]\n",
        "\n",
        "    results_inv = scaler_feat.inverse_transform(results_inv)\n",
        "    scene_x_train_inv = scaler.inverse_transform(scene_x_train_inv)   #Attention to make use of original full scaler with 5 features\n",
        "    scene_y_train_inv = scaler_feat.inverse_transform(scene_y_train_inv)\n",
        "\n",
        "    results_inv = np.reshape(results_inv, (-1,out_timesteps,out_features)) #n_samples,timesteps=10,out features=2\n",
        "    scene_y_train_inv = np.reshape(scene_y_train_inv,(-1,out_timesteps,out_features)) #n_samples,timesteps=10,out features=2\n",
        "    scene_x_train_inv = np.reshape(scene_x_train_inv, (-1,in_timesteps,in_features))  #Attention to use the orginal 5 features from original X\n",
        "\n",
        "    return scene_x_train_inv, scene_y_train_inv, results_inv"
      ],
      "metadata": {
        "id": "3TDP_pLbxQAP"
      },
      "execution_count": 21,
      "outputs": []
    },
    {
      "cell_type": "code",
      "source": [
        "scene_x_train_inv,scene_y_train_inv,results_train_inv = denormalize_x_y_r(scene_x_train,scene_y_train,results_train,scaler_reload_path)"
      ],
      "metadata": {
        "id": "NnFkGY5fCfkT"
      },
      "execution_count": 22,
      "outputs": []
    },
    {
      "cell_type": "code",
      "source": [
        "print(\"Train error ADE(m): \",calculate_error_batch(results_train_inv,scene_y_train_inv)) # Error in meters (De-normalized)"
      ],
      "metadata": {
        "colab": {
          "base_uri": "https://localhost:8080/"
        },
        "id": "UDg7NYcXywQ4",
        "outputId": "472c50e2-ec5c-4a0e-ea62-1c7930133f81"
      },
      "execution_count": 23,
      "outputs": [
        {
          "output_type": "stream",
          "name": "stdout",
          "text": [
            "Train error ADE(m):  0.25120450291644286\n"
          ]
        }
      ]
    },
    {
      "cell_type": "code",
      "source": [
        "# Examples of predictions over training, (note the equal graphs for norm and de-norm trajectories)\n",
        "print_single_trajectory(scene_x_train,scene_y_train, results_train,3,20)  # n,index"
      ],
      "metadata": {
        "colab": {
          "base_uri": "https://localhost:8080/",
          "height": 251
        },
        "id": "ycXEVo7I7xDN",
        "outputId": "3cd73ed6-1d90-4bb0-b40e-26af480e05f6"
      },
      "execution_count": 50,
      "outputs": [
        {
          "output_type": "stream",
          "name": "stdout",
          "text": [
            "ADE error:  0.0014430189788611552\n",
            "ADE error:  0.0010429004858223123\n",
            "ADE error:  0.001373807835962465\n"
          ]
        },
        {
          "output_type": "display_data",
          "data": {
            "text/plain": [
              "<Figure size 2880x360 with 3 Axes>"
            ],
            "image/png": "[encoded data removed]"
          },
          "metadata": {
            "needs_background": "light"
          }
        }
      ]
    },
    {
      "cell_type": "code",
      "source": [
        "print_single_trajectory(scene_x_train_inv,scene_y_train_inv, results_train_inv,3,20) # n,index"
      ],
      "metadata": {
        "colab": {
          "base_uri": "https://localhost:8080/",
          "height": 254
        },
        "id": "TPJ0lJWxzQGj",
        "outputId": "3bc1c589-14c6-4aa9-d15d-9b29d42c3876"
      },
      "execution_count": 51,
      "outputs": [
        {
          "output_type": "stream",
          "name": "stdout",
          "text": [
            "ADE error:  0.15089316330081212\n",
            "ADE error:  0.11254138211587193\n",
            "ADE error:  0.13939849017770264\n"
          ]
        },
        {
          "output_type": "display_data",
          "data": {
            "text/plain": [
              "<Figure size 2880x360 with 3 Axes>"
            ],
            "image/png": "[encoded data removed]"
          },
          "metadata": {
            "needs_background": "light"
          }
        }
      ]
    },
    {
      "cell_type": "code",
      "source": [
        "# Write train predictions to file\n",
        "def write_to_csv(scene_x_train_inv,results_train_inv,dataframe_raw,csv_out_path):\n",
        "    scene_x_train_inv_xy = scene_x_train_inv[:, :, 0:2] # Take only x and y features\n",
        "    # add the ground truth to predicted trajectory\n",
        "    df_results = np.concatenate((scene_x_train_inv_xy, results_train_inv), axis=1)\n",
        "    # convert the 3D object to a 2D object\n",
        "    df_results = np.reshape(df_results,(-1,2))\n",
        "    df_results = pd.DataFrame(data = df_results,columns = ['x_','y_'])\n",
        "    # concatenate the predictions and ground truths with meta-data (case_id, track_id,label)\n",
        "    results_merged = pd.concat([dataframe_raw, df_results], axis=1,ignore_index=False)  # merge along columns\n",
        "\n",
        "    #write results to .csv file\n",
        "    results_merged.to_csv(csv_out_path,  index = False)\n",
        "\n",
        "    return results_merged"
      ],
      "metadata": {
        "id": "-oOALNbRHcze"
      },
      "execution_count": 26,
      "outputs": []
    },
    {
      "cell_type": "code",
      "source": [
        "# Write to .csv file\n",
        "r = write_to_csv(scene_x_train_inv, results_train_inv, dataframe_raw,csv_out_path_train)\n",
        "\n",
        "# writed datafreme to file\n",
        "r.describe()"
      ],
      "metadata": {
        "colab": {
          "base_uri": "https://localhost:8080/",
          "height": 364
        },
        "id": "ahRuH5suIDb1",
        "outputId": "29f56a81-36f6-4794-e1ec-4aa26885fedd"
      },
      "execution_count": 27,
      "outputs": [
        {
          "output_type": "execute_result",
          "data": {
            "text/plain": [
              "            case_id       track_id       frame_id   timestamp_ms  \\\n",
              "count  635560.00000  635560.000000  635560.000000  635560.000000   \n",
              "mean     2634.16096       7.163730      20.000000    2000.000000   \n",
              "std      1459.69109       4.006838      11.532572    1153.257167   \n",
              "min         1.00000       1.000000       1.000000     100.000000   \n",
              "25%      1356.00000       4.000000      10.500000    1050.000000   \n",
              "50%      2728.00000       7.000000      20.000000    2000.000000   \n",
              "75%      4006.00000      10.000000      29.500000    2950.000000   \n",
              "max      5163.00000      24.000000      39.000000    3900.000000   \n",
              "\n",
              "                   x              y            vx             vy  \\\n",
              "count  635560.000000  635560.000000  635560.00000  635560.000000   \n",
              "mean     1018.105851    1003.645663       1.60804      -0.084499   \n",
              "std        22.522870       9.534795       4.01982       2.041666   \n",
              "min       972.187000     964.518000     -15.58800     -14.836000   \n",
              "25%       998.217000    1000.439000      -0.02200      -0.212000   \n",
              "50%      1016.885000    1003.893000       0.21000      -0.017000   \n",
              "75%      1031.413000    1007.871000       2.85800       0.094000   \n",
              "max      1088.321000    1034.248000      17.87600      13.540000   \n",
              "\n",
              "             psi_rad         length          width          label  \\\n",
              "count  635560.000000  635560.000000  635560.000000  635560.000000   \n",
              "mean       -0.196957       4.503195       1.733667       0.493801   \n",
              "std         1.517198       0.602154       0.203770       0.646093   \n",
              "min        -3.142000       2.660000       1.350000       0.000000   \n",
              "25%        -1.430000       4.230000       1.560000       0.000000   \n",
              "50%        -0.033000       4.450000       1.650000       0.000000   \n",
              "75%         0.098000       4.690000       1.910000       1.000000   \n",
              "max         3.142000      12.200000       2.600000       5.000000   \n",
              "\n",
              "                  x_             y_  \n",
              "count  635560.000000  635560.000000  \n",
              "mean     1018.061263    1003.656882  \n",
              "std        22.526103       9.532126  \n",
              "min       972.187000     964.518000  \n",
              "25%       998.162231    1000.443726  \n",
              "50%      1016.854248    1003.909851  \n",
              "75%      1031.408000    1007.886230  \n",
              "max      1089.264160    1034.305176  "
            ],
            "text/html": [
              "\n",
              "  <div id=\"df-b7b7026f-a8eb-4685-888c-c0e04c722a33\">\n",
              "    <div class=\"colab-df-container\">\n",
              "      <div>\n",
              "<style scoped>\n",
              "    .dataframe tbody tr th:only-of-type {\n",
              "        vertical-align: middle;\n",
              "    }\n",
              "\n",
              "    .dataframe tbody tr th {\n",
              "        vertical-align: top;\n",
              "    }\n",
              "\n",
              "    .dataframe thead th {\n",
              "        text-align: right;\n",
              "    }\n",
              "</style>\n",
              "<table border=\"1\" class=\"dataframe\">\n",
              "  <thead>\n",
              "    <tr style=\"text-align: right;\">\n",
              "      <th></th>\n",
              "      <th>case_id</th>\n",
              "      <th>track_id</th>\n",
              "      <th>frame_id</th>\n",
              "      <th>timestamp_ms</th>\n",
              "      <th>x</th>\n",
              "      <th>y</th>\n",
              "      <th>vx</th>\n",
              "      <th>vy</th>\n",
              "      <th>psi_rad</th>\n",
              "      <th>length</th>\n",
              "      <th>width</th>\n",
              "      <th>label</th>\n",
              "      <th>x_</th>\n",
              "      <th>y_</th>\n",
              "    </tr>\n",
              "  </thead>\n",
              "  <tbody>\n",
              "    <tr>\n",
              "      <th>count</th>\n",
              "      <td>635560.00000</td>\n",
              "      <td>635560.000000</td>\n",
              "      <td>635560.000000</td>\n",
              "      <td>635560.000000</td>\n",
              "      <td>635560.000000</td>\n",
              "      <td>635560.000000</td>\n",
              "      <td>635560.00000</td>\n",
              "      <td>635560.000000</td>\n",
              "      <td>635560.000000</td>\n",
              "      <td>635560.000000</td>\n",
              "      <td>635560.000000</td>\n",
              "      <td>635560.000000</td>\n",
              "      <td>635560.000000</td>\n",
              "      <td>635560.000000</td>\n",
              "    </tr>\n",
              "    <tr>\n",
              "      <th>mean</th>\n",
              "      <td>2634.16096</td>\n",
              "      <td>7.163730</td>\n",
              "      <td>20.000000</td>\n",
              "      <td>2000.000000</td>\n",
              "      <td>1018.105851</td>\n",
              "      <td>1003.645663</td>\n",
              "      <td>1.60804</td>\n",
              "      <td>-0.084499</td>\n",
              "      <td>-0.196957</td>\n",
              "      <td>4.503195</td>\n",
              "      <td>1.733667</td>\n",
              "      <td>0.493801</td>\n",
              "      <td>1018.061263</td>\n",
              "      <td>1003.656882</td>\n",
              "    </tr>\n",
              "    <tr>\n",
              "      <th>std</th>\n",
              "      <td>1459.69109</td>\n",
              "      <td>4.006838</td>\n",
              "      <td>11.532572</td>\n",
              "      <td>1153.257167</td>\n",
              "      <td>22.522870</td>\n",
              "      <td>9.534795</td>\n",
              "      <td>4.01982</td>\n",
              "      <td>2.041666</td>\n",
              "      <td>1.517198</td>\n",
              "      <td>0.602154</td>\n",
              "      <td>0.203770</td>\n",
              "      <td>0.646093</td>\n",
              "      <td>22.526103</td>\n",
              "      <td>9.532126</td>\n",
              "    </tr>\n",
              "    <tr>\n",
              "      <th>min</th>\n",
              "      <td>1.00000</td>\n",
              "      <td>1.000000</td>\n",
              "      <td>1.000000</td>\n",
              "      <td>100.000000</td>\n",
              "      <td>972.187000</td>\n",
              "      <td>964.518000</td>\n",
              "      <td>-15.58800</td>\n",
              "      <td>-14.836000</td>\n",
              "      <td>-3.142000</td>\n",
              "      <td>2.660000</td>\n",
              "      <td>1.350000</td>\n",
              "      <td>0.000000</td>\n",
              "      <td>972.187000</td>\n",
              "      <td>964.518000</td>\n",
              "    </tr>\n",
              "    <tr>\n",
              "      <th>25%</th>\n",
              "      <td>1356.00000</td>\n",
              "      <td>4.000000</td>\n",
              "      <td>10.500000</td>\n",
              "      <td>1050.000000</td>\n",
              "      <td>998.217000</td>\n",
              "      <td>1000.439000</td>\n",
              "      <td>-0.02200</td>\n",
              "      <td>-0.212000</td>\n",
              "      <td>-1.430000</td>\n",
              "      <td>4.230000</td>\n",
              "      <td>1.560000</td>\n",
              "      <td>0.000000</td>\n",
              "      <td>998.162231</td>\n",
              "      <td>1000.443726</td>\n",
              "    </tr>\n",
              "    <tr>\n",
              "      <th>50%</th>\n",
              "      <td>2728.00000</td>\n",
              "      <td>7.000000</td>\n",
              "      <td>20.000000</td>\n",
              "      <td>2000.000000</td>\n",
              "      <td>1016.885000</td>\n",
              "      <td>1003.893000</td>\n",
              "      <td>0.21000</td>\n",
              "      <td>-0.017000</td>\n",
              "      <td>-0.033000</td>\n",
              "      <td>4.450000</td>\n",
              "      <td>1.650000</td>\n",
              "      <td>0.000000</td>\n",
              "      <td>1016.854248</td>\n",
              "      <td>1003.909851</td>\n",
              "    </tr>\n",
              "    <tr>\n",
              "      <th>75%</th>\n",
              "      <td>4006.00000</td>\n",
              "      <td>10.000000</td>\n",
              "      <td>29.500000</td>\n",
              "      <td>2950.000000</td>\n",
              "      <td>1031.413000</td>\n",
              "      <td>1007.871000</td>\n",
              "      <td>2.85800</td>\n",
              "      <td>0.094000</td>\n",
              "      <td>0.098000</td>\n",
              "      <td>4.690000</td>\n",
              "      <td>1.910000</td>\n",
              "      <td>1.000000</td>\n",
              "      <td>1031.408000</td>\n",
              "      <td>1007.886230</td>\n",
              "    </tr>\n",
              "    <tr>\n",
              "      <th>max</th>\n",
              "      <td>5163.00000</td>\n",
              "      <td>24.000000</td>\n",
              "      <td>39.000000</td>\n",
              "      <td>3900.000000</td>\n",
              "      <td>1088.321000</td>\n",
              "      <td>1034.248000</td>\n",
              "      <td>17.87600</td>\n",
              "      <td>13.540000</td>\n",
              "      <td>3.142000</td>\n",
              "      <td>12.200000</td>\n",
              "      <td>2.600000</td>\n",
              "      <td>5.000000</td>\n",
              "      <td>1089.264160</td>\n",
              "      <td>1034.305176</td>\n",
              "    </tr>\n",
              "  </tbody>\n",
              "</table>\n",
              "</div>\n",
              "      <button class=\"colab-df-convert\" onclick=\"convertToInteractive('df-b7b7026f-a8eb-4685-888c-c0e04c722a33')\"\n",
              "              title=\"Convert this dataframe to an interactive table.\"\n",
              "              style=\"display:none;\">\n",
              "        \n",
              "  <svg xmlns=\"http://www.w3.org/2000/svg\" height=\"24px\"viewBox=\"0 0 24 24\"\n",
              "       width=\"24px\">\n",
              "    <path d=\"M0 0h24v24H0V0z\" fill=\"none\"/>\n",
              "    <path d=\"M18.56 5.44l.94 2.06.94-2.06 2.06-.94-2.06-.94-.94-2.06-.94 2.06-2.06.94zm-11 1L8.5 8.5l.94-2.06 2.06-.94-2.06-.94L8.5 2.5l-.94 2.06-2.06.94zm10 10l.94 2.06.94-2.06 2.06-.94-2.06-.94-.94-2.06-.94 2.06-2.06.94z\"/><path d=\"M17.41 7.96l-1.37-1.37c-.4-.4-.92-.59-1.43-.59-.52 0-1.04.2-1.43.59L10.3 9.45l-7.72 7.72c-.78.78-.78 2.05 0 2.83L4 21.41c.39.39.9.59 1.41.59.51 0 1.02-.2 1.41-.59l7.78-7.78 2.81-2.81c.8-.78.8-2.07 0-2.86zM5.41 20L4 18.59l7.72-7.72 1.47 1.35L5.41 20z\"/>\n",
              "  </svg>\n",
              "      </button>\n",
              "      \n",
              "  <style>\n",
              "    .colab-df-container {\n",
              "      display:flex;\n",
              "      flex-wrap:wrap;\n",
              "      gap: 12px;\n",
              "    }\n",
              "\n",
              "    .colab-df-convert {\n",
              "      background-color: #E8F0FE;\n",
              "      border: none;\n",
              "      border-radius: 50%;\n",
              "      cursor: pointer;\n",
              "      display: none;\n",
              "      fill: #1967D2;\n",
              "      height: 32px;\n",
              "      padding: 0 0 0 0;\n",
              "      width: 32px;\n",
              "    }\n",
              "\n",
              "    .colab-df-convert:hover {\n",
              "      background-color: #E2EBFA;\n",
              "      box-shadow: 0px 1px 2px rgba(60, 64, 67, 0.3), 0px 1px 3px 1px rgba(60, 64, 67, 0.15);\n",
              "      fill: #174EA6;\n",
              "    }\n",
              "\n",
              "    [theme=dark] .colab-df-convert {\n",
              "      background-color: #3B4455;\n",
              "      fill: #D2E3FC;\n",
              "    }\n",
              "\n",
              "    [theme=dark] .colab-df-convert:hover {\n",
              "      background-color: #434B5C;\n",
              "      box-shadow: 0px 1px 3px 1px rgba(0, 0, 0, 0.15);\n",
              "      filter: drop-shadow(0px 1px 2px rgba(0, 0, 0, 0.3));\n",
              "      fill: #FFFFFF;\n",
              "    }\n",
              "  </style>\n",
              "\n",
              "      <script>\n",
              "        const buttonEl =\n",
              "          document.querySelector('#df-b7b7026f-a8eb-4685-888c-c0e04c722a33 button.colab-df-convert');\n",
              "        buttonEl.style.display =\n",
              "          google.colab.kernel.accessAllowed ? 'block' : 'none';\n",
              "\n",
              "        async function convertToInteractive(key) {\n",
              "          const element = document.querySelector('#df-b7b7026f-a8eb-4685-888c-c0e04c722a33');\n",
              "          const dataTable =\n",
              "            await google.colab.kernel.invokeFunction('convertToInteractive',\n",
              "                                                     [key], {});\n",
              "          if (!dataTable) return;\n",
              "\n",
              "          const docLinkHtml = 'Like what you see? Visit the ' +\n",
              "            '<a target=\"_blank\" href=https://colab.research.google.com/notebooks/data_table.ipynb>data table notebook</a>'\n",
              "            + ' to learn more about interactive tables.';\n",
              "          element.innerHTML = '';\n",
              "          dataTable['output_type'] = 'display_data';\n",
              "          await google.colab.output.renderOutput(dataTable, element);\n",
              "          const docLink = document.createElement('div');\n",
              "          docLink.innerHTML = docLinkHtml;\n",
              "          element.appendChild(docLink);\n",
              "        }\n",
              "      </script>\n",
              "    </div>\n",
              "  </div>\n",
              "  "
            ]
          },
          "metadata": {},
          "execution_count": 27
        }
      ]
    },
    {
      "cell_type": "markdown",
      "source": [
        "**TEST EVALUATION**"
      ],
      "metadata": {
        "id": "aN_Zyoso_9yD"
      }
    },
    {
      "cell_type": "code",
      "source": [
        "# EVALUATE ON TEST SET\n",
        "\n",
        "# Load clustered dataset\n",
        "dataframe = pd.read_csv(test_dataset_path, sep=',')\n",
        "# This is the test dataframe without normalization, it will be needed after to write the results to disk .csv\n",
        "dataframe_raw = dataframe   \n",
        "\n",
        "# Scale all test dataset\n",
        "dataframe = scale_full_dataframe(dataframe, scaler_reload_path = scaler_reload_path)  # send a pre-calculated scaler because this is test set\n",
        "\n",
        "# Separate clusters (flat)\n",
        "scene_x_test,scene_y_test = split_groups(dataframe)\n",
        "\n",
        "# Convert clusters to single agent arrays\n",
        "scene_x_test,scene_y_test =  to_single_agent_predictor(scene_x_test,scene_y_test)"
      ],
      "metadata": {
        "colab": {
          "base_uri": "https://localhost:8080/"
        },
        "id": "ceNPOFAC2FrT",
        "outputId": "c29409bb-1760-4637-a284-90dcc7e46543"
      },
      "execution_count": 28,
      "outputs": [
        {
          "output_type": "stream",
          "name": "stdout",
          "text": [
            "(8450, 10, 5)\n",
            "(8450, 10, 2)\n"
          ]
        }
      ]
    },
    {
      "cell_type": "code",
      "source": [
        "results_test = model.predict(scene_x_test)\n",
        "# Uncomment if you are interested on calculate ADE over normalized trajectories\n",
        "#calculate_error_batch(results,scene_y_test)"
      ],
      "metadata": {
        "colab": {
          "base_uri": "https://localhost:8080/"
        },
        "id": "N4GEHvIA5URU",
        "outputId": "06c3be97-86e6-472c-e7ad-3209ced4b725"
      },
      "execution_count": 29,
      "outputs": [
        {
          "output_type": "stream",
          "name": "stdout",
          "text": [
            "265/265 [==============================] - 1s 3ms/step\n"
          ]
        }
      ]
    },
    {
      "cell_type": "code",
      "source": [
        "scene_x_test_inv,scene_y_test_inv,results_test_inv = denormalize_x_y_r(scene_x_test,scene_y_test,results_test,scaler_reload_path)"
      ],
      "metadata": {
        "id": "7WZVk4FYC0r5"
      },
      "execution_count": 30,
      "outputs": []
    },
    {
      "cell_type": "code",
      "source": [
        "print(\"Test error ADE(m): \", calculate_error_batch(results_test_inv,scene_y_test_inv)) # Error in meters (De-normalized)"
      ],
      "metadata": {
        "colab": {
          "base_uri": "https://localhost:8080/"
        },
        "outputId": "79190aa0-7a6b-4f8a-bd4a-6069310f56d5",
        "id": "OR2svXIH5u33"
      },
      "execution_count": 31,
      "outputs": [
        {
          "output_type": "stream",
          "name": "stdout",
          "text": [
            "Test error ADE(m):  1.2932745547210205\n"
          ]
        }
      ]
    },
    {
      "cell_type": "code",
      "source": [
        "print_single_trajectory(scene_x_test,scene_y_test, results_test,3,100)"
      ],
      "metadata": {
        "colab": {
          "base_uri": "https://localhost:8080/",
          "height": 262
        },
        "outputId": "ac677127-8543-4aa2-abfb-72e495dfbf8f",
        "id": "eDXGyKDV5u34"
      },
      "execution_count": 52,
      "outputs": [
        {
          "output_type": "stream",
          "name": "stdout",
          "text": [
            "ADE error:  0.0027902985272901908\n",
            "ADE error:  0.002770217800828349\n",
            "ADE error:  0.0030757028659722145\n"
          ]
        },
        {
          "output_type": "display_data",
          "data": {
            "text/plain": [
              "<Figure size 2880x360 with 3 Axes>"
            ],
            "image/png": "[encoded data removed]"
          },
          "metadata": {
            "needs_background": "light"
          }
        }
      ]
    },
    {
      "cell_type": "code",
      "source": [
        "print_single_trajectory(scene_x_test_inv,scene_y_test_inv, results_test_inv,3,100,debug=False)"
      ],
      "metadata": {
        "colab": {
          "base_uri": "https://localhost:8080/",
          "height": 258
        },
        "id": "Ur9ZxjTNDZRN",
        "outputId": "a2140395-f1e6-4b1b-e0b0-284e52bd00c9"
      },
      "execution_count": 54,
      "outputs": [
        {
          "output_type": "stream",
          "name": "stdout",
          "text": [
            "ADE error:  0.2806957146464784\n",
            "ADE error:  0.2684220778492179\n",
            "ADE error:  0.30715777240735626\n"
          ]
        },
        {
          "output_type": "display_data",
          "data": {
            "text/plain": [
              "<Figure size 2880x360 with 3 Axes>"
            ],
            "image/png": "[encoded data removed]"
          },
          "metadata": {
            "needs_background": "light"
          }
        }
      ]
    },
    {
      "cell_type": "code",
      "source": [
        "# Write test predictions to .csv file\n",
        "r = write_to_csv(scene_x_test_inv, results_test_inv, dataframe_raw,csv_out_path_test)\n",
        "\n",
        "# writed datafreme to file\n",
        "r.describe()"
      ],
      "metadata": {
        "colab": {
          "base_uri": "https://localhost:8080/",
          "height": 364
        },
        "id": "DL-2dNNcLy2E",
        "outputId": "d88d76a1-2079-4ad3-84e4-7ec1625b5b85"
      },
      "execution_count": 34,
      "outputs": [
        {
          "output_type": "execute_result",
          "data": {
            "text/plain": [
              "             case_id       track_id       frame_id   timestamp_ms  \\\n",
              "count  169000.000000  169000.000000  169000.000000  169000.000000   \n",
              "mean     2555.860237       7.116095      20.000000    2000.000000   \n",
              "std      1473.198442       3.886890      11.532597    1153.259671   \n",
              "min         2.000000       1.000000       1.000000     100.000000   \n",
              "25%      1227.000000       4.000000      10.500000    1050.000000   \n",
              "50%      2729.000000       7.000000      20.000000    2000.000000   \n",
              "75%      3839.000000      10.000000      29.500000    2950.000000   \n",
              "max      5156.000000      23.000000      39.000000    3900.000000   \n",
              "\n",
              "                   x              y             vx             vy  \\\n",
              "count  169000.000000  169000.000000  169000.000000  169000.000000   \n",
              "mean     1018.053928    1003.596227       1.592749      -0.055653   \n",
              "std        22.667016       9.499189       4.024034       2.069373   \n",
              "min       972.599000     965.004000     -14.315000     -13.491000   \n",
              "25%       998.129750    1000.464000      -0.032000      -0.208000   \n",
              "50%      1016.904000    1003.890000       0.219000      -0.018000   \n",
              "75%      1031.604250    1007.837000       2.813250       0.108250   \n",
              "max      1087.974000    1034.511000      18.688000      14.200000   \n",
              "\n",
              "             psi_rad         length          width          label  \\\n",
              "count  169000.000000  169000.000000  169000.000000  169000.000000   \n",
              "mean       -0.191354       4.517295       1.741914       0.498343   \n",
              "std         1.520074       0.593123       0.205847       0.649670   \n",
              "min        -3.142000       2.660000       1.350000       0.000000   \n",
              "25%        -1.427000       4.240000       1.570000       0.000000   \n",
              "50%        -0.032000       4.460000       1.660000       0.000000   \n",
              "75%         0.103000       4.700000       1.910000       1.000000   \n",
              "max         3.142000      12.200000       2.600000       4.000000   \n",
              "\n",
              "                  x_             y_  \n",
              "count  169000.000000  169000.000000  \n",
              "mean     1017.400874    1002.900843  \n",
              "std        22.785160       9.545769  \n",
              "min       972.187000     964.518000  \n",
              "25%       997.424863     999.792811  \n",
              "50%      1016.202667    1003.143341  \n",
              "75%      1031.298325    1007.286777  \n",
              "max      1088.266645    1034.248000  "
            ],
            "text/html": [
              "\n",
              "  <div id=\"df-9baf7f39-b820-4a17-ba91-be59825af065\">\n",
              "    <div class=\"colab-df-container\">\n",
              "      <div>\n",
              "<style scoped>\n",
              "    .dataframe tbody tr th:only-of-type {\n",
              "        vertical-align: middle;\n",
              "    }\n",
              "\n",
              "    .dataframe tbody tr th {\n",
              "        vertical-align: top;\n",
              "    }\n",
              "\n",
              "    .dataframe thead th {\n",
              "        text-align: right;\n",
              "    }\n",
              "</style>\n",
              "<table border=\"1\" class=\"dataframe\">\n",
              "  <thead>\n",
              "    <tr style=\"text-align: right;\">\n",
              "      <th></th>\n",
              "      <th>case_id</th>\n",
              "      <th>track_id</th>\n",
              "      <th>frame_id</th>\n",
              "      <th>timestamp_ms</th>\n",
              "      <th>x</th>\n",
              "      <th>y</th>\n",
              "      <th>vx</th>\n",
              "      <th>vy</th>\n",
              "      <th>psi_rad</th>\n",
              "      <th>length</th>\n",
              "      <th>width</th>\n",
              "      <th>label</th>\n",
              "      <th>x_</th>\n",
              "      <th>y_</th>\n",
              "    </tr>\n",
              "  </thead>\n",
              "  <tbody>\n",
              "    <tr>\n",
              "      <th>count</th>\n",
              "      <td>169000.000000</td>\n",
              "      <td>169000.000000</td>\n",
              "      <td>169000.000000</td>\n",
              "      <td>169000.000000</td>\n",
              "      <td>169000.000000</td>\n",
              "      <td>169000.000000</td>\n",
              "      <td>169000.000000</td>\n",
              "      <td>169000.000000</td>\n",
              "      <td>169000.000000</td>\n",
              "      <td>169000.000000</td>\n",
              "      <td>169000.000000</td>\n",
              "      <td>169000.000000</td>\n",
              "      <td>169000.000000</td>\n",
              "      <td>169000.000000</td>\n",
              "    </tr>\n",
              "    <tr>\n",
              "      <th>mean</th>\n",
              "      <td>2555.860237</td>\n",
              "      <td>7.116095</td>\n",
              "      <td>20.000000</td>\n",
              "      <td>2000.000000</td>\n",
              "      <td>1018.053928</td>\n",
              "      <td>1003.596227</td>\n",
              "      <td>1.592749</td>\n",
              "      <td>-0.055653</td>\n",
              "      <td>-0.191354</td>\n",
              "      <td>4.517295</td>\n",
              "      <td>1.741914</td>\n",
              "      <td>0.498343</td>\n",
              "      <td>1017.400874</td>\n",
              "      <td>1002.900843</td>\n",
              "    </tr>\n",
              "    <tr>\n",
              "      <th>std</th>\n",
              "      <td>1473.198442</td>\n",
              "      <td>3.886890</td>\n",
              "      <td>11.532597</td>\n",
              "      <td>1153.259671</td>\n",
              "      <td>22.667016</td>\n",
              "      <td>9.499189</td>\n",
              "      <td>4.024034</td>\n",
              "      <td>2.069373</td>\n",
              "      <td>1.520074</td>\n",
              "      <td>0.593123</td>\n",
              "      <td>0.205847</td>\n",
              "      <td>0.649670</td>\n",
              "      <td>22.785160</td>\n",
              "      <td>9.545769</td>\n",
              "    </tr>\n",
              "    <tr>\n",
              "      <th>min</th>\n",
              "      <td>2.000000</td>\n",
              "      <td>1.000000</td>\n",
              "      <td>1.000000</td>\n",
              "      <td>100.000000</td>\n",
              "      <td>972.599000</td>\n",
              "      <td>965.004000</td>\n",
              "      <td>-14.315000</td>\n",
              "      <td>-13.491000</td>\n",
              "      <td>-3.142000</td>\n",
              "      <td>2.660000</td>\n",
              "      <td>1.350000</td>\n",
              "      <td>0.000000</td>\n",
              "      <td>972.187000</td>\n",
              "      <td>964.518000</td>\n",
              "    </tr>\n",
              "    <tr>\n",
              "      <th>25%</th>\n",
              "      <td>1227.000000</td>\n",
              "      <td>4.000000</td>\n",
              "      <td>10.500000</td>\n",
              "      <td>1050.000000</td>\n",
              "      <td>998.129750</td>\n",
              "      <td>1000.464000</td>\n",
              "      <td>-0.032000</td>\n",
              "      <td>-0.208000</td>\n",
              "      <td>-1.427000</td>\n",
              "      <td>4.240000</td>\n",
              "      <td>1.570000</td>\n",
              "      <td>0.000000</td>\n",
              "      <td>997.424863</td>\n",
              "      <td>999.792811</td>\n",
              "    </tr>\n",
              "    <tr>\n",
              "      <th>50%</th>\n",
              "      <td>2729.000000</td>\n",
              "      <td>7.000000</td>\n",
              "      <td>20.000000</td>\n",
              "      <td>2000.000000</td>\n",
              "      <td>1016.904000</td>\n",
              "      <td>1003.890000</td>\n",
              "      <td>0.219000</td>\n",
              "      <td>-0.018000</td>\n",
              "      <td>-0.032000</td>\n",
              "      <td>4.460000</td>\n",
              "      <td>1.660000</td>\n",
              "      <td>0.000000</td>\n",
              "      <td>1016.202667</td>\n",
              "      <td>1003.143341</td>\n",
              "    </tr>\n",
              "    <tr>\n",
              "      <th>75%</th>\n",
              "      <td>3839.000000</td>\n",
              "      <td>10.000000</td>\n",
              "      <td>29.500000</td>\n",
              "      <td>2950.000000</td>\n",
              "      <td>1031.604250</td>\n",
              "      <td>1007.837000</td>\n",
              "      <td>2.813250</td>\n",
              "      <td>0.108250</td>\n",
              "      <td>0.103000</td>\n",
              "      <td>4.700000</td>\n",
              "      <td>1.910000</td>\n",
              "      <td>1.000000</td>\n",
              "      <td>1031.298325</td>\n",
              "      <td>1007.286777</td>\n",
              "    </tr>\n",
              "    <tr>\n",
              "      <th>max</th>\n",
              "      <td>5156.000000</td>\n",
              "      <td>23.000000</td>\n",
              "      <td>39.000000</td>\n",
              "      <td>3900.000000</td>\n",
              "      <td>1087.974000</td>\n",
              "      <td>1034.511000</td>\n",
              "      <td>18.688000</td>\n",
              "      <td>14.200000</td>\n",
              "      <td>3.142000</td>\n",
              "      <td>12.200000</td>\n",
              "      <td>2.600000</td>\n",
              "      <td>4.000000</td>\n",
              "      <td>1088.266645</td>\n",
              "      <td>1034.248000</td>\n",
              "    </tr>\n",
              "  </tbody>\n",
              "</table>\n",
              "</div>\n",
              "      <button class=\"colab-df-convert\" onclick=\"convertToInteractive('df-9baf7f39-b820-4a17-ba91-be59825af065')\"\n",
              "              title=\"Convert this dataframe to an interactive table.\"\n",
              "              style=\"display:none;\">\n",
              "        \n",
              "  <svg xmlns=\"http://www.w3.org/2000/svg\" height=\"24px\"viewBox=\"0 0 24 24\"\n",
              "       width=\"24px\">\n",
              "    <path d=\"M0 0h24v24H0V0z\" fill=\"none\"/>\n",
              "    <path d=\"M18.56 5.44l.94 2.06.94-2.06 2.06-.94-2.06-.94-.94-2.06-.94 2.06-2.06.94zm-11 1L8.5 8.5l.94-2.06 2.06-.94-2.06-.94L8.5 2.5l-.94 2.06-2.06.94zm10 10l.94 2.06.94-2.06 2.06-.94-2.06-.94-.94-2.06-.94 2.06-2.06.94z\"/><path d=\"M17.41 7.96l-1.37-1.37c-.4-.4-.92-.59-1.43-.59-.52 0-1.04.2-1.43.59L10.3 9.45l-7.72 7.72c-.78.78-.78 2.05 0 2.83L4 21.41c.39.39.9.59 1.41.59.51 0 1.02-.2 1.41-.59l7.78-7.78 2.81-2.81c.8-.78.8-2.07 0-2.86zM5.41 20L4 18.59l7.72-7.72 1.47 1.35L5.41 20z\"/>\n",
              "  </svg>\n",
              "      </button>\n",
              "      \n",
              "  <style>\n",
              "    .colab-df-container {\n",
              "      display:flex;\n",
              "      flex-wrap:wrap;\n",
              "      gap: 12px;\n",
              "    }\n",
              "\n",
              "    .colab-df-convert {\n",
              "      background-color: #E8F0FE;\n",
              "      border: none;\n",
              "      border-radius: 50%;\n",
              "      cursor: pointer;\n",
              "      display: none;\n",
              "      fill: #1967D2;\n",
              "      height: 32px;\n",
              "      padding: 0 0 0 0;\n",
              "      width: 32px;\n",
              "    }\n",
              "\n",
              "    .colab-df-convert:hover {\n",
              "      background-color: #E2EBFA;\n",
              "      box-shadow: 0px 1px 2px rgba(60, 64, 67, 0.3), 0px 1px 3px 1px rgba(60, 64, 67, 0.15);\n",
              "      fill: #174EA6;\n",
              "    }\n",
              "\n",
              "    [theme=dark] .colab-df-convert {\n",
              "      background-color: #3B4455;\n",
              "      fill: #D2E3FC;\n",
              "    }\n",
              "\n",
              "    [theme=dark] .colab-df-convert:hover {\n",
              "      background-color: #434B5C;\n",
              "      box-shadow: 0px 1px 3px 1px rgba(0, 0, 0, 0.15);\n",
              "      filter: drop-shadow(0px 1px 2px rgba(0, 0, 0, 0.3));\n",
              "      fill: #FFFFFF;\n",
              "    }\n",
              "  </style>\n",
              "\n",
              "      <script>\n",
              "        const buttonEl =\n",
              "          document.querySelector('#df-9baf7f39-b820-4a17-ba91-be59825af065 button.colab-df-convert');\n",
              "        buttonEl.style.display =\n",
              "          google.colab.kernel.accessAllowed ? 'block' : 'none';\n",
              "\n",
              "        async function convertToInteractive(key) {\n",
              "          const element = document.querySelector('#df-9baf7f39-b820-4a17-ba91-be59825af065');\n",
              "          const dataTable =\n",
              "            await google.colab.kernel.invokeFunction('convertToInteractive',\n",
              "                                                     [key], {});\n",
              "          if (!dataTable) return;\n",
              "\n",
              "          const docLinkHtml = 'Like what you see? Visit the ' +\n",
              "            '<a target=\"_blank\" href=https://colab.research.google.com/notebooks/data_table.ipynb>data table notebook</a>'\n",
              "            + ' to learn more about interactive tables.';\n",
              "          element.innerHTML = '';\n",
              "          dataTable['output_type'] = 'display_data';\n",
              "          await google.colab.output.renderOutput(dataTable, element);\n",
              "          const docLink = document.createElement('div');\n",
              "          docLink.innerHTML = docLinkHtml;\n",
              "          element.appendChild(docLink);\n",
              "        }\n",
              "      </script>\n",
              "    </div>\n",
              "  </div>\n",
              "  "
            ]
          },
          "metadata": {},
          "execution_count": 34
        }
      ]
    }
  ]
}