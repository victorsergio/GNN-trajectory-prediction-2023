{
  "nbformat": 4,
  "nbformat_minor": 0,
  "metadata": {
    "colab": {
      "provenance": [],
      "mount_file_id": "1YmmV-QycpWu3G-q39FxNpF-x23o1In_b",
      "authorship_tag": "ABX9TyMTQ+Ygls9E8jN9kyTuWFpC",
      "include_colab_link": true
    },
    "kernelspec": {
      "name": "python3",
      "display_name": "Python 3"
    },
    "language_info": {
      "name": "python"
    },
    "accelerator": "GPU",
    "gpuClass": "premium"
  },
  "cells": [
    {
      "cell_type": "markdown",
      "metadata": {
        "id": "view-in-github",
        "colab_type": "text"
      },
      "source": [
        "<a href=\"https://colab.research.google.com/github/victorsergio/GNN-trajectory-prediction-2023/blob/main/sac_baseline_model.ipynb\" target=\"_parent\"><img src=\"https://colab.research.google.com/assets/colab-badge.svg\" alt=\"Open In Colab\"/></a>"
      ]
    },
    {
      "cell_type": "code",
      "source": [
        "gpu_info = !nvidia-smi\n",
        "gpu_info = '\\n'.join(gpu_info)\n",
        "if gpu_info.find('failed') >= 0:\n",
        "  print('Select the Runtime → \"Change runtime type\" menu to enable a GPU accelerator, ')\n",
        "  print('and then re-execute this cell.')\n",
        "else:\n",
        "  print(gpu_info)"
      ],
      "metadata": {
        "colab": {
          "base_uri": "https://localhost:8080/"
        },
        "id": "JumAY-3VtZ3A",
        "outputId": "f7c44e03-0b77-40e4-a289-a64aab7ca348"
      },
      "execution_count": null,
      "outputs": [
        {
          "output_type": "stream",
          "name": "stdout",
          "text": [
            "Thu Jan 19 23:36:58 2023       \n",
            "+-----------------------------------------------------------------------------+\n",
            "| NVIDIA-SMI 460.32.03    Driver Version: 460.32.03    CUDA Version: 11.2     |\n",
            "|-------------------------------+----------------------+----------------------+\n",
            "| GPU  Name        Persistence-M| Bus-Id        Disp.A | Volatile Uncorr. ECC |\n",
            "| Fan  Temp  Perf  Pwr:Usage/Cap|         Memory-Usage | GPU-Util  Compute M. |\n",
            "|                               |                      |               MIG M. |\n",
            "|===============================+======================+======================|\n",
            "|   0  A100-SXM4-40GB      Off  | 00000000:00:04.0 Off |                    0 |\n",
            "| N/A   31C    P0    53W / 400W |      0MiB / 40536MiB |      0%      Default |\n",
            "|                               |                      |             Disabled |\n",
            "+-------------------------------+----------------------+----------------------+\n",
            "                                                                               \n",
            "+-----------------------------------------------------------------------------+\n",
            "| Processes:                                                                  |\n",
            "|  GPU   GI   CI        PID   Type   Process name                  GPU Memory |\n",
            "|        ID   ID                                                   Usage      |\n",
            "|=============================================================================|\n",
            "|  No running processes found                                                 |\n",
            "+-----------------------------------------------------------------------------+\n"
          ]
        }
      ]
    },
    {
      "cell_type": "code",
      "source": [
        "!pip install wandb"
      ],
      "metadata": {
        "id": "MIS-b98Hrxjd",
        "colab": {
          "base_uri": "https://localhost:8080/"
        },
        "outputId": "52dcf176-dd6f-410f-d6c6-810de06eec71"
      },
      "execution_count": null,
      "outputs": [
        {
          "output_type": "stream",
          "name": "stdout",
          "text": [
            "Looking in indexes: https://pypi.org/simple, https://us-python.pkg.dev/colab-wheels/public/simple/\n",
            "Requirement already satisfied: wandb in /usr/local/lib/python3.8/dist-packages (0.13.9)\n",
            "Requirement already satisfied: protobuf!=4.21.0,<5,>=3.12.0 in /usr/local/lib/python3.8/dist-packages (from wandb) (3.19.6)\n",
            "Requirement already satisfied: psutil>=5.0.0 in /usr/local/lib/python3.8/dist-packages (from wandb) (5.4.8)\n",
            "Requirement already satisfied: PyYAML in /usr/local/lib/python3.8/dist-packages (from wandb) (6.0)\n",
            "Requirement already satisfied: setuptools in /usr/local/lib/python3.8/dist-packages (from wandb) (57.4.0)\n",
            "Requirement already satisfied: Click!=8.0.0,>=7.0 in /usr/local/lib/python3.8/dist-packages (from wandb) (7.1.2)\n",
            "Requirement already satisfied: typing-extensions in /usr/local/lib/python3.8/dist-packages (from wandb) (4.4.0)\n",
            "Requirement already satisfied: GitPython>=1.0.0 in /usr/local/lib/python3.8/dist-packages (from wandb) (3.1.30)\n",
            "Requirement already satisfied: setproctitle in /usr/local/lib/python3.8/dist-packages (from wandb) (1.3.2)\n",
            "Requirement already satisfied: sentry-sdk>=1.0.0 in /usr/local/lib/python3.8/dist-packages (from wandb) (1.13.0)\n",
            "Requirement already satisfied: appdirs>=1.4.3 in /usr/local/lib/python3.8/dist-packages (from wandb) (1.4.4)\n",
            "Requirement already satisfied: docker-pycreds>=0.4.0 in /usr/local/lib/python3.8/dist-packages (from wandb) (0.4.0)\n",
            "Requirement already satisfied: pathtools in /usr/local/lib/python3.8/dist-packages (from wandb) (0.1.2)\n",
            "Requirement already satisfied: requests<3,>=2.0.0 in /usr/local/lib/python3.8/dist-packages (from wandb) (2.25.1)\n",
            "Requirement already satisfied: six>=1.4.0 in /usr/local/lib/python3.8/dist-packages (from docker-pycreds>=0.4.0->wandb) (1.15.0)\n",
            "Requirement already satisfied: gitdb<5,>=4.0.1 in /usr/local/lib/python3.8/dist-packages (from GitPython>=1.0.0->wandb) (4.0.10)\n",
            "Requirement already satisfied: chardet<5,>=3.0.2 in /usr/local/lib/python3.8/dist-packages (from requests<3,>=2.0.0->wandb) (4.0.0)\n",
            "Requirement already satisfied: certifi>=2017.4.17 in /usr/local/lib/python3.8/dist-packages (from requests<3,>=2.0.0->wandb) (2022.12.7)\n",
            "Requirement already satisfied: idna<3,>=2.5 in /usr/local/lib/python3.8/dist-packages (from requests<3,>=2.0.0->wandb) (2.10)\n",
            "Requirement already satisfied: urllib3<1.27,>=1.21.1 in /usr/local/lib/python3.8/dist-packages (from requests<3,>=2.0.0->wandb) (1.26.14)\n",
            "Requirement already satisfied: smmap<6,>=3.0.1 in /usr/local/lib/python3.8/dist-packages (from gitdb<5,>=4.0.1->GitPython>=1.0.0->wandb) (5.0.0)\n"
          ]
        }
      ]
    },
    {
      "cell_type": "code",
      "source": [
        "import pandas as pd\n",
        "import numpy as np\n",
        "import tensorflow as tf\n",
        "import matplotlib.pyplot as plt\n",
        "\n",
        "\n",
        "# Load clustered dataset\n",
        "dataframe = pd.read_csv('/content/drive/MyDrive/PHD_2022/SAC/data/INTERACTION-Dataset-DR-single-v1_2/train/50m-DR_USA_Intersection_MA_train.csv', sep=',')"
      ],
      "metadata": {
        "id": "8HsTXGmkhE3P"
      },
      "execution_count": null,
      "outputs": []
    },
    {
      "cell_type": "code",
      "source": [
        "dataframe.describe()"
      ],
      "metadata": {
        "colab": {
          "base_uri": "https://localhost:8080/",
          "height": 364
        },
        "id": "kp2HE1fT8SPq",
        "outputId": "a0a51b56-35fe-4f72-e479-758eafb34f43"
      },
      "execution_count": null,
      "outputs": [
        {
          "output_type": "execute_result",
          "data": {
            "text/plain": [
              "            case_id       track_id       frame_id   timestamp_ms  \\\n",
              "count  635560.00000  635560.000000  635560.000000  635560.000000   \n",
              "mean     2634.16096       7.163730      20.000000    2000.000000   \n",
              "std      1459.69109       4.006838      11.532572    1153.257167   \n",
              "min         1.00000       1.000000       1.000000     100.000000   \n",
              "25%      1356.00000       4.000000      10.500000    1050.000000   \n",
              "50%      2728.00000       7.000000      20.000000    2000.000000   \n",
              "75%      4006.00000      10.000000      29.500000    2950.000000   \n",
              "max      5163.00000      24.000000      39.000000    3900.000000   \n",
              "\n",
              "                   x              y            vx             vy  \\\n",
              "count  635560.000000  635560.000000  635560.00000  635560.000000   \n",
              "mean     1018.105851    1003.645663       1.60804      -0.084499   \n",
              "std        22.522870       9.534795       4.01982       2.041666   \n",
              "min       972.187000     964.518000     -15.58800     -14.836000   \n",
              "25%       998.217000    1000.439000      -0.02200      -0.212000   \n",
              "50%      1016.885000    1003.893000       0.21000      -0.017000   \n",
              "75%      1031.413000    1007.871000       2.85800       0.094000   \n",
              "max      1088.321000    1034.248000      17.87600      13.540000   \n",
              "\n",
              "             psi_rad         length          width          label  \n",
              "count  635560.000000  635560.000000  635560.000000  635560.000000  \n",
              "mean       -0.196957       4.503195       1.733667       0.493801  \n",
              "std         1.517198       0.602154       0.203770       0.646093  \n",
              "min        -3.142000       2.660000       1.350000       0.000000  \n",
              "25%        -1.430000       4.230000       1.560000       0.000000  \n",
              "50%        -0.033000       4.450000       1.650000       0.000000  \n",
              "75%         0.098000       4.690000       1.910000       1.000000  \n",
              "max         3.142000      12.200000       2.600000       5.000000  "
            ],
            "text/html": [
              "\n",
              "  <div id=\"df-f8e14ca7-b1eb-4030-b193-f18a7cfbb0be\">\n",
              "    <div class=\"colab-df-container\">\n",
              "      <div>\n",
              "<style scoped>\n",
              "    .dataframe tbody tr th:only-of-type {\n",
              "        vertical-align: middle;\n",
              "    }\n",
              "\n",
              "    .dataframe tbody tr th {\n",
              "        vertical-align: top;\n",
              "    }\n",
              "\n",
              "    .dataframe thead th {\n",
              "        text-align: right;\n",
              "    }\n",
              "</style>\n",
              "<table border=\"1\" class=\"dataframe\">\n",
              "  <thead>\n",
              "    <tr style=\"text-align: right;\">\n",
              "      <th></th>\n",
              "      <th>case_id</th>\n",
              "      <th>track_id</th>\n",
              "      <th>frame_id</th>\n",
              "      <th>timestamp_ms</th>\n",
              "      <th>x</th>\n",
              "      <th>y</th>\n",
              "      <th>vx</th>\n",
              "      <th>vy</th>\n",
              "      <th>psi_rad</th>\n",
              "      <th>length</th>\n",
              "      <th>width</th>\n",
              "      <th>label</th>\n",
              "    </tr>\n",
              "  </thead>\n",
              "  <tbody>\n",
              "    <tr>\n",
              "      <th>count</th>\n",
              "      <td>635560.00000</td>\n",
              "      <td>635560.000000</td>\n",
              "      <td>635560.000000</td>\n",
              "      <td>635560.000000</td>\n",
              "      <td>635560.000000</td>\n",
              "      <td>635560.000000</td>\n",
              "      <td>635560.00000</td>\n",
              "      <td>635560.000000</td>\n",
              "      <td>635560.000000</td>\n",
              "      <td>635560.000000</td>\n",
              "      <td>635560.000000</td>\n",
              "      <td>635560.000000</td>\n",
              "    </tr>\n",
              "    <tr>\n",
              "      <th>mean</th>\n",
              "      <td>2634.16096</td>\n",
              "      <td>7.163730</td>\n",
              "      <td>20.000000</td>\n",
              "      <td>2000.000000</td>\n",
              "      <td>1018.105851</td>\n",
              "      <td>1003.645663</td>\n",
              "      <td>1.60804</td>\n",
              "      <td>-0.084499</td>\n",
              "      <td>-0.196957</td>\n",
              "      <td>4.503195</td>\n",
              "      <td>1.733667</td>\n",
              "      <td>0.493801</td>\n",
              "    </tr>\n",
              "    <tr>\n",
              "      <th>std</th>\n",
              "      <td>1459.69109</td>\n",
              "      <td>4.006838</td>\n",
              "      <td>11.532572</td>\n",
              "      <td>1153.257167</td>\n",
              "      <td>22.522870</td>\n",
              "      <td>9.534795</td>\n",
              "      <td>4.01982</td>\n",
              "      <td>2.041666</td>\n",
              "      <td>1.517198</td>\n",
              "      <td>0.602154</td>\n",
              "      <td>0.203770</td>\n",
              "      <td>0.646093</td>\n",
              "    </tr>\n",
              "    <tr>\n",
              "      <th>min</th>\n",
              "      <td>1.00000</td>\n",
              "      <td>1.000000</td>\n",
              "      <td>1.000000</td>\n",
              "      <td>100.000000</td>\n",
              "      <td>972.187000</td>\n",
              "      <td>964.518000</td>\n",
              "      <td>-15.58800</td>\n",
              "      <td>-14.836000</td>\n",
              "      <td>-3.142000</td>\n",
              "      <td>2.660000</td>\n",
              "      <td>1.350000</td>\n",
              "      <td>0.000000</td>\n",
              "    </tr>\n",
              "    <tr>\n",
              "      <th>25%</th>\n",
              "      <td>1356.00000</td>\n",
              "      <td>4.000000</td>\n",
              "      <td>10.500000</td>\n",
              "      <td>1050.000000</td>\n",
              "      <td>998.217000</td>\n",
              "      <td>1000.439000</td>\n",
              "      <td>-0.02200</td>\n",
              "      <td>-0.212000</td>\n",
              "      <td>-1.430000</td>\n",
              "      <td>4.230000</td>\n",
              "      <td>1.560000</td>\n",
              "      <td>0.000000</td>\n",
              "    </tr>\n",
              "    <tr>\n",
              "      <th>50%</th>\n",
              "      <td>2728.00000</td>\n",
              "      <td>7.000000</td>\n",
              "      <td>20.000000</td>\n",
              "      <td>2000.000000</td>\n",
              "      <td>1016.885000</td>\n",
              "      <td>1003.893000</td>\n",
              "      <td>0.21000</td>\n",
              "      <td>-0.017000</td>\n",
              "      <td>-0.033000</td>\n",
              "      <td>4.450000</td>\n",
              "      <td>1.650000</td>\n",
              "      <td>0.000000</td>\n",
              "    </tr>\n",
              "    <tr>\n",
              "      <th>75%</th>\n",
              "      <td>4006.00000</td>\n",
              "      <td>10.000000</td>\n",
              "      <td>29.500000</td>\n",
              "      <td>2950.000000</td>\n",
              "      <td>1031.413000</td>\n",
              "      <td>1007.871000</td>\n",
              "      <td>2.85800</td>\n",
              "      <td>0.094000</td>\n",
              "      <td>0.098000</td>\n",
              "      <td>4.690000</td>\n",
              "      <td>1.910000</td>\n",
              "      <td>1.000000</td>\n",
              "    </tr>\n",
              "    <tr>\n",
              "      <th>max</th>\n",
              "      <td>5163.00000</td>\n",
              "      <td>24.000000</td>\n",
              "      <td>39.000000</td>\n",
              "      <td>3900.000000</td>\n",
              "      <td>1088.321000</td>\n",
              "      <td>1034.248000</td>\n",
              "      <td>17.87600</td>\n",
              "      <td>13.540000</td>\n",
              "      <td>3.142000</td>\n",
              "      <td>12.200000</td>\n",
              "      <td>2.600000</td>\n",
              "      <td>5.000000</td>\n",
              "    </tr>\n",
              "  </tbody>\n",
              "</table>\n",
              "</div>\n",
              "      <button class=\"colab-df-convert\" onclick=\"convertToInteractive('df-f8e14ca7-b1eb-4030-b193-f18a7cfbb0be')\"\n",
              "              title=\"Convert this dataframe to an interactive table.\"\n",
              "              style=\"display:none;\">\n",
              "        \n",
              "  <svg xmlns=\"http://www.w3.org/2000/svg\" height=\"24px\"viewBox=\"0 0 24 24\"\n",
              "       width=\"24px\">\n",
              "    <path d=\"M0 0h24v24H0V0z\" fill=\"none\"/>\n",
              "    <path d=\"M18.56 5.44l.94 2.06.94-2.06 2.06-.94-2.06-.94-.94-2.06-.94 2.06-2.06.94zm-11 1L8.5 8.5l.94-2.06 2.06-.94-2.06-.94L8.5 2.5l-.94 2.06-2.06.94zm10 10l.94 2.06.94-2.06 2.06-.94-2.06-.94-.94-2.06-.94 2.06-2.06.94z\"/><path d=\"M17.41 7.96l-1.37-1.37c-.4-.4-.92-.59-1.43-.59-.52 0-1.04.2-1.43.59L10.3 9.45l-7.72 7.72c-.78.78-.78 2.05 0 2.83L4 21.41c.39.39.9.59 1.41.59.51 0 1.02-.2 1.41-.59l7.78-7.78 2.81-2.81c.8-.78.8-2.07 0-2.86zM5.41 20L4 18.59l7.72-7.72 1.47 1.35L5.41 20z\"/>\n",
              "  </svg>\n",
              "      </button>\n",
              "      \n",
              "  <style>\n",
              "    .colab-df-container {\n",
              "      display:flex;\n",
              "      flex-wrap:wrap;\n",
              "      gap: 12px;\n",
              "    }\n",
              "\n",
              "    .colab-df-convert {\n",
              "      background-color: #E8F0FE;\n",
              "      border: none;\n",
              "      border-radius: 50%;\n",
              "      cursor: pointer;\n",
              "      display: none;\n",
              "      fill: #1967D2;\n",
              "      height: 32px;\n",
              "      padding: 0 0 0 0;\n",
              "      width: 32px;\n",
              "    }\n",
              "\n",
              "    .colab-df-convert:hover {\n",
              "      background-color: #E2EBFA;\n",
              "      box-shadow: 0px 1px 2px rgba(60, 64, 67, 0.3), 0px 1px 3px 1px rgba(60, 64, 67, 0.15);\n",
              "      fill: #174EA6;\n",
              "    }\n",
              "\n",
              "    [theme=dark] .colab-df-convert {\n",
              "      background-color: #3B4455;\n",
              "      fill: #D2E3FC;\n",
              "    }\n",
              "\n",
              "    [theme=dark] .colab-df-convert:hover {\n",
              "      background-color: #434B5C;\n",
              "      box-shadow: 0px 1px 3px 1px rgba(0, 0, 0, 0.15);\n",
              "      filter: drop-shadow(0px 1px 2px rgba(0, 0, 0, 0.3));\n",
              "      fill: #FFFFFF;\n",
              "    }\n",
              "  </style>\n",
              "\n",
              "      <script>\n",
              "        const buttonEl =\n",
              "          document.querySelector('#df-f8e14ca7-b1eb-4030-b193-f18a7cfbb0be button.colab-df-convert');\n",
              "        buttonEl.style.display =\n",
              "          google.colab.kernel.accessAllowed ? 'block' : 'none';\n",
              "\n",
              "        async function convertToInteractive(key) {\n",
              "          const element = document.querySelector('#df-f8e14ca7-b1eb-4030-b193-f18a7cfbb0be');\n",
              "          const dataTable =\n",
              "            await google.colab.kernel.invokeFunction('convertToInteractive',\n",
              "                                                     [key], {});\n",
              "          if (!dataTable) return;\n",
              "\n",
              "          const docLinkHtml = 'Like what you see? Visit the ' +\n",
              "            '<a target=\"_blank\" href=https://colab.research.google.com/notebooks/data_table.ipynb>data table notebook</a>'\n",
              "            + ' to learn more about interactive tables.';\n",
              "          element.innerHTML = '';\n",
              "          dataTable['output_type'] = 'display_data';\n",
              "          await google.colab.output.renderOutput(dataTable, element);\n",
              "          const docLink = document.createElement('div');\n",
              "          docLink.innerHTML = docLinkHtml;\n",
              "          element.appendChild(docLink);\n",
              "        }\n",
              "      </script>\n",
              "    </div>\n",
              "  </div>\n",
              "  "
            ]
          },
          "metadata": {},
          "execution_count": 145
        }
      ]
    },
    {
      "cell_type": "code",
      "source": [
        "#@title\n",
        "# Scaling\n",
        "from sklearn.preprocessing import MinMaxScaler\n",
        "from sklearn.compose import ColumnTransformer\n",
        "from sklearn.pipeline import Pipeline\n",
        "from sklearn.preprocessing import StandardScaler\n",
        "\n",
        "\n",
        "preprocessor = ColumnTransformer(\n",
        "        remainder='passthrough', #passthough features not listed\n",
        "        transformers=[\n",
        "            ('scaler', StandardScaler() , ['x','y'])\n",
        "        ])\n",
        "\n",
        "dataframe = pd.DataFrame(preprocessor.fit_transform(dataframe), columns= ['x','y','case_id', 'track_id', 'frame_id', 'timestamp_ms', 'agent_type', \n",
        "        'vx', 'vy', 'psi_rad', 'length', 'width', 'label'])\n",
        "\n",
        "# Save scaler to file\n",
        "import pickle as pkl\n",
        "with open(\"/content/drive/MyDrive/PHD_2022/SAC/models/baseline/baseline_train_scaler.pkl\", \"wb\") as outfile:\n",
        "    pkl.dump(preprocessor, outfile)"
      ],
      "metadata": {
        "id": "fs8cGxUpGfl5",
        "cellView": "form"
      },
      "execution_count": null,
      "outputs": []
    },
    {
      "cell_type": "code",
      "source": [
        "# Scaling\n",
        "from sklearn.preprocessing import StandardScaler\n",
        "from sklearn.preprocessing import MinMaxScaler\n",
        "\n",
        "dataframe_scaled = dataframe[[\"x\", \"y\", \"vx\", \"vy\",\"psi_rad\"]]\n",
        "dataframe = dataframe.drop(columns=[\"x\", \"y\", \"vx\", \"vy\",\"psi_rad\"], axis=1)\n",
        "\n",
        "scaler = MinMaxScaler()\n",
        "dataframe_scaled = pd.DataFrame(scaler.fit_transform(dataframe_scaled), columns=[\"x\", \"y\", \"vx\", \"vy\",\"psi_rad\"])\n",
        "\n",
        "dataframe = pd.concat([dataframe, dataframe_scaled], axis=1)\n",
        "\n",
        "# Save scaler to file\n",
        "import pickle as pkl\n",
        "with open(\"/content/drive/MyDrive/PHD_2022/SAC/models/baseline/baseline_train_scaler.pkl\", \"wb\") as outfile:\n",
        "    pkl.dump(scaler, outfile)\n"
      ],
      "metadata": {
        "id": "SsGaBAGXa7W8"
      },
      "execution_count": null,
      "outputs": []
    },
    {
      "cell_type": "code",
      "source": [
        "dataframe.head(5)"
      ],
      "metadata": {
        "colab": {
          "base_uri": "https://localhost:8080/",
          "height": 206
        },
        "id": "GqZsZwn8eeEg",
        "outputId": "b5ad16a8-0ade-49f0-d971-b128f96a079b"
      },
      "execution_count": null,
      "outputs": [
        {
          "output_type": "execute_result",
          "data": {
            "text/plain": [
              "   case_id  track_id  frame_id  timestamp_ms agent_type  length  width  label  \\\n",
              "0      1.0         1         1           100        car    4.31   1.48      0   \n",
              "1      1.0         1         3           300        car    4.31   1.48      0   \n",
              "2      1.0         1         5           500        car    4.31   1.48      0   \n",
              "3      1.0         1         7           700        car    4.31   1.48      0   \n",
              "4      1.0         1         9           900        car    4.31   1.48      0   \n",
              "\n",
              "          x         y        vx        vy   psi_rad  \n",
              "0  0.291060  0.503471  0.656078  0.514731  0.494271  \n",
              "1  0.302272  0.502940  0.672902  0.515541  0.495226  \n",
              "2  0.314447  0.502481  0.689129  0.516387  0.496181  \n",
              "3  0.327544  0.502065  0.704518  0.517233  0.496817  \n",
              "4  0.341511  0.501707  0.718832  0.518043  0.497454  "
            ],
            "text/html": [
              "\n",
              "  <div id=\"df-9842a657-900f-4825-90c0-abcf96a703e2\">\n",
              "    <div class=\"colab-df-container\">\n",
              "      <div>\n",
              "<style scoped>\n",
              "    .dataframe tbody tr th:only-of-type {\n",
              "        vertical-align: middle;\n",
              "    }\n",
              "\n",
              "    .dataframe tbody tr th {\n",
              "        vertical-align: top;\n",
              "    }\n",
              "\n",
              "    .dataframe thead th {\n",
              "        text-align: right;\n",
              "    }\n",
              "</style>\n",
              "<table border=\"1\" class=\"dataframe\">\n",
              "  <thead>\n",
              "    <tr style=\"text-align: right;\">\n",
              "      <th></th>\n",
              "      <th>case_id</th>\n",
              "      <th>track_id</th>\n",
              "      <th>frame_id</th>\n",
              "      <th>timestamp_ms</th>\n",
              "      <th>agent_type</th>\n",
              "      <th>length</th>\n",
              "      <th>width</th>\n",
              "      <th>label</th>\n",
              "      <th>x</th>\n",
              "      <th>y</th>\n",
              "      <th>vx</th>\n",
              "      <th>vy</th>\n",
              "      <th>psi_rad</th>\n",
              "    </tr>\n",
              "  </thead>\n",
              "  <tbody>\n",
              "    <tr>\n",
              "      <th>0</th>\n",
              "      <td>1.0</td>\n",
              "      <td>1</td>\n",
              "      <td>1</td>\n",
              "      <td>100</td>\n",
              "      <td>car</td>\n",
              "      <td>4.31</td>\n",
              "      <td>1.48</td>\n",
              "      <td>0</td>\n",
              "      <td>0.291060</td>\n",
              "      <td>0.503471</td>\n",
              "      <td>0.656078</td>\n",
              "      <td>0.514731</td>\n",
              "      <td>0.494271</td>\n",
              "    </tr>\n",
              "    <tr>\n",
              "      <th>1</th>\n",
              "      <td>1.0</td>\n",
              "      <td>1</td>\n",
              "      <td>3</td>\n",
              "      <td>300</td>\n",
              "      <td>car</td>\n",
              "      <td>4.31</td>\n",
              "      <td>1.48</td>\n",
              "      <td>0</td>\n",
              "      <td>0.302272</td>\n",
              "      <td>0.502940</td>\n",
              "      <td>0.672902</td>\n",
              "      <td>0.515541</td>\n",
              "      <td>0.495226</td>\n",
              "    </tr>\n",
              "    <tr>\n",
              "      <th>2</th>\n",
              "      <td>1.0</td>\n",
              "      <td>1</td>\n",
              "      <td>5</td>\n",
              "      <td>500</td>\n",
              "      <td>car</td>\n",
              "      <td>4.31</td>\n",
              "      <td>1.48</td>\n",
              "      <td>0</td>\n",
              "      <td>0.314447</td>\n",
              "      <td>0.502481</td>\n",
              "      <td>0.689129</td>\n",
              "      <td>0.516387</td>\n",
              "      <td>0.496181</td>\n",
              "    </tr>\n",
              "    <tr>\n",
              "      <th>3</th>\n",
              "      <td>1.0</td>\n",
              "      <td>1</td>\n",
              "      <td>7</td>\n",
              "      <td>700</td>\n",
              "      <td>car</td>\n",
              "      <td>4.31</td>\n",
              "      <td>1.48</td>\n",
              "      <td>0</td>\n",
              "      <td>0.327544</td>\n",
              "      <td>0.502065</td>\n",
              "      <td>0.704518</td>\n",
              "      <td>0.517233</td>\n",
              "      <td>0.496817</td>\n",
              "    </tr>\n",
              "    <tr>\n",
              "      <th>4</th>\n",
              "      <td>1.0</td>\n",
              "      <td>1</td>\n",
              "      <td>9</td>\n",
              "      <td>900</td>\n",
              "      <td>car</td>\n",
              "      <td>4.31</td>\n",
              "      <td>1.48</td>\n",
              "      <td>0</td>\n",
              "      <td>0.341511</td>\n",
              "      <td>0.501707</td>\n",
              "      <td>0.718832</td>\n",
              "      <td>0.518043</td>\n",
              "      <td>0.497454</td>\n",
              "    </tr>\n",
              "  </tbody>\n",
              "</table>\n",
              "</div>\n",
              "      <button class=\"colab-df-convert\" onclick=\"convertToInteractive('df-9842a657-900f-4825-90c0-abcf96a703e2')\"\n",
              "              title=\"Convert this dataframe to an interactive table.\"\n",
              "              style=\"display:none;\">\n",
              "        \n",
              "  <svg xmlns=\"http://www.w3.org/2000/svg\" height=\"24px\"viewBox=\"0 0 24 24\"\n",
              "       width=\"24px\">\n",
              "    <path d=\"M0 0h24v24H0V0z\" fill=\"none\"/>\n",
              "    <path d=\"M18.56 5.44l.94 2.06.94-2.06 2.06-.94-2.06-.94-.94-2.06-.94 2.06-2.06.94zm-11 1L8.5 8.5l.94-2.06 2.06-.94-2.06-.94L8.5 2.5l-.94 2.06-2.06.94zm10 10l.94 2.06.94-2.06 2.06-.94-2.06-.94-.94-2.06-.94 2.06-2.06.94z\"/><path d=\"M17.41 7.96l-1.37-1.37c-.4-.4-.92-.59-1.43-.59-.52 0-1.04.2-1.43.59L10.3 9.45l-7.72 7.72c-.78.78-.78 2.05 0 2.83L4 21.41c.39.39.9.59 1.41.59.51 0 1.02-.2 1.41-.59l7.78-7.78 2.81-2.81c.8-.78.8-2.07 0-2.86zM5.41 20L4 18.59l7.72-7.72 1.47 1.35L5.41 20z\"/>\n",
              "  </svg>\n",
              "      </button>\n",
              "      \n",
              "  <style>\n",
              "    .colab-df-container {\n",
              "      display:flex;\n",
              "      flex-wrap:wrap;\n",
              "      gap: 12px;\n",
              "    }\n",
              "\n",
              "    .colab-df-convert {\n",
              "      background-color: #E8F0FE;\n",
              "      border: none;\n",
              "      border-radius: 50%;\n",
              "      cursor: pointer;\n",
              "      display: none;\n",
              "      fill: #1967D2;\n",
              "      height: 32px;\n",
              "      padding: 0 0 0 0;\n",
              "      width: 32px;\n",
              "    }\n",
              "\n",
              "    .colab-df-convert:hover {\n",
              "      background-color: #E2EBFA;\n",
              "      box-shadow: 0px 1px 2px rgba(60, 64, 67, 0.3), 0px 1px 3px 1px rgba(60, 64, 67, 0.15);\n",
              "      fill: #174EA6;\n",
              "    }\n",
              "\n",
              "    [theme=dark] .colab-df-convert {\n",
              "      background-color: #3B4455;\n",
              "      fill: #D2E3FC;\n",
              "    }\n",
              "\n",
              "    [theme=dark] .colab-df-convert:hover {\n",
              "      background-color: #434B5C;\n",
              "      box-shadow: 0px 1px 3px 1px rgba(0, 0, 0, 0.15);\n",
              "      filter: drop-shadow(0px 1px 2px rgba(0, 0, 0, 0.3));\n",
              "      fill: #FFFFFF;\n",
              "    }\n",
              "  </style>\n",
              "\n",
              "      <script>\n",
              "        const buttonEl =\n",
              "          document.querySelector('#df-9842a657-900f-4825-90c0-abcf96a703e2 button.colab-df-convert');\n",
              "        buttonEl.style.display =\n",
              "          google.colab.kernel.accessAllowed ? 'block' : 'none';\n",
              "\n",
              "        async function convertToInteractive(key) {\n",
              "          const element = document.querySelector('#df-9842a657-900f-4825-90c0-abcf96a703e2');\n",
              "          const dataTable =\n",
              "            await google.colab.kernel.invokeFunction('convertToInteractive',\n",
              "                                                     [key], {});\n",
              "          if (!dataTable) return;\n",
              "\n",
              "          const docLinkHtml = 'Like what you see? Visit the ' +\n",
              "            '<a target=\"_blank\" href=https://colab.research.google.com/notebooks/data_table.ipynb>data table notebook</a>'\n",
              "            + ' to learn more about interactive tables.';\n",
              "          element.innerHTML = '';\n",
              "          dataTable['output_type'] = 'display_data';\n",
              "          await google.colab.output.renderOutput(dataTable, element);\n",
              "          const docLink = document.createElement('div');\n",
              "          docLink.innerHTML = docLinkHtml;\n",
              "          element.appendChild(docLink);\n",
              "        }\n",
              "      </script>\n",
              "    </div>\n",
              "  </div>\n",
              "  "
            ]
          },
          "metadata": {},
          "execution_count": 4
        }
      ]
    },
    {
      "cell_type": "code",
      "source": [
        "dataframe.describe()"
      ],
      "metadata": {
        "colab": {
          "base_uri": "https://localhost:8080/",
          "height": 364
        },
        "id": "uCGb21b4vCiw",
        "outputId": "50650c3e-eef5-4c75-ea2e-52e33b7af1bf"
      },
      "execution_count": null,
      "outputs": [
        {
          "output_type": "execute_result",
          "data": {
            "text/plain": [
              "            case_id       track_id       frame_id   timestamp_ms  \\\n",
              "count  635560.00000  635560.000000  635560.000000  635560.000000   \n",
              "mean     2634.16096       7.163730      20.000000    2000.000000   \n",
              "std      1459.69109       4.006838      11.532572    1153.257167   \n",
              "min         1.00000       1.000000       1.000000     100.000000   \n",
              "25%      1356.00000       4.000000      10.500000    1050.000000   \n",
              "50%      2728.00000       7.000000      20.000000    2000.000000   \n",
              "75%      4006.00000      10.000000      29.500000    2950.000000   \n",
              "max      5163.00000      24.000000      39.000000    3900.000000   \n",
              "\n",
              "              length          width          label              x  \\\n",
              "count  635560.000000  635560.000000  635560.000000  635560.000000   \n",
              "mean        4.503195       1.733667       0.493801       0.395395   \n",
              "std         0.602154       0.203770       0.646093       0.193939   \n",
              "min         2.660000       1.350000       0.000000       0.000000   \n",
              "25%         4.230000       1.560000       0.000000       0.224138   \n",
              "50%         4.450000       1.650000       0.000000       0.384883   \n",
              "75%         4.690000       1.910000       1.000000       0.509980   \n",
              "max        12.200000       2.600000       5.000000       1.000000   \n",
              "\n",
              "                   y             vx             vy        psi_rad  \n",
              "count  635560.000000  635560.000000  635560.000000  635560.000000  \n",
              "mean        0.561131       0.513867       0.519858       0.468657  \n",
              "std         0.136739       0.120124       0.071950       0.241438  \n",
              "min         0.000000       0.000000       0.000000       0.000000  \n",
              "25%         0.515144       0.465157       0.515365       0.272438  \n",
              "50%         0.564678       0.472089       0.522237       0.494749  \n",
              "75%         0.621727       0.551219       0.526149       0.515595  \n",
              "max         1.000000       1.000000       1.000000       1.000000  "
            ],
            "text/html": [
              "\n",
              "  <div id=\"df-affbc198-ee5f-411a-8af6-dd68f98b5ca5\">\n",
              "    <div class=\"colab-df-container\">\n",
              "      <div>\n",
              "<style scoped>\n",
              "    .dataframe tbody tr th:only-of-type {\n",
              "        vertical-align: middle;\n",
              "    }\n",
              "\n",
              "    .dataframe tbody tr th {\n",
              "        vertical-align: top;\n",
              "    }\n",
              "\n",
              "    .dataframe thead th {\n",
              "        text-align: right;\n",
              "    }\n",
              "</style>\n",
              "<table border=\"1\" class=\"dataframe\">\n",
              "  <thead>\n",
              "    <tr style=\"text-align: right;\">\n",
              "      <th></th>\n",
              "      <th>case_id</th>\n",
              "      <th>track_id</th>\n",
              "      <th>frame_id</th>\n",
              "      <th>timestamp_ms</th>\n",
              "      <th>length</th>\n",
              "      <th>width</th>\n",
              "      <th>label</th>\n",
              "      <th>x</th>\n",
              "      <th>y</th>\n",
              "      <th>vx</th>\n",
              "      <th>vy</th>\n",
              "      <th>psi_rad</th>\n",
              "    </tr>\n",
              "  </thead>\n",
              "  <tbody>\n",
              "    <tr>\n",
              "      <th>count</th>\n",
              "      <td>635560.00000</td>\n",
              "      <td>635560.000000</td>\n",
              "      <td>635560.000000</td>\n",
              "      <td>635560.000000</td>\n",
              "      <td>635560.000000</td>\n",
              "      <td>635560.000000</td>\n",
              "      <td>635560.000000</td>\n",
              "      <td>635560.000000</td>\n",
              "      <td>635560.000000</td>\n",
              "      <td>635560.000000</td>\n",
              "      <td>635560.000000</td>\n",
              "      <td>635560.000000</td>\n",
              "    </tr>\n",
              "    <tr>\n",
              "      <th>mean</th>\n",
              "      <td>2634.16096</td>\n",
              "      <td>7.163730</td>\n",
              "      <td>20.000000</td>\n",
              "      <td>2000.000000</td>\n",
              "      <td>4.503195</td>\n",
              "      <td>1.733667</td>\n",
              "      <td>0.493801</td>\n",
              "      <td>0.395395</td>\n",
              "      <td>0.561131</td>\n",
              "      <td>0.513867</td>\n",
              "      <td>0.519858</td>\n",
              "      <td>0.468657</td>\n",
              "    </tr>\n",
              "    <tr>\n",
              "      <th>std</th>\n",
              "      <td>1459.69109</td>\n",
              "      <td>4.006838</td>\n",
              "      <td>11.532572</td>\n",
              "      <td>1153.257167</td>\n",
              "      <td>0.602154</td>\n",
              "      <td>0.203770</td>\n",
              "      <td>0.646093</td>\n",
              "      <td>0.193939</td>\n",
              "      <td>0.136739</td>\n",
              "      <td>0.120124</td>\n",
              "      <td>0.071950</td>\n",
              "      <td>0.241438</td>\n",
              "    </tr>\n",
              "    <tr>\n",
              "      <th>min</th>\n",
              "      <td>1.00000</td>\n",
              "      <td>1.000000</td>\n",
              "      <td>1.000000</td>\n",
              "      <td>100.000000</td>\n",
              "      <td>2.660000</td>\n",
              "      <td>1.350000</td>\n",
              "      <td>0.000000</td>\n",
              "      <td>0.000000</td>\n",
              "      <td>0.000000</td>\n",
              "      <td>0.000000</td>\n",
              "      <td>0.000000</td>\n",
              "      <td>0.000000</td>\n",
              "    </tr>\n",
              "    <tr>\n",
              "      <th>25%</th>\n",
              "      <td>1356.00000</td>\n",
              "      <td>4.000000</td>\n",
              "      <td>10.500000</td>\n",
              "      <td>1050.000000</td>\n",
              "      <td>4.230000</td>\n",
              "      <td>1.560000</td>\n",
              "      <td>0.000000</td>\n",
              "      <td>0.224138</td>\n",
              "      <td>0.515144</td>\n",
              "      <td>0.465157</td>\n",
              "      <td>0.515365</td>\n",
              "      <td>0.272438</td>\n",
              "    </tr>\n",
              "    <tr>\n",
              "      <th>50%</th>\n",
              "      <td>2728.00000</td>\n",
              "      <td>7.000000</td>\n",
              "      <td>20.000000</td>\n",
              "      <td>2000.000000</td>\n",
              "      <td>4.450000</td>\n",
              "      <td>1.650000</td>\n",
              "      <td>0.000000</td>\n",
              "      <td>0.384883</td>\n",
              "      <td>0.564678</td>\n",
              "      <td>0.472089</td>\n",
              "      <td>0.522237</td>\n",
              "      <td>0.494749</td>\n",
              "    </tr>\n",
              "    <tr>\n",
              "      <th>75%</th>\n",
              "      <td>4006.00000</td>\n",
              "      <td>10.000000</td>\n",
              "      <td>29.500000</td>\n",
              "      <td>2950.000000</td>\n",
              "      <td>4.690000</td>\n",
              "      <td>1.910000</td>\n",
              "      <td>1.000000</td>\n",
              "      <td>0.509980</td>\n",
              "      <td>0.621727</td>\n",
              "      <td>0.551219</td>\n",
              "      <td>0.526149</td>\n",
              "      <td>0.515595</td>\n",
              "    </tr>\n",
              "    <tr>\n",
              "      <th>max</th>\n",
              "      <td>5163.00000</td>\n",
              "      <td>24.000000</td>\n",
              "      <td>39.000000</td>\n",
              "      <td>3900.000000</td>\n",
              "      <td>12.200000</td>\n",
              "      <td>2.600000</td>\n",
              "      <td>5.000000</td>\n",
              "      <td>1.000000</td>\n",
              "      <td>1.000000</td>\n",
              "      <td>1.000000</td>\n",
              "      <td>1.000000</td>\n",
              "      <td>1.000000</td>\n",
              "    </tr>\n",
              "  </tbody>\n",
              "</table>\n",
              "</div>\n",
              "      <button class=\"colab-df-convert\" onclick=\"convertToInteractive('df-affbc198-ee5f-411a-8af6-dd68f98b5ca5')\"\n",
              "              title=\"Convert this dataframe to an interactive table.\"\n",
              "              style=\"display:none;\">\n",
              "        \n",
              "  <svg xmlns=\"http://www.w3.org/2000/svg\" height=\"24px\"viewBox=\"0 0 24 24\"\n",
              "       width=\"24px\">\n",
              "    <path d=\"M0 0h24v24H0V0z\" fill=\"none\"/>\n",
              "    <path d=\"M18.56 5.44l.94 2.06.94-2.06 2.06-.94-2.06-.94-.94-2.06-.94 2.06-2.06.94zm-11 1L8.5 8.5l.94-2.06 2.06-.94-2.06-.94L8.5 2.5l-.94 2.06-2.06.94zm10 10l.94 2.06.94-2.06 2.06-.94-2.06-.94-.94-2.06-.94 2.06-2.06.94z\"/><path d=\"M17.41 7.96l-1.37-1.37c-.4-.4-.92-.59-1.43-.59-.52 0-1.04.2-1.43.59L10.3 9.45l-7.72 7.72c-.78.78-.78 2.05 0 2.83L4 21.41c.39.39.9.59 1.41.59.51 0 1.02-.2 1.41-.59l7.78-7.78 2.81-2.81c.8-.78.8-2.07 0-2.86zM5.41 20L4 18.59l7.72-7.72 1.47 1.35L5.41 20z\"/>\n",
              "  </svg>\n",
              "      </button>\n",
              "      \n",
              "  <style>\n",
              "    .colab-df-container {\n",
              "      display:flex;\n",
              "      flex-wrap:wrap;\n",
              "      gap: 12px;\n",
              "    }\n",
              "\n",
              "    .colab-df-convert {\n",
              "      background-color: #E8F0FE;\n",
              "      border: none;\n",
              "      border-radius: 50%;\n",
              "      cursor: pointer;\n",
              "      display: none;\n",
              "      fill: #1967D2;\n",
              "      height: 32px;\n",
              "      padding: 0 0 0 0;\n",
              "      width: 32px;\n",
              "    }\n",
              "\n",
              "    .colab-df-convert:hover {\n",
              "      background-color: #E2EBFA;\n",
              "      box-shadow: 0px 1px 2px rgba(60, 64, 67, 0.3), 0px 1px 3px 1px rgba(60, 64, 67, 0.15);\n",
              "      fill: #174EA6;\n",
              "    }\n",
              "\n",
              "    [theme=dark] .colab-df-convert {\n",
              "      background-color: #3B4455;\n",
              "      fill: #D2E3FC;\n",
              "    }\n",
              "\n",
              "    [theme=dark] .colab-df-convert:hover {\n",
              "      background-color: #434B5C;\n",
              "      box-shadow: 0px 1px 3px 1px rgba(0, 0, 0, 0.15);\n",
              "      filter: drop-shadow(0px 1px 2px rgba(0, 0, 0, 0.3));\n",
              "      fill: #FFFFFF;\n",
              "    }\n",
              "  </style>\n",
              "\n",
              "      <script>\n",
              "        const buttonEl =\n",
              "          document.querySelector('#df-affbc198-ee5f-411a-8af6-dd68f98b5ca5 button.colab-df-convert');\n",
              "        buttonEl.style.display =\n",
              "          google.colab.kernel.accessAllowed ? 'block' : 'none';\n",
              "\n",
              "        async function convertToInteractive(key) {\n",
              "          const element = document.querySelector('#df-affbc198-ee5f-411a-8af6-dd68f98b5ca5');\n",
              "          const dataTable =\n",
              "            await google.colab.kernel.invokeFunction('convertToInteractive',\n",
              "                                                     [key], {});\n",
              "          if (!dataTable) return;\n",
              "\n",
              "          const docLinkHtml = 'Like what you see? Visit the ' +\n",
              "            '<a target=\"_blank\" href=https://colab.research.google.com/notebooks/data_table.ipynb>data table notebook</a>'\n",
              "            + ' to learn more about interactive tables.';\n",
              "          element.innerHTML = '';\n",
              "          dataTable['output_type'] = 'display_data';\n",
              "          await google.colab.output.renderOutput(dataTable, element);\n",
              "          const docLink = document.createElement('div');\n",
              "          docLink.innerHTML = docLinkHtml;\n",
              "          element.appendChild(docLink);\n",
              "        }\n",
              "      </script>\n",
              "    </div>\n",
              "  </div>\n",
              "  "
            ]
          },
          "metadata": {},
          "execution_count": 62
        }
      ]
    },
    {
      "cell_type": "code",
      "source": [
        "case_id = dataframe.groupby([\"case_id\", \"label\"])\n",
        "\n",
        "scenary_x = []\n",
        "scenary_y = []\n",
        "\n",
        "\n",
        "\n",
        "for ix,element in case_id:\n",
        "    l = element.groupby([\"track_id\"])\n",
        "    \n",
        "    agents = [] # 3 trajectories (scenary), one per agent\n",
        "\n",
        "    # Get 3 scenary trajectories\n",
        "    for ig, eg in l:\n",
        "        feat = eg[[\"x\", \"y\", \"vx\", \"vy\",\"psi_rad\"]]\n",
        "        f_list = feat.values.tolist()\n",
        "        agents.append(f_list)\n",
        "    \n",
        "    # separate each trajectory\n",
        "\n",
        "\n",
        "    for tj in agents:\n",
        "        temp = np.array(tj)\n",
        "        temp_x = temp[0:10,:]\n",
        "        temp_y = temp[10:,0:2]  #0:2 only predict x,y\n",
        "\n",
        "        d_x = np.hstack((temp_x))\n",
        "        d_x = d_x.reshape(10,1,5) # 5 features\n",
        "\n",
        "        d_y = np.hstack((temp_y))\n",
        "        d_y = d_y.reshape(10,1,2) # 2 features\n",
        "\n",
        "        scenary_x.append(d_x)\n",
        "        scenary_y.append(d_y)\n",
        "\n",
        "\n",
        "    #a = np.array(agents[0])\n",
        "    #b = np.array(agents[1])\n",
        "    #c = np.array(agents[2])\n",
        "    #### n cars\n",
        "    #d = np.array(agents[3])\n",
        "    #e = np.array(agents[4])\n",
        "    #f = np.array(agents[5])\n",
        "    #g = np.array(agents[6])\n",
        "    #h = np.array(agents[7])\n",
        "    #i = np.array(agents[8])\n",
        "\n",
        "\n",
        "    # split\n",
        "    #a_x = a[0:10,:]\n",
        "    #a_y = a[10:,:] \n",
        "\n",
        "    #b_x = b[0:10,:]\n",
        "    #b_y = b[10:,:] \n",
        "    \n",
        "    #c_x = c[0:10,:]\n",
        "    #c_y = c[10:,:] \n",
        "\n",
        "    ### n cars\n",
        "    #d_x = d[0:10,:]\n",
        "    #d_y = d[10:,:] \n",
        "\n",
        "    #e_x = e[0:10,:]\n",
        "    #e_y = e[10:,:] \n",
        "    \n",
        "    #f_x = f[0:10,:]\n",
        "    #f_y = f[10:,:]\n",
        "\n",
        "    #g_x = g[0:10,:]\n",
        "    #g_y = g[10:,:] \n",
        "\n",
        "    #h_x = h[0:10,:]\n",
        "    #h_y = h[10:,:] \n",
        "    \n",
        "    #i_x = i[0:10,:]\n",
        "    #i_y = i[10:,:]\n",
        "\n",
        "    #d_x = np.hstack((a_x))\n",
        "    #d_x = d_x.reshape(10,1,5) # 5 features\n",
        "\n",
        "    #d_y = np.hstack((a_y))\n",
        "    #d_y = d_y.reshape(10,1,5) # 2 features\n",
        "\n",
        "\n",
        "    #d_x = np.hstack((a_x,b_x,c_x,d_x,e_x,f_x,g_x,h_x,i_x))\n",
        "    #d_x = d_x.reshape(10,9,5) # 5 features\n",
        "\n",
        "    #d_y = np.hstack((a_y,b_y,c_y,d_y,e_y,f_y,g_y,h_y,i_y))\n",
        "    #d_y = d_y.reshape(10,9,5) # 2 features\n",
        "\n",
        "\n",
        "    #scenary_x.append(d_x)\n",
        "    #scenary_y.append(d_y)\n",
        "        \n",
        "    \n",
        "s1 = np.array(scenary_x)   \n",
        "print(s1.shape)\n",
        "\n",
        "s2 = np.array(scenary_y)   \n",
        "print(s2.shape)\n",
        "\n"
      ],
      "metadata": {
        "colab": {
          "base_uri": "https://localhost:8080/"
        },
        "id": "r_PcyXNDewUF",
        "outputId": "0d678ffb-4bf2-450a-b19d-ada907ca5ab2"
      },
      "execution_count": null,
      "outputs": [
        {
          "output_type": "stream",
          "name": "stdout",
          "text": [
            "(31778, 10, 1, 5)\n",
            "(31778, 10, 1, 2)\n"
          ]
        }
      ]
    },
    {
      "cell_type": "code",
      "source": [
        "scene_x_train = np.array(scenary_x)\n",
        "scene_y_train = np.array(scenary_y)\n",
        "\n",
        "n_samples_train = scene_x_train.shape[0]\n",
        "\n",
        "# Store interaction groups to use in the future\n",
        "\n",
        "scene_x_train_interaction = scene_x_train\n",
        "scene_y_train_interaction = scene_y_train\n",
        "#scene_x_test_interaction = scene_x_test\n",
        "#scene_y_test_interaction = scene_y_test\n"
      ],
      "metadata": {
        "id": "Y9kNJXrYYRP4"
      },
      "execution_count": null,
      "outputs": []
    },
    {
      "cell_type": "code",
      "source": [
        "# split train and test set\n",
        "\n",
        "from sklearn.model_selection import train_test_split\n",
        "\n",
        "scene_x_train, scene_x_test, scene_y_train, scene_y_test = train_test_split(scene_x, scene_y, test_size=0.1, random_state=1)\n",
        "\n",
        "\n",
        "print(scene_x_train.shape)\n",
        "print(scene_y_train.shape)\n",
        "print(scene_x_test.shape)\n",
        "print(scene_y_test.shape)\n",
        "\n",
        "# Store interaction groups to use in the future\n",
        "\n",
        "scene_x_train_interaction = scene_x_train\n",
        "scene_y_train_interaction = scene_y_train\n",
        "scene_x_test_interaction = scene_x_test\n",
        "scene_y_test_interaction = scene_y_test"
      ],
      "metadata": {
        "colab": {
          "base_uri": "https://localhost:8080/"
        },
        "id": "_CPReN3I3Cc-",
        "outputId": "4b8efb11-58a2-448c-f016-a2d79bdfc516"
      },
      "execution_count": null,
      "outputs": [
        {
          "output_type": "stream",
          "name": "stdout",
          "text": [
            "(12265, 10, 1, 5)\n",
            "(12265, 10, 1, 5)\n",
            "(1363, 10, 1, 5)\n",
            "(1363, 10, 1, 5)\n"
          ]
        }
      ]
    },
    {
      "cell_type": "code",
      "source": [],
      "metadata": {
        "id": "zCKnvXa5Tn4e"
      },
      "execution_count": null,
      "outputs": []
    },
    {
      "cell_type": "code",
      "source": [
        "# Split dataset to be used as single agent model predictor\n",
        "scene_x_train = tf.transpose(scene_x_train, [2, 0, 1, 3])\n",
        "scene_x_train = tf.reshape(scene_x_train, (n_samples_train * 1, 10, 5))  #batch*nodes, seq_len, feat\n",
        "\n",
        "#scene_x_test = tf.transpose(scene_x_test, [2, 0, 1, 3])\n",
        "#scene_x_test = tf.reshape(scene_x_test, (1363 * 1, 10, 5))  #batch*nodes, seq_len, feat\n",
        "\n",
        "scene_y_train = tf.transpose(scene_y_train, [2, 0, 1, 3])\n",
        "scene_y_train = tf.reshape(scene_y_train, (n_samples_train * 1, 10, 2))  #batch*nodes, seq_len, feat =  2, only predict x,y\n",
        "\n",
        "#scene_y_test = tf.transpose(scene_y_test, [2, 0, 1, 3])\n",
        "#scene_y_test = tf.reshape(scene_y_test, (1363 * 1, 10, 5))  #batch*nodes, seq_len, feat\n",
        "\n",
        "print(scene_x_train.shape)\n",
        "print(scene_y_train.shape)\n",
        "#print(scene_x_test.shape)\n",
        "#print(scene_y_test.shape)\n",
        "\n",
        "\n"
      ],
      "metadata": {
        "colab": {
          "base_uri": "https://localhost:8080/"
        },
        "id": "8CHBYlcZYhHJ",
        "outputId": "ff5be3ef-a2dd-48c1-8664-97c8137c148d"
      },
      "execution_count": null,
      "outputs": [
        {
          "output_type": "stream",
          "name": "stdout",
          "text": [
            "(31778, 10, 5)\n",
            "(31778, 10, 2)\n"
          ]
        }
      ]
    },
    {
      "cell_type": "code",
      "source": [
        "# Display interaction trajectories\n",
        "\n",
        "def print_interaction_trajectory(prev_list,ground_list,n,ix):\n",
        "\n",
        "    fig, ax = plt.subplots(1,n,figsize=(40,5))\n",
        "    \n",
        "    prev = prev_list[ix:ix+n]\n",
        "    ground = ground_list[ix:ix+n]\n",
        "\n",
        "    \n",
        "\n",
        "    for j,p in enumerate(prev):\n",
        "        \n",
        "        g = ground[j]\n",
        "\n",
        "        pre = tf.transpose(p,[1,0,2])\n",
        "        gro = tf.transpose(g,[1,0,2])\n",
        "     \n",
        "        color_p = ['gray','cyan','yellow','gray','gray','cyan','yellow','gray','cyan','yellow']\n",
        "        color_g = ['black','blue','green','black','blue','green','black','blue','green']\n",
        " \n",
        "    \n",
        "             \n",
        "        for i,e_p in enumerate(pre):\n",
        "            e_g = gro[i]\n",
        "\n",
        "          \n",
        "            points_p = tf.transpose(e_p,[1,0]) \n",
        "            points_g = tf.transpose(e_g,[1,0])\n",
        "\n",
        "            \n",
        "\n",
        "            ax[j].plot(points_p[0], points_p[1],'-o', color=color_p[i], linestyle='dashed')\n",
        "            ax[j].plot(points_g[0], points_g[1],'-o', color=color_g[i], linestyle='dashed')\n",
        "    \n",
        "    \n",
        "    plt.show()\n",
        "\n",
        "print_interaction_trajectory(scene_x_train_interaction,scene_y_train_interaction,6,20)  # n = number of clusters to show , ix = start index\n",
        "\n",
        "#print_interaction_trajectory(scene_x_train,scene_y_train,n=6,ix=20)  # n = number of clusters to show , ix = start index\n",
        "\n"
      ],
      "metadata": {
        "colab": {
          "base_uri": "https://localhost:8080/",
          "height": 182
        },
        "id": "qA30eawUcdME",
        "outputId": "dfa66778-39c4-463a-be51-1af410925f8a"
      },
      "execution_count": null,
      "outputs": [
        {
          "output_type": "display_data",
          "data": {
            "text/plain": [
              "<Figure size 2880x360 with 6 Axes>"
            ],
            "image/png": "[encoded data removed]"
          },
          "metadata": {
            "needs_background": "light"
          }
        }
      ]
    },
    {
      "cell_type": "code",
      "source": [
        "# Display single trajectories\n",
        "\n",
        "def print_single_trajectory(prev_list,ground_list,prediction_list,n,ix):\n",
        "    \n",
        "    prev = prev_list[ix:ix+n]\n",
        "    ground = ground_list[ix:ix+n]\n",
        "\n",
        "    if prediction_list is not None:\n",
        "        pred = prediction_list[ix:ix+n]\n",
        "   \n",
        "    fig, ax = plt.subplots(1,n,figsize=(40,5))\n",
        "\n",
        "\n",
        "    for i,p in enumerate(prev):\n",
        "        \n",
        "        g = ground[i]\n",
        "\n",
        "        p = tf.transpose(p,[1,0]) \n",
        "        g = tf.transpose(g,[1,0])\n",
        "\n",
        "        ax[i].plot(p[0], p[1],'-o',color='gray',linestyle='dashed')\n",
        "        ax[i].plot(g[0], g[1],'-o',color='green',linestyle='dashed')\n",
        "\n",
        "        # if you want to print predictions and ground truths at the same time\n",
        "        if prediction_list is not None:\n",
        "            r = pred[i]\n",
        "            r = tf.transpose(r,[1,0])\n",
        "            ax[i].plot(r[0], r[1],'-o',color='red',linestyle='dashed')\n",
        "        \n",
        "    \n",
        "    plt.show()\n",
        "\n",
        "print_single_trajectory(scene_x_train,scene_y_train,None,10,100)"
      ],
      "metadata": {
        "colab": {
          "base_uri": "https://localhost:8080/",
          "height": 183
        },
        "id": "stuvCjMuTUJs",
        "outputId": "1e39daab-e826-4e85-8977-7e9e2a64d9dd"
      },
      "execution_count": null,
      "outputs": [
        {
          "output_type": "display_data",
          "data": {
            "text/plain": [
              "<Figure size 2880x360 with 10 Axes>"
            ],
            "image/png": "[encoded data removed]"
          },
          "metadata": {
            "needs_background": "light"
          }
        }
      ]
    },
    {
      "cell_type": "code",
      "source": [
        "import tensorflow as tf\n",
        "\n",
        "input_sequence_length = 10\n",
        "\n",
        "input_layer = tf.keras.Input(shape=(10,5))\n",
        "\n",
        "encoder = tf.keras.layers.LSTM(2048, return_sequences=False)(input_layer)\n",
        "latent_vector = tf.keras.layers.RepeatVector(10)(encoder)\n",
        "decoder = tf.keras.layers.LSTM(1024, return_sequences=True)(latent_vector)\n",
        "decoder_last = tf.keras.layers.TimeDistributed(tf.keras.layers.Dense(units=2, activation='relu'))(decoder) # units= 2 because we are only predicting x,y\n",
        "\n",
        "model = tf.keras.Model(input_layer, decoder_last)\n",
        "\n",
        "model.compile(loss='mse', optimizer=tf.keras.optimizers.Adam(lr=0.0001), metrics=['mse', 'mae']) #0.00003\n",
        "\n",
        "print(model.summary())"
      ],
      "metadata": {
        "id": "cN12zCFaZrSM",
        "colab": {
          "base_uri": "https://localhost:8080/"
        },
        "outputId": "3f1605af-a6ba-4c16-ef6e-5b6d3c174b4f"
      },
      "execution_count": null,
      "outputs": [
        {
          "output_type": "stream",
          "name": "stdout",
          "text": [
            "Model: \"model\"\n",
            "_________________________________________________________________\n",
            " Layer (type)                Output Shape              Param #   \n",
            "=================================================================\n",
            " input_1 (InputLayer)        [(None, 10, 5)]           0         \n",
            "                                                                 \n",
            " lstm (LSTM)                 (None, 2048)              16826368  \n",
            "                                                                 \n",
            " repeat_vector (RepeatVector  (None, 10, 2048)         0         \n",
            " )                                                               \n",
            "                                                                 \n",
            " lstm_1 (LSTM)               (None, 10, 1024)          12587008  \n",
            "                                                                 \n",
            " time_distributed (TimeDistr  (None, 10, 2)            2050      \n",
            " ibuted)                                                         \n",
            "                                                                 \n",
            "=================================================================\n",
            "Total params: 29,415,426\n",
            "Trainable params: 29,415,426\n",
            "Non-trainable params: 0\n",
            "_________________________________________________________________\n",
            "None\n"
          ]
        },
        {
          "output_type": "stream",
          "name": "stderr",
          "text": [
            "/usr/local/lib/python3.8/dist-packages/keras/optimizers/optimizer_v2/adam.py:110: UserWarning: The `lr` argument is deprecated, use `learning_rate` instead.\n",
            "  super(Adam, self).__init__(name, **kwargs)\n"
          ]
        }
      ]
    },
    {
      "cell_type": "code",
      "source": [
        "# Load a pre-trained model file\n",
        "model = tf.keras.models.load_model('/content/drive/My Drive/PHD_2021/GRAPH_INTENTION/data/models/baseline/')"
      ],
      "metadata": {
        "id": "PRoe1aB67XAO"
      },
      "execution_count": null,
      "outputs": []
    },
    {
      "cell_type": "code",
      "source": [
        "import wandb\n",
        "from wandb.keras import WandbCallback\n",
        "\n",
        "wandb.init(project=\"baseline-model\")"
      ],
      "metadata": {
        "id": "Zzu5ZbgvrqTM",
        "colab": {
          "base_uri": "https://localhost:8080/",
          "height": 160
        },
        "outputId": "90312a98-aa31-48ed-c48a-f7c03e964c54"
      },
      "execution_count": null,
      "outputs": [
        {
          "output_type": "stream",
          "name": "stderr",
          "text": [
            "ERROR:wandb.jupyter:Failed to detect the name of this notebook, you can set it manually with the WANDB_NOTEBOOK_NAME environment variable to enable code saving.\n",
            "\u001b[34m\u001b[1mwandb\u001b[0m: Currently logged in as: \u001b[33mvictorsergio\u001b[0m. Use \u001b[1m`wandb login --relogin`\u001b[0m to force relogin\n"
          ]
        },
        {
          "output_type": "display_data",
          "data": {
            "text/plain": [
              "<IPython.core.display.HTML object>"
            ],
            "text/html": [
              "Tracking run with wandb version 0.13.9"
            ]
          },
          "metadata": {}
        },
        {
          "output_type": "display_data",
          "data": {
            "text/plain": [
              "<IPython.core.display.HTML object>"
            ],
            "text/html": [
              "Run data is saved locally in <code>/content/wandb/run-20230120_000624-zww23jds</code>"
            ]
          },
          "metadata": {}
        },
        {
          "output_type": "display_data",
          "data": {
            "text/plain": [
              "<IPython.core.display.HTML object>"
            ],
            "text/html": [
              "Syncing run <strong><a href=\"https://wandb.ai/victorsergio/baseline-model/runs/zww23jds\" target=\"_blank\">revived-firebrand-2</a></strong> to <a href=\"https://wandb.ai/victorsergio/baseline-model\" target=\"_blank\">Weights & Biases</a> (<a href=\"https://wandb.me/run\" target=\"_blank\">docs</a>)<br/>"
            ]
          },
          "metadata": {}
        },
        {
          "output_type": "display_data",
          "data": {
            "text/plain": [
              "<IPython.core.display.HTML object>"
            ],
            "text/html": [
              " View project at <a href=\"https://wandb.ai/victorsergio/baseline-model\" target=\"_blank\">https://wandb.ai/victorsergio/baseline-model</a>"
            ]
          },
          "metadata": {}
        },
        {
          "output_type": "display_data",
          "data": {
            "text/plain": [
              "<IPython.core.display.HTML object>"
            ],
            "text/html": [
              " View run at <a href=\"https://wandb.ai/victorsergio/baseline-model/runs/zww23jds\" target=\"_blank\">https://wandb.ai/victorsergio/baseline-model/runs/zww23jds</a>"
            ]
          },
          "metadata": {}
        },
        {
          "output_type": "execute_result",
          "data": {
            "text/html": [
              "<button onClick=\"this.nextSibling.style.display='block';this.style.display='none';\">Display W&B run</button><iframe src=\"https://wandb.ai/victorsergio/baseline-model/runs/zww23jds?jupyter=true\" style=\"border:none;width:100%;height:420px;display:none;\"></iframe>"
            ],
            "text/plain": [
              "<wandb.sdk.wandb_run.Run at 0x7fbaf0171b20>"
            ]
          },
          "metadata": {},
          "execution_count": 10
        }
      ]
    },
    {
      "cell_type": "code",
      "source": [
        "#wandb\n",
        "wandb_callback = WandbCallback(monitor='val_loss', mode='min', log_gradients=False,save_model=False)\n",
        "# early stopping\n",
        "early_stopping_callback = tf.keras.callbacks.EarlyStopping(monitor='val_loss', min_delta = 0.0000000000000005, patience=30, mode='min', restore_best_weights=True) #0.00005\n",
        "\n",
        "# callbacks\n",
        "callbacks_list = [wandb_callback,early_stopping_callback]"
      ],
      "metadata": {
        "id": "uY2y8z5grMdK"
      },
      "execution_count": null,
      "outputs": []
    },
    {
      "cell_type": "code",
      "source": [
        "from sklearn.utils import shuffle\n",
        "model.fit(\n",
        "    scene_x_train, scene_y_train, \n",
        "    validation_split=0.2,\n",
        "    batch_size = 128,\n",
        "    epochs=1000,\n",
        "    shuffle = True,\n",
        "    callbacks=callbacks_list,\n",
        ")"
      ],
      "metadata": {
        "id": "lG-24YAJ-Quh"
      },
      "execution_count": null,
      "outputs": []
    },
    {
      "cell_type": "code",
      "source": [
        "# saving the model in tensorflow format\n",
        "model.save('/content/drive/MyDrive/PHD_2022/SAC/models/baseline/')"
      ],
      "metadata": {
        "id": "IJhvyvxjseTe",
        "colab": {
          "base_uri": "https://localhost:8080/"
        },
        "outputId": "8ede3053-5f53-41cb-8b7d-0e24795a92aa"
      },
      "execution_count": null,
      "outputs": [
        {
          "output_type": "stream",
          "name": "stderr",
          "text": [
            "WARNING:absl:Found untraced functions such as lstm_cell_layer_call_fn, lstm_cell_layer_call_and_return_conditional_losses, lstm_cell_1_layer_call_fn, lstm_cell_1_layer_call_and_return_conditional_losses while saving (showing 4 of 4). These functions will not be directly callable after loading.\n"
          ]
        }
      ]
    },
    {
      "cell_type": "code",
      "source": [
        "# ADE function (single)\n",
        "\n",
        "import math\n",
        "def average_displacement_error(pred,ground):\n",
        "\n",
        "    e = []\n",
        "\n",
        "    for p,g in zip(pred,ground):\n",
        "        e.append( math.sqrt (((p[0] - g[0]) ** 2) + ((p[1] - g[1]) ** 2)))\n",
        "\n",
        "    return np.sum(e)/len(e)\n"
      ],
      "metadata": {
        "id": "AJ6YrTE0u_f4"
      },
      "execution_count": null,
      "outputs": []
    },
    {
      "cell_type": "code",
      "source": [
        "# ADE function over BATCH (mean)\n",
        "\n",
        "def calculate_error_batch(results, ground):\n",
        "\n",
        "    e = [] \n",
        "\n",
        "    for r, g in zip(results, ground):\n",
        "        e.append(average_displacement_error(r,g))\n",
        "    \n",
        "    return np.sum(e)/len(e)\n"
      ],
      "metadata": {
        "id": "hSpgqzccxNbU"
      },
      "execution_count": null,
      "outputs": []
    },
    {
      "cell_type": "code",
      "source": [
        "# Evaluate to get MSE error\n",
        "y_pred = model.evaluate(scene_x_train,scene_y_train)"
      ],
      "metadata": {
        "colab": {
          "base_uri": "https://localhost:8080/"
        },
        "id": "EQ1Og2igGatJ",
        "outputId": "7878836a-5e79-493c-c7e4-a3157c4fe2cb"
      },
      "execution_count": null,
      "outputs": [
        {
          "output_type": "stream",
          "name": "stdout",
          "text": [
            "994/994 [==============================] - 4s 4ms/step - loss: 1.2022e-05 - mse: 1.2022e-05 - mae: 0.0019\n"
          ]
        }
      ]
    },
    {
      "cell_type": "code",
      "source": [
        "# Predict to get ADE and FDE metrics (Normalized)\n",
        "\n",
        "results = model.predict(scene_x_train)\n",
        "#calculate_error_batch(scene_x_train,scene_y_train)"
      ],
      "metadata": {
        "id": "nPTzj7ikAhIX",
        "colab": {
          "base_uri": "https://localhost:8080/"
        },
        "outputId": "c1ba261a-f523-4edb-da7e-7d47cd041b46"
      },
      "execution_count": null,
      "outputs": [
        {
          "output_type": "stream",
          "name": "stdout",
          "text": [
            "994/994 [==============================] - 3s 3ms/step\n"
          ]
        }
      ]
    },
    {
      "cell_type": "code",
      "source": [
        "print(results.shape)\n",
        "print(scene_y_train.shape)"
      ],
      "metadata": {
        "colab": {
          "base_uri": "https://localhost:8080/"
        },
        "id": "rIladWYa6pkT",
        "outputId": "c3f345f9-a3fa-4e3b-9152-b969e8388c49"
      },
      "execution_count": null,
      "outputs": [
        {
          "output_type": "stream",
          "name": "stdout",
          "text": [
            "(31778, 10, 2)\n",
            "(31778, 10, 2)\n"
          ]
        }
      ]
    },
    {
      "cell_type": "code",
      "source": [
        "calculate_error_batch(results,scene_y_train)"
      ],
      "metadata": {
        "colab": {
          "base_uri": "https://localhost:8080/"
        },
        "id": "8ujN85Nm6tWK",
        "outputId": "706cdee6-6b08-4130-cbd5-0272388cb056"
      },
      "execution_count": null,
      "outputs": [
        {
          "output_type": "execute_result",
          "data": {
            "text/plain": [
              "0.0030082280578745857"
            ]
          },
          "metadata": {},
          "execution_count": 19
        }
      ]
    },
    {
      "cell_type": "code",
      "source": [
        "print_single_trajectory(scene_x_train,scene_y_train, results,10,20)"
      ],
      "metadata": {
        "colab": {
          "base_uri": "https://localhost:8080/",
          "height": 184
        },
        "id": "ycXEVo7I7xDN",
        "outputId": "8b8afe98-dd23-42ac-c9d8-399dc0438464"
      },
      "execution_count": null,
      "outputs": [
        {
          "output_type": "display_data",
          "data": {
            "text/plain": [
              "<Figure size 2880x360 with 10 Axes>"
            ],
            "image/png": "[encoded data removed]"
          },
          "metadata": {
            "needs_background": "light"
          }
        }
      ]
    },
    {
      "cell_type": "code",
      "source": [
        "print_single_trajectory(scene_x_train,scene_y_train, results,10,100)"
      ],
      "metadata": {
        "colab": {
          "base_uri": "https://localhost:8080/",
          "height": 184
        },
        "id": "RywhvoLR7iId",
        "outputId": "f1ac1aac-882c-4d2f-f7c7-09688d847bd3"
      },
      "execution_count": null,
      "outputs": [
        {
          "output_type": "display_data",
          "data": {
            "text/plain": [
              "<Figure size 2880x360 with 10 Axes>"
            ],
            "image/png": "[encoded data removed]"
          },
          "metadata": {
            "needs_background": "light"
          }
        }
      ]
    },
    {
      "cell_type": "code",
      "source": [
        "print_single_trajectory(scene_x_train,scene_y_train, results,10,200)"
      ],
      "metadata": {
        "id": "h1WRH7bK7v2i",
        "outputId": "92f8ebf7-0387-456f-8f5e-682d3e59589a",
        "colab": {
          "base_uri": "https://localhost:8080/",
          "height": 184
        }
      },
      "execution_count": null,
      "outputs": [
        {
          "output_type": "display_data",
          "data": {
            "text/plain": [
              "<Figure size 2880x360 with 10 Axes>"
            ],
            "image/png": "[encoded data removed]"
          },
          "metadata": {
            "needs_background": "light"
          }
        }
      ]
    },
    {
      "cell_type": "code",
      "source": [
        "results[0]"
      ],
      "metadata": {
        "colab": {
          "base_uri": "https://localhost:8080/"
        },
        "id": "ubSV0fePTww0",
        "outputId": "8879b0c8-9114-4224-a91f-02ccab8f0c7f"
      },
      "execution_count": null,
      "outputs": [
        {
          "output_type": "execute_result",
          "data": {
            "text/plain": [
              "array([[0.43835902, 0.50176346],\n",
              "       [0.4563911 , 0.50222903],\n",
              "       [0.47466275, 0.50322264],\n",
              "       [0.49311653, 0.50427717],\n",
              "       [0.5117558 , 0.5054848 ],\n",
              "       [0.530574  , 0.5068996 ],\n",
              "       [0.54957515, 0.50862384],\n",
              "       [0.56871265, 0.5106694 ],\n",
              "       [0.5879053 , 0.5129845 ],\n",
              "       [0.60717154, 0.51562923]], dtype=float32)"
            ]
          },
          "metadata": {},
          "execution_count": 151
        }
      ]
    },
    {
      "cell_type": "code",
      "source": [
        "scene_x_train.shape"
      ],
      "metadata": {
        "colab": {
          "base_uri": "https://localhost:8080/"
        },
        "id": "7gLA11jplAJp",
        "outputId": "1672764d-f605-4ccf-9c1c-a0d4d2ded6ae"
      },
      "execution_count": null,
      "outputs": [
        {
          "output_type": "execute_result",
          "data": {
            "text/plain": [
              "TensorShape([31778, 10, 5])"
            ]
          },
          "metadata": {},
          "execution_count": 24
        }
      ]
    },
    {
      "cell_type": "code",
      "source": [
        "results.shape"
      ],
      "metadata": {
        "colab": {
          "base_uri": "https://localhost:8080/"
        },
        "id": "1AvvSjB3lFgx",
        "outputId": "ca2f7213-ae05-4d88-d3ca-c99cefb095c0"
      },
      "execution_count": null,
      "outputs": [
        {
          "output_type": "execute_result",
          "data": {
            "text/plain": [
              "(317780, 2)"
            ]
          },
          "metadata": {},
          "execution_count": 215
        }
      ]
    },
    {
      "cell_type": "code",
      "source": [
        "results = np.reshape(results, (31778*10,2))"
      ],
      "metadata": {
        "id": "Vc8TB8yyogal"
      },
      "execution_count": null,
      "outputs": []
    },
    {
      "cell_type": "code",
      "source": [
        "results.shape"
      ],
      "metadata": {
        "colab": {
          "base_uri": "https://localhost:8080/"
        },
        "id": "MTPf5zYnouK3",
        "outputId": "e374e8d4-de10-4634-adac-e00c9b6a3532"
      },
      "execution_count": null,
      "outputs": [
        {
          "output_type": "execute_result",
          "data": {
            "text/plain": [
              "(317780, 2)"
            ]
          },
          "metadata": {},
          "execution_count": 221
        }
      ]
    },
    {
      "cell_type": "code",
      "source": [
        "df_results = pd.DataFrame(results, columns =['x', 'y']) "
      ],
      "metadata": {
        "id": "L2WWMjTioyRI"
      },
      "execution_count": null,
      "outputs": []
    },
    {
      "cell_type": "code",
      "source": [
        "# add dummy columns, because inverse transform needed the orginal columns used to scale the training set\n",
        "df_results['vx'] = 0\n",
        "df_results['vy'] = 0\n",
        "df_results['psi_rad'] = 0\n",
        "\n"
      ],
      "metadata": {
        "id": "56oH0v7zsPTW"
      },
      "execution_count": null,
      "outputs": []
    },
    {
      "cell_type": "code",
      "source": [
        "df_results.head(5)"
      ],
      "metadata": {
        "colab": {
          "base_uri": "https://localhost:8080/",
          "height": 206
        },
        "id": "1xhue8uzstPi",
        "outputId": "c71070fa-0dc7-446d-8fbc-5723505c541d"
      },
      "execution_count": null,
      "outputs": [
        {
          "output_type": "execute_result",
          "data": {
            "text/plain": [
              "          x         y  vx  vy  psi_rad\n",
              "0  0.438359  0.501763   0   0        0\n",
              "1  0.456391  0.502229   0   0        0\n",
              "2  0.474663  0.503223   0   0        0\n",
              "3  0.493117  0.504277   0   0        0\n",
              "4  0.511756  0.505485   0   0        0"
            ],
            "text/html": [
              "\n",
              "  <div id=\"df-7b5716d7-b898-4dde-a5e9-cd24ea4be599\">\n",
              "    <div class=\"colab-df-container\">\n",
              "      <div>\n",
              "<style scoped>\n",
              "    .dataframe tbody tr th:only-of-type {\n",
              "        vertical-align: middle;\n",
              "    }\n",
              "\n",
              "    .dataframe tbody tr th {\n",
              "        vertical-align: top;\n",
              "    }\n",
              "\n",
              "    .dataframe thead th {\n",
              "        text-align: right;\n",
              "    }\n",
              "</style>\n",
              "<table border=\"1\" class=\"dataframe\">\n",
              "  <thead>\n",
              "    <tr style=\"text-align: right;\">\n",
              "      <th></th>\n",
              "      <th>x</th>\n",
              "      <th>y</th>\n",
              "      <th>vx</th>\n",
              "      <th>vy</th>\n",
              "      <th>psi_rad</th>\n",
              "    </tr>\n",
              "  </thead>\n",
              "  <tbody>\n",
              "    <tr>\n",
              "      <th>0</th>\n",
              "      <td>0.438359</td>\n",
              "      <td>0.501763</td>\n",
              "      <td>0</td>\n",
              "      <td>0</td>\n",
              "      <td>0</td>\n",
              "    </tr>\n",
              "    <tr>\n",
              "      <th>1</th>\n",
              "      <td>0.456391</td>\n",
              "      <td>0.502229</td>\n",
              "      <td>0</td>\n",
              "      <td>0</td>\n",
              "      <td>0</td>\n",
              "    </tr>\n",
              "    <tr>\n",
              "      <th>2</th>\n",
              "      <td>0.474663</td>\n",
              "      <td>0.503223</td>\n",
              "      <td>0</td>\n",
              "      <td>0</td>\n",
              "      <td>0</td>\n",
              "    </tr>\n",
              "    <tr>\n",
              "      <th>3</th>\n",
              "      <td>0.493117</td>\n",
              "      <td>0.504277</td>\n",
              "      <td>0</td>\n",
              "      <td>0</td>\n",
              "      <td>0</td>\n",
              "    </tr>\n",
              "    <tr>\n",
              "      <th>4</th>\n",
              "      <td>0.511756</td>\n",
              "      <td>0.505485</td>\n",
              "      <td>0</td>\n",
              "      <td>0</td>\n",
              "      <td>0</td>\n",
              "    </tr>\n",
              "  </tbody>\n",
              "</table>\n",
              "</div>\n",
              "      <button class=\"colab-df-convert\" onclick=\"convertToInteractive('df-7b5716d7-b898-4dde-a5e9-cd24ea4be599')\"\n",
              "              title=\"Convert this dataframe to an interactive table.\"\n",
              "              style=\"display:none;\">\n",
              "        \n",
              "  <svg xmlns=\"http://www.w3.org/2000/svg\" height=\"24px\"viewBox=\"0 0 24 24\"\n",
              "       width=\"24px\">\n",
              "    <path d=\"M0 0h24v24H0V0z\" fill=\"none\"/>\n",
              "    <path d=\"M18.56 5.44l.94 2.06.94-2.06 2.06-.94-2.06-.94-.94-2.06-.94 2.06-2.06.94zm-11 1L8.5 8.5l.94-2.06 2.06-.94-2.06-.94L8.5 2.5l-.94 2.06-2.06.94zm10 10l.94 2.06.94-2.06 2.06-.94-2.06-.94-.94-2.06-.94 2.06-2.06.94z\"/><path d=\"M17.41 7.96l-1.37-1.37c-.4-.4-.92-.59-1.43-.59-.52 0-1.04.2-1.43.59L10.3 9.45l-7.72 7.72c-.78.78-.78 2.05 0 2.83L4 21.41c.39.39.9.59 1.41.59.51 0 1.02-.2 1.41-.59l7.78-7.78 2.81-2.81c.8-.78.8-2.07 0-2.86zM5.41 20L4 18.59l7.72-7.72 1.47 1.35L5.41 20z\"/>\n",
              "  </svg>\n",
              "      </button>\n",
              "      \n",
              "  <style>\n",
              "    .colab-df-container {\n",
              "      display:flex;\n",
              "      flex-wrap:wrap;\n",
              "      gap: 12px;\n",
              "    }\n",
              "\n",
              "    .colab-df-convert {\n",
              "      background-color: #E8F0FE;\n",
              "      border: none;\n",
              "      border-radius: 50%;\n",
              "      cursor: pointer;\n",
              "      display: none;\n",
              "      fill: #1967D2;\n",
              "      height: 32px;\n",
              "      padding: 0 0 0 0;\n",
              "      width: 32px;\n",
              "    }\n",
              "\n",
              "    .colab-df-convert:hover {\n",
              "      background-color: #E2EBFA;\n",
              "      box-shadow: 0px 1px 2px rgba(60, 64, 67, 0.3), 0px 1px 3px 1px rgba(60, 64, 67, 0.15);\n",
              "      fill: #174EA6;\n",
              "    }\n",
              "\n",
              "    [theme=dark] .colab-df-convert {\n",
              "      background-color: #3B4455;\n",
              "      fill: #D2E3FC;\n",
              "    }\n",
              "\n",
              "    [theme=dark] .colab-df-convert:hover {\n",
              "      background-color: #434B5C;\n",
              "      box-shadow: 0px 1px 3px 1px rgba(0, 0, 0, 0.15);\n",
              "      filter: drop-shadow(0px 1px 2px rgba(0, 0, 0, 0.3));\n",
              "      fill: #FFFFFF;\n",
              "    }\n",
              "  </style>\n",
              "\n",
              "      <script>\n",
              "        const buttonEl =\n",
              "          document.querySelector('#df-7b5716d7-b898-4dde-a5e9-cd24ea4be599 button.colab-df-convert');\n",
              "        buttonEl.style.display =\n",
              "          google.colab.kernel.accessAllowed ? 'block' : 'none';\n",
              "\n",
              "        async function convertToInteractive(key) {\n",
              "          const element = document.querySelector('#df-7b5716d7-b898-4dde-a5e9-cd24ea4be599');\n",
              "          const dataTable =\n",
              "            await google.colab.kernel.invokeFunction('convertToInteractive',\n",
              "                                                     [key], {});\n",
              "          if (!dataTable) return;\n",
              "\n",
              "          const docLinkHtml = 'Like what you see? Visit the ' +\n",
              "            '<a target=\"_blank\" href=https://colab.research.google.com/notebooks/data_table.ipynb>data table notebook</a>'\n",
              "            + ' to learn more about interactive tables.';\n",
              "          element.innerHTML = '';\n",
              "          dataTable['output_type'] = 'display_data';\n",
              "          await google.colab.output.renderOutput(dataTable, element);\n",
              "          const docLink = document.createElement('div');\n",
              "          docLink.innerHTML = docLinkHtml;\n",
              "          element.appendChild(docLink);\n",
              "        }\n",
              "      </script>\n",
              "    </div>\n",
              "  </div>\n",
              "  "
            ]
          },
          "metadata": {},
          "execution_count": 224
        }
      ]
    },
    {
      "cell_type": "code",
      "source": [
        "#@title\n",
        "df_results_inv = scaler.inverse_transform(df_results)"
      ],
      "metadata": {
        "cellView": "form",
        "id": "XkLHsWNwqcyw"
      },
      "execution_count": null,
      "outputs": []
    },
    {
      "cell_type": "code",
      "source": [
        "#@title\n",
        "dataframe_reversed = pd.DataFrame(df_results_inv[:,0:2], columns=[\"x\", \"y\"])"
      ],
      "metadata": {
        "cellView": "form",
        "id": "ozZLnXxX9dYK"
      },
      "execution_count": null,
      "outputs": []
    },
    {
      "cell_type": "code",
      "source": [
        "#@title\n",
        "dataframe.describe()"
      ],
      "metadata": {
        "colab": {
          "base_uri": "https://localhost:8080/",
          "height": 364
        },
        "collapsed": true,
        "cellView": "form",
        "id": "34qfyPO4_HUQ",
        "outputId": "6dbfebca-37e7-490a-a698-b3ea70dbeff3"
      },
      "execution_count": null,
      "outputs": [
        {
          "output_type": "execute_result",
          "data": {
            "text/plain": [
              "            case_id       track_id       frame_id   timestamp_ms  \\\n",
              "count  635560.00000  635560.000000  635560.000000  635560.000000   \n",
              "mean     2634.16096       7.163730      20.000000    2000.000000   \n",
              "std      1459.69109       4.006838      11.532572    1153.257167   \n",
              "min         1.00000       1.000000       1.000000     100.000000   \n",
              "25%      1356.00000       4.000000      10.500000    1050.000000   \n",
              "50%      2728.00000       7.000000      20.000000    2000.000000   \n",
              "75%      4006.00000      10.000000      29.500000    2950.000000   \n",
              "max      5163.00000      24.000000      39.000000    3900.000000   \n",
              "\n",
              "                   x              y            vx             vy  \\\n",
              "count  635560.000000  635560.000000  635560.00000  635560.000000   \n",
              "mean     1018.105851    1003.645663       1.60804      -0.084499   \n",
              "std        22.522870       9.534795       4.01982       2.041666   \n",
              "min       972.187000     964.518000     -15.58800     -14.836000   \n",
              "25%       998.217000    1000.439000      -0.02200      -0.212000   \n",
              "50%      1016.885000    1003.893000       0.21000      -0.017000   \n",
              "75%      1031.413000    1007.871000       2.85800       0.094000   \n",
              "max      1088.321000    1034.248000      17.87600      13.540000   \n",
              "\n",
              "             psi_rad         length          width          label  \n",
              "count  635560.000000  635560.000000  635560.000000  635560.000000  \n",
              "mean       -0.196957       4.503195       1.733667       0.493801  \n",
              "std         1.517198       0.602154       0.203770       0.646093  \n",
              "min        -3.142000       2.660000       1.350000       0.000000  \n",
              "25%        -1.430000       4.230000       1.560000       0.000000  \n",
              "50%        -0.033000       4.450000       1.650000       0.000000  \n",
              "75%         0.098000       4.690000       1.910000       1.000000  \n",
              "max         3.142000      12.200000       2.600000       5.000000  "
            ],
            "text/html": [
              "\n",
              "  <div id=\"df-235f9680-83a8-4bb6-b7d6-c8702485b388\">\n",
              "    <div class=\"colab-df-container\">\n",
              "      <div>\n",
              "<style scoped>\n",
              "    .dataframe tbody tr th:only-of-type {\n",
              "        vertical-align: middle;\n",
              "    }\n",
              "\n",
              "    .dataframe tbody tr th {\n",
              "        vertical-align: top;\n",
              "    }\n",
              "\n",
              "    .dataframe thead th {\n",
              "        text-align: right;\n",
              "    }\n",
              "</style>\n",
              "<table border=\"1\" class=\"dataframe\">\n",
              "  <thead>\n",
              "    <tr style=\"text-align: right;\">\n",
              "      <th></th>\n",
              "      <th>case_id</th>\n",
              "      <th>track_id</th>\n",
              "      <th>frame_id</th>\n",
              "      <th>timestamp_ms</th>\n",
              "      <th>x</th>\n",
              "      <th>y</th>\n",
              "      <th>vx</th>\n",
              "      <th>vy</th>\n",
              "      <th>psi_rad</th>\n",
              "      <th>length</th>\n",
              "      <th>width</th>\n",
              "      <th>label</th>\n",
              "    </tr>\n",
              "  </thead>\n",
              "  <tbody>\n",
              "    <tr>\n",
              "      <th>count</th>\n",
              "      <td>635560.00000</td>\n",
              "      <td>635560.000000</td>\n",
              "      <td>635560.000000</td>\n",
              "      <td>635560.000000</td>\n",
              "      <td>635560.000000</td>\n",
              "      <td>635560.000000</td>\n",
              "      <td>635560.00000</td>\n",
              "      <td>635560.000000</td>\n",
              "      <td>635560.000000</td>\n",
              "      <td>635560.000000</td>\n",
              "      <td>635560.000000</td>\n",
              "      <td>635560.000000</td>\n",
              "    </tr>\n",
              "    <tr>\n",
              "      <th>mean</th>\n",
              "      <td>2634.16096</td>\n",
              "      <td>7.163730</td>\n",
              "      <td>20.000000</td>\n",
              "      <td>2000.000000</td>\n",
              "      <td>1018.105851</td>\n",
              "      <td>1003.645663</td>\n",
              "      <td>1.60804</td>\n",
              "      <td>-0.084499</td>\n",
              "      <td>-0.196957</td>\n",
              "      <td>4.503195</td>\n",
              "      <td>1.733667</td>\n",
              "      <td>0.493801</td>\n",
              "    </tr>\n",
              "    <tr>\n",
              "      <th>std</th>\n",
              "      <td>1459.69109</td>\n",
              "      <td>4.006838</td>\n",
              "      <td>11.532572</td>\n",
              "      <td>1153.257167</td>\n",
              "      <td>22.522870</td>\n",
              "      <td>9.534795</td>\n",
              "      <td>4.01982</td>\n",
              "      <td>2.041666</td>\n",
              "      <td>1.517198</td>\n",
              "      <td>0.602154</td>\n",
              "      <td>0.203770</td>\n",
              "      <td>0.646093</td>\n",
              "    </tr>\n",
              "    <tr>\n",
              "      <th>min</th>\n",
              "      <td>1.00000</td>\n",
              "      <td>1.000000</td>\n",
              "      <td>1.000000</td>\n",
              "      <td>100.000000</td>\n",
              "      <td>972.187000</td>\n",
              "      <td>964.518000</td>\n",
              "      <td>-15.58800</td>\n",
              "      <td>-14.836000</td>\n",
              "      <td>-3.142000</td>\n",
              "      <td>2.660000</td>\n",
              "      <td>1.350000</td>\n",
              "      <td>0.000000</td>\n",
              "    </tr>\n",
              "    <tr>\n",
              "      <th>25%</th>\n",
              "      <td>1356.00000</td>\n",
              "      <td>4.000000</td>\n",
              "      <td>10.500000</td>\n",
              "      <td>1050.000000</td>\n",
              "      <td>998.217000</td>\n",
              "      <td>1000.439000</td>\n",
              "      <td>-0.02200</td>\n",
              "      <td>-0.212000</td>\n",
              "      <td>-1.430000</td>\n",
              "      <td>4.230000</td>\n",
              "      <td>1.560000</td>\n",
              "      <td>0.000000</td>\n",
              "    </tr>\n",
              "    <tr>\n",
              "      <th>50%</th>\n",
              "      <td>2728.00000</td>\n",
              "      <td>7.000000</td>\n",
              "      <td>20.000000</td>\n",
              "      <td>2000.000000</td>\n",
              "      <td>1016.885000</td>\n",
              "      <td>1003.893000</td>\n",
              "      <td>0.21000</td>\n",
              "      <td>-0.017000</td>\n",
              "      <td>-0.033000</td>\n",
              "      <td>4.450000</td>\n",
              "      <td>1.650000</td>\n",
              "      <td>0.000000</td>\n",
              "    </tr>\n",
              "    <tr>\n",
              "      <th>75%</th>\n",
              "      <td>4006.00000</td>\n",
              "      <td>10.000000</td>\n",
              "      <td>29.500000</td>\n",
              "      <td>2950.000000</td>\n",
              "      <td>1031.413000</td>\n",
              "      <td>1007.871000</td>\n",
              "      <td>2.85800</td>\n",
              "      <td>0.094000</td>\n",
              "      <td>0.098000</td>\n",
              "      <td>4.690000</td>\n",
              "      <td>1.910000</td>\n",
              "      <td>1.000000</td>\n",
              "    </tr>\n",
              "    <tr>\n",
              "      <th>max</th>\n",
              "      <td>5163.00000</td>\n",
              "      <td>24.000000</td>\n",
              "      <td>39.000000</td>\n",
              "      <td>3900.000000</td>\n",
              "      <td>1088.321000</td>\n",
              "      <td>1034.248000</td>\n",
              "      <td>17.87600</td>\n",
              "      <td>13.540000</td>\n",
              "      <td>3.142000</td>\n",
              "      <td>12.200000</td>\n",
              "      <td>2.600000</td>\n",
              "      <td>5.000000</td>\n",
              "    </tr>\n",
              "  </tbody>\n",
              "</table>\n",
              "</div>\n",
              "      <button class=\"colab-df-convert\" onclick=\"convertToInteractive('df-235f9680-83a8-4bb6-b7d6-c8702485b388')\"\n",
              "              title=\"Convert this dataframe to an interactive table.\"\n",
              "              style=\"display:none;\">\n",
              "        \n",
              "  <svg xmlns=\"http://www.w3.org/2000/svg\" height=\"24px\"viewBox=\"0 0 24 24\"\n",
              "       width=\"24px\">\n",
              "    <path d=\"M0 0h24v24H0V0z\" fill=\"none\"/>\n",
              "    <path d=\"M18.56 5.44l.94 2.06.94-2.06 2.06-.94-2.06-.94-.94-2.06-.94 2.06-2.06.94zm-11 1L8.5 8.5l.94-2.06 2.06-.94-2.06-.94L8.5 2.5l-.94 2.06-2.06.94zm10 10l.94 2.06.94-2.06 2.06-.94-2.06-.94-.94-2.06-.94 2.06-2.06.94z\"/><path d=\"M17.41 7.96l-1.37-1.37c-.4-.4-.92-.59-1.43-.59-.52 0-1.04.2-1.43.59L10.3 9.45l-7.72 7.72c-.78.78-.78 2.05 0 2.83L4 21.41c.39.39.9.59 1.41.59.51 0 1.02-.2 1.41-.59l7.78-7.78 2.81-2.81c.8-.78.8-2.07 0-2.86zM5.41 20L4 18.59l7.72-7.72 1.47 1.35L5.41 20z\"/>\n",
              "  </svg>\n",
              "      </button>\n",
              "      \n",
              "  <style>\n",
              "    .colab-df-container {\n",
              "      display:flex;\n",
              "      flex-wrap:wrap;\n",
              "      gap: 12px;\n",
              "    }\n",
              "\n",
              "    .colab-df-convert {\n",
              "      background-color: #E8F0FE;\n",
              "      border: none;\n",
              "      border-radius: 50%;\n",
              "      cursor: pointer;\n",
              "      display: none;\n",
              "      fill: #1967D2;\n",
              "      height: 32px;\n",
              "      padding: 0 0 0 0;\n",
              "      width: 32px;\n",
              "    }\n",
              "\n",
              "    .colab-df-convert:hover {\n",
              "      background-color: #E2EBFA;\n",
              "      box-shadow: 0px 1px 2px rgba(60, 64, 67, 0.3), 0px 1px 3px 1px rgba(60, 64, 67, 0.15);\n",
              "      fill: #174EA6;\n",
              "    }\n",
              "\n",
              "    [theme=dark] .colab-df-convert {\n",
              "      background-color: #3B4455;\n",
              "      fill: #D2E3FC;\n",
              "    }\n",
              "\n",
              "    [theme=dark] .colab-df-convert:hover {\n",
              "      background-color: #434B5C;\n",
              "      box-shadow: 0px 1px 3px 1px rgba(0, 0, 0, 0.15);\n",
              "      filter: drop-shadow(0px 1px 2px rgba(0, 0, 0, 0.3));\n",
              "      fill: #FFFFFF;\n",
              "    }\n",
              "  </style>\n",
              "\n",
              "      <script>\n",
              "        const buttonEl =\n",
              "          document.querySelector('#df-235f9680-83a8-4bb6-b7d6-c8702485b388 button.colab-df-convert');\n",
              "        buttonEl.style.display =\n",
              "          google.colab.kernel.accessAllowed ? 'block' : 'none';\n",
              "\n",
              "        async function convertToInteractive(key) {\n",
              "          const element = document.querySelector('#df-235f9680-83a8-4bb6-b7d6-c8702485b388');\n",
              "          const dataTable =\n",
              "            await google.colab.kernel.invokeFunction('convertToInteractive',\n",
              "                                                     [key], {});\n",
              "          if (!dataTable) return;\n",
              "\n",
              "          const docLinkHtml = 'Like what you see? Visit the ' +\n",
              "            '<a target=\"_blank\" href=https://colab.research.google.com/notebooks/data_table.ipynb>data table notebook</a>'\n",
              "            + ' to learn more about interactive tables.';\n",
              "          element.innerHTML = '';\n",
              "          dataTable['output_type'] = 'display_data';\n",
              "          await google.colab.output.renderOutput(dataTable, element);\n",
              "          const docLink = document.createElement('div');\n",
              "          docLink.innerHTML = docLinkHtml;\n",
              "          element.appendChild(docLink);\n",
              "        }\n",
              "      </script>\n",
              "    </div>\n",
              "  </div>\n",
              "  "
            ]
          },
          "metadata": {},
          "execution_count": 214
        }
      ]
    },
    {
      "cell_type": "code",
      "source": [
        "#@title\n",
        "dataframe_reversed.describe()"
      ],
      "metadata": {
        "colab": {
          "base_uri": "https://localhost:8080/",
          "height": 300
        },
        "collapsed": true,
        "cellView": "form",
        "id": "LcRQFbuo9m9v",
        "outputId": "13847253-aaa4-40cc-9407-b84b23bd3436"
      },
      "execution_count": null,
      "outputs": [
        {
          "output_type": "execute_result",
          "data": {
            "text/plain": [
              "                   x              y\n",
              "count  317780.000000  317780.000000\n",
              "mean     1019.704339    1003.540273\n",
              "std        22.767534       9.107363\n",
              "min       972.187000     965.922798\n",
              "25%       999.220139    1000.437878\n",
              "50%      1017.341716    1003.896695\n",
              "75%      1034.383692    1007.737602\n",
              "max      1088.629796    1034.163628"
            ],
            "text/html": [
              "\n",
              "  <div id=\"df-15980a53-5097-4b57-beb4-50e941c8921c\">\n",
              "    <div class=\"colab-df-container\">\n",
              "      <div>\n",
              "<style scoped>\n",
              "    .dataframe tbody tr th:only-of-type {\n",
              "        vertical-align: middle;\n",
              "    }\n",
              "\n",
              "    .dataframe tbody tr th {\n",
              "        vertical-align: top;\n",
              "    }\n",
              "\n",
              "    .dataframe thead th {\n",
              "        text-align: right;\n",
              "    }\n",
              "</style>\n",
              "<table border=\"1\" class=\"dataframe\">\n",
              "  <thead>\n",
              "    <tr style=\"text-align: right;\">\n",
              "      <th></th>\n",
              "      <th>x</th>\n",
              "      <th>y</th>\n",
              "    </tr>\n",
              "  </thead>\n",
              "  <tbody>\n",
              "    <tr>\n",
              "      <th>count</th>\n",
              "      <td>317780.000000</td>\n",
              "      <td>317780.000000</td>\n",
              "    </tr>\n",
              "    <tr>\n",
              "      <th>mean</th>\n",
              "      <td>1019.704339</td>\n",
              "      <td>1003.540273</td>\n",
              "    </tr>\n",
              "    <tr>\n",
              "      <th>std</th>\n",
              "      <td>22.767534</td>\n",
              "      <td>9.107363</td>\n",
              "    </tr>\n",
              "    <tr>\n",
              "      <th>min</th>\n",
              "      <td>972.187000</td>\n",
              "      <td>965.922798</td>\n",
              "    </tr>\n",
              "    <tr>\n",
              "      <th>25%</th>\n",
              "      <td>999.220139</td>\n",
              "      <td>1000.437878</td>\n",
              "    </tr>\n",
              "    <tr>\n",
              "      <th>50%</th>\n",
              "      <td>1017.341716</td>\n",
              "      <td>1003.896695</td>\n",
              "    </tr>\n",
              "    <tr>\n",
              "      <th>75%</th>\n",
              "      <td>1034.383692</td>\n",
              "      <td>1007.737602</td>\n",
              "    </tr>\n",
              "    <tr>\n",
              "      <th>max</th>\n",
              "      <td>1088.629796</td>\n",
              "      <td>1034.163628</td>\n",
              "    </tr>\n",
              "  </tbody>\n",
              "</table>\n",
              "</div>\n",
              "      <button class=\"colab-df-convert\" onclick=\"convertToInteractive('df-15980a53-5097-4b57-beb4-50e941c8921c')\"\n",
              "              title=\"Convert this dataframe to an interactive table.\"\n",
              "              style=\"display:none;\">\n",
              "        \n",
              "  <svg xmlns=\"http://www.w3.org/2000/svg\" height=\"24px\"viewBox=\"0 0 24 24\"\n",
              "       width=\"24px\">\n",
              "    <path d=\"M0 0h24v24H0V0z\" fill=\"none\"/>\n",
              "    <path d=\"M18.56 5.44l.94 2.06.94-2.06 2.06-.94-2.06-.94-.94-2.06-.94 2.06-2.06.94zm-11 1L8.5 8.5l.94-2.06 2.06-.94-2.06-.94L8.5 2.5l-.94 2.06-2.06.94zm10 10l.94 2.06.94-2.06 2.06-.94-2.06-.94-.94-2.06-.94 2.06-2.06.94z\"/><path d=\"M17.41 7.96l-1.37-1.37c-.4-.4-.92-.59-1.43-.59-.52 0-1.04.2-1.43.59L10.3 9.45l-7.72 7.72c-.78.78-.78 2.05 0 2.83L4 21.41c.39.39.9.59 1.41.59.51 0 1.02-.2 1.41-.59l7.78-7.78 2.81-2.81c.8-.78.8-2.07 0-2.86zM5.41 20L4 18.59l7.72-7.72 1.47 1.35L5.41 20z\"/>\n",
              "  </svg>\n",
              "      </button>\n",
              "      \n",
              "  <style>\n",
              "    .colab-df-container {\n",
              "      display:flex;\n",
              "      flex-wrap:wrap;\n",
              "      gap: 12px;\n",
              "    }\n",
              "\n",
              "    .colab-df-convert {\n",
              "      background-color: #E8F0FE;\n",
              "      border: none;\n",
              "      border-radius: 50%;\n",
              "      cursor: pointer;\n",
              "      display: none;\n",
              "      fill: #1967D2;\n",
              "      height: 32px;\n",
              "      padding: 0 0 0 0;\n",
              "      width: 32px;\n",
              "    }\n",
              "\n",
              "    .colab-df-convert:hover {\n",
              "      background-color: #E2EBFA;\n",
              "      box-shadow: 0px 1px 2px rgba(60, 64, 67, 0.3), 0px 1px 3px 1px rgba(60, 64, 67, 0.15);\n",
              "      fill: #174EA6;\n",
              "    }\n",
              "\n",
              "    [theme=dark] .colab-df-convert {\n",
              "      background-color: #3B4455;\n",
              "      fill: #D2E3FC;\n",
              "    }\n",
              "\n",
              "    [theme=dark] .colab-df-convert:hover {\n",
              "      background-color: #434B5C;\n",
              "      box-shadow: 0px 1px 3px 1px rgba(0, 0, 0, 0.15);\n",
              "      filter: drop-shadow(0px 1px 2px rgba(0, 0, 0, 0.3));\n",
              "      fill: #FFFFFF;\n",
              "    }\n",
              "  </style>\n",
              "\n",
              "      <script>\n",
              "        const buttonEl =\n",
              "          document.querySelector('#df-15980a53-5097-4b57-beb4-50e941c8921c button.colab-df-convert');\n",
              "        buttonEl.style.display =\n",
              "          google.colab.kernel.accessAllowed ? 'block' : 'none';\n",
              "\n",
              "        async function convertToInteractive(key) {\n",
              "          const element = document.querySelector('#df-15980a53-5097-4b57-beb4-50e941c8921c');\n",
              "          const dataTable =\n",
              "            await google.colab.kernel.invokeFunction('convertToInteractive',\n",
              "                                                     [key], {});\n",
              "          if (!dataTable) return;\n",
              "\n",
              "          const docLinkHtml = 'Like what you see? Visit the ' +\n",
              "            '<a target=\"_blank\" href=https://colab.research.google.com/notebooks/data_table.ipynb>data table notebook</a>'\n",
              "            + ' to learn more about interactive tables.';\n",
              "          element.innerHTML = '';\n",
              "          dataTable['output_type'] = 'display_data';\n",
              "          await google.colab.output.renderOutput(dataTable, element);\n",
              "          const docLink = document.createElement('div');\n",
              "          docLink.innerHTML = docLinkHtml;\n",
              "          element.appendChild(docLink);\n",
              "        }\n",
              "      </script>\n",
              "    </div>\n",
              "  </div>\n",
              "  "
            ]
          },
          "metadata": {},
          "execution_count": 198
        }
      ]
    },
    {
      "cell_type": "code",
      "source": [
        "#@title\n",
        "scene_x_train[0]"
      ],
      "metadata": {
        "colab": {
          "base_uri": "https://localhost:8080/"
        },
        "collapsed": true,
        "cellView": "form",
        "id": "LurLEnPXngQz",
        "outputId": "c212e516-c63a-4504-f652-1998ccb45dac"
      },
      "execution_count": null,
      "outputs": [
        {
          "output_type": "execute_result",
          "data": {
            "text/plain": [
              "<tf.Tensor: shape=(10, 5), dtype=float64, numpy=\n",
              "array([[0.29106033, 0.50347053, 0.65607817, 0.51473076, 0.49427116],\n",
              "       [0.30227151, 0.50293991, 0.67290222, 0.5155413 , 0.49522597],\n",
              "       [0.3144471 , 0.502481  , 0.68912862, 0.51638709, 0.49618078],\n",
              "       [0.32754404, 0.50206511, 0.70451829, 0.51723287, 0.49681731],\n",
              "       [0.34151067, 0.50170658, 0.71883218, 0.51804342, 0.49745385],\n",
              "       [0.3562867 , 0.50141976, 0.73189099, 0.51899493, 0.49809039],\n",
              "       [0.37178604, 0.50120465, 0.74351542, 0.52022836, 0.49872693],\n",
              "       [0.3879484 , 0.50110426, 0.75364571, 0.52177897, 0.4995226 ],\n",
              "       [0.40466186, 0.50116162, 0.7623715 , 0.52368198, 0.50031827],\n",
              "       [0.42186612, 0.50137674, 0.76990198, 0.52583169, 0.50127307]])>"
            ]
          },
          "metadata": {},
          "execution_count": 201
        }
      ]
    },
    {
      "cell_type": "code",
      "source": [
        "#@title\n",
        "df_results_inv.shape"
      ],
      "metadata": {
        "colab": {
          "base_uri": "https://localhost:8080/"
        },
        "collapsed": true,
        "cellView": "form",
        "id": "h14QPFLju9fb",
        "outputId": "e85ce3fd-cbc2-496f-9649-a75157838e9e"
      },
      "execution_count": null,
      "outputs": [
        {
          "output_type": "execute_result",
          "data": {
            "text/plain": [
              "(317780, 5)"
            ]
          },
          "metadata": {},
          "execution_count": 202
        }
      ]
    },
    {
      "cell_type": "code",
      "source": [
        "df_results_np = df_results.to_numpy()"
      ],
      "metadata": {
        "id": "KWeo-AVqB8Do"
      },
      "execution_count": null,
      "outputs": []
    },
    {
      "cell_type": "code",
      "source": [
        "df_results_np.shape"
      ],
      "metadata": {
        "colab": {
          "base_uri": "https://localhost:8080/"
        },
        "id": "qPWiDqJNCFAG",
        "outputId": "7c8363e9-b1ae-49d2-c397-35c5a9107dc6"
      },
      "execution_count": null,
      "outputs": [
        {
          "output_type": "execute_result",
          "data": {
            "text/plain": [
              "(317780, 5)"
            ]
          },
          "metadata": {},
          "execution_count": 226
        }
      ]
    },
    {
      "cell_type": "code",
      "source": [
        "results_reshape = np.reshape(df_results_np, (31778,10,5))"
      ],
      "metadata": {
        "id": "c7U5FWmru9w8"
      },
      "execution_count": null,
      "outputs": []
    },
    {
      "cell_type": "code",
      "source": [
        "results_reshape.shape"
      ],
      "metadata": {
        "colab": {
          "base_uri": "https://localhost:8080/"
        },
        "id": "rkqe06NMu-AW",
        "outputId": "cde0c446-8150-43a6-c03d-ee0739bc9294"
      },
      "execution_count": null,
      "outputs": [
        {
          "output_type": "execute_result",
          "data": {
            "text/plain": [
              "(31778, 10, 5)"
            ]
          },
          "metadata": {},
          "execution_count": 228
        }
      ]
    },
    {
      "cell_type": "code",
      "source": [
        "#@title\n",
        "scene_x_train.shape"
      ],
      "metadata": {
        "colab": {
          "base_uri": "https://localhost:8080/"
        },
        "cellView": "form",
        "collapsed": true,
        "id": "afXiVS82_6n-",
        "outputId": "7f66e105-53dd-421e-fea8-0ed7401b35d2"
      },
      "execution_count": null,
      "outputs": [
        {
          "output_type": "execute_result",
          "data": {
            "text/plain": [
              "TensorShape([31778, 10, 5])"
            ]
          },
          "metadata": {},
          "execution_count": 210
        }
      ]
    },
    {
      "cell_type": "code",
      "source": [
        "elements = []\n",
        "\n",
        "for ix,e in enumerate(scene_x_train):\n",
        "    traj = np.append(e.numpy(),results_reshape[ix],axis=0)\n",
        "    elements.append(traj)"
      ],
      "metadata": {
        "id": "84POFg7Bu-Qf"
      },
      "execution_count": null,
      "outputs": []
    },
    {
      "cell_type": "code",
      "source": [
        "all_results = np.array(elements)"
      ],
      "metadata": {
        "id": "nV6JYVvl0s6T"
      },
      "execution_count": null,
      "outputs": []
    },
    {
      "cell_type": "code",
      "source": [
        "all_results.shape"
      ],
      "metadata": {
        "colab": {
          "base_uri": "https://localhost:8080/"
        },
        "id": "LN-oEiIf2Kca",
        "outputId": "40bd1ba6-0869-46b4-d985-269bb9da95bf"
      },
      "execution_count": null,
      "outputs": [
        {
          "output_type": "execute_result",
          "data": {
            "text/plain": [
              "(31778, 20, 5)"
            ]
          },
          "metadata": {},
          "execution_count": 231
        }
      ]
    },
    {
      "cell_type": "code",
      "source": [
        "all_results = np.reshape(all_results,(31778*20,5))"
      ],
      "metadata": {
        "id": "uzYVZtOU2Ng9"
      },
      "execution_count": null,
      "outputs": []
    },
    {
      "cell_type": "code",
      "source": [
        "all_results.shape\n"
      ],
      "metadata": {
        "colab": {
          "base_uri": "https://localhost:8080/"
        },
        "id": "Z7a4v_rwyhDw",
        "outputId": "a83e9cbf-eb85-49eb-8307-dceb152e2932"
      },
      "execution_count": null,
      "outputs": [
        {
          "output_type": "execute_result",
          "data": {
            "text/plain": [
              "(635560, 5)"
            ]
          },
          "metadata": {},
          "execution_count": 233
        }
      ]
    },
    {
      "cell_type": "code",
      "source": [
        "dataframe_results = pd.DataFrame(all_results[:,0:2], columns=[\"x\", \"y\"])"
      ],
      "metadata": {
        "id": "gj5Qs62m2fiU"
      },
      "execution_count": null,
      "outputs": []
    },
    {
      "cell_type": "code",
      "source": [
        "dataframe_results.describe()"
      ],
      "metadata": {
        "colab": {
          "base_uri": "https://localhost:8080/",
          "height": 300
        },
        "id": "4KmNF0Ew2gEc",
        "outputId": "b98f5be5-6544-42ef-9976-7904c437ff2e"
      },
      "execution_count": null,
      "outputs": [
        {
          "output_type": "execute_result",
          "data": {
            "text/plain": [
              "                   x              y\n",
              "count  635560.000000  635560.000000\n",
              "mean        0.395413       0.560948\n",
              "std         0.193955       0.136758\n",
              "min         0.000000       0.000000\n",
              "25%         0.224104       0.515048\n",
              "50%         0.384924       0.564721\n",
              "75%         0.510100       0.621294\n",
              "max         1.002659       1.000000"
            ],
            "text/html": [
              "\n",
              "  <div id=\"df-38f9b14f-4aae-48a9-8518-4145de980fbe\">\n",
              "    <div class=\"colab-df-container\">\n",
              "      <div>\n",
              "<style scoped>\n",
              "    .dataframe tbody tr th:only-of-type {\n",
              "        vertical-align: middle;\n",
              "    }\n",
              "\n",
              "    .dataframe tbody tr th {\n",
              "        vertical-align: top;\n",
              "    }\n",
              "\n",
              "    .dataframe thead th {\n",
              "        text-align: right;\n",
              "    }\n",
              "</style>\n",
              "<table border=\"1\" class=\"dataframe\">\n",
              "  <thead>\n",
              "    <tr style=\"text-align: right;\">\n",
              "      <th></th>\n",
              "      <th>x</th>\n",
              "      <th>y</th>\n",
              "    </tr>\n",
              "  </thead>\n",
              "  <tbody>\n",
              "    <tr>\n",
              "      <th>count</th>\n",
              "      <td>635560.000000</td>\n",
              "      <td>635560.000000</td>\n",
              "    </tr>\n",
              "    <tr>\n",
              "      <th>mean</th>\n",
              "      <td>0.395413</td>\n",
              "      <td>0.560948</td>\n",
              "    </tr>\n",
              "    <tr>\n",
              "      <th>std</th>\n",
              "      <td>0.193955</td>\n",
              "      <td>0.136758</td>\n",
              "    </tr>\n",
              "    <tr>\n",
              "      <th>min</th>\n",
              "      <td>0.000000</td>\n",
              "      <td>0.000000</td>\n",
              "    </tr>\n",
              "    <tr>\n",
              "      <th>25%</th>\n",
              "      <td>0.224104</td>\n",
              "      <td>0.515048</td>\n",
              "    </tr>\n",
              "    <tr>\n",
              "      <th>50%</th>\n",
              "      <td>0.384924</td>\n",
              "      <td>0.564721</td>\n",
              "    </tr>\n",
              "    <tr>\n",
              "      <th>75%</th>\n",
              "      <td>0.510100</td>\n",
              "      <td>0.621294</td>\n",
              "    </tr>\n",
              "    <tr>\n",
              "      <th>max</th>\n",
              "      <td>1.002659</td>\n",
              "      <td>1.000000</td>\n",
              "    </tr>\n",
              "  </tbody>\n",
              "</table>\n",
              "</div>\n",
              "      <button class=\"colab-df-convert\" onclick=\"convertToInteractive('df-38f9b14f-4aae-48a9-8518-4145de980fbe')\"\n",
              "              title=\"Convert this dataframe to an interactive table.\"\n",
              "              style=\"display:none;\">\n",
              "        \n",
              "  <svg xmlns=\"http://www.w3.org/2000/svg\" height=\"24px\"viewBox=\"0 0 24 24\"\n",
              "       width=\"24px\">\n",
              "    <path d=\"M0 0h24v24H0V0z\" fill=\"none\"/>\n",
              "    <path d=\"M18.56 5.44l.94 2.06.94-2.06 2.06-.94-2.06-.94-.94-2.06-.94 2.06-2.06.94zm-11 1L8.5 8.5l.94-2.06 2.06-.94-2.06-.94L8.5 2.5l-.94 2.06-2.06.94zm10 10l.94 2.06.94-2.06 2.06-.94-2.06-.94-.94-2.06-.94 2.06-2.06.94z\"/><path d=\"M17.41 7.96l-1.37-1.37c-.4-.4-.92-.59-1.43-.59-.52 0-1.04.2-1.43.59L10.3 9.45l-7.72 7.72c-.78.78-.78 2.05 0 2.83L4 21.41c.39.39.9.59 1.41.59.51 0 1.02-.2 1.41-.59l7.78-7.78 2.81-2.81c.8-.78.8-2.07 0-2.86zM5.41 20L4 18.59l7.72-7.72 1.47 1.35L5.41 20z\"/>\n",
              "  </svg>\n",
              "      </button>\n",
              "      \n",
              "  <style>\n",
              "    .colab-df-container {\n",
              "      display:flex;\n",
              "      flex-wrap:wrap;\n",
              "      gap: 12px;\n",
              "    }\n",
              "\n",
              "    .colab-df-convert {\n",
              "      background-color: #E8F0FE;\n",
              "      border: none;\n",
              "      border-radius: 50%;\n",
              "      cursor: pointer;\n",
              "      display: none;\n",
              "      fill: #1967D2;\n",
              "      height: 32px;\n",
              "      padding: 0 0 0 0;\n",
              "      width: 32px;\n",
              "    }\n",
              "\n",
              "    .colab-df-convert:hover {\n",
              "      background-color: #E2EBFA;\n",
              "      box-shadow: 0px 1px 2px rgba(60, 64, 67, 0.3), 0px 1px 3px 1px rgba(60, 64, 67, 0.15);\n",
              "      fill: #174EA6;\n",
              "    }\n",
              "\n",
              "    [theme=dark] .colab-df-convert {\n",
              "      background-color: #3B4455;\n",
              "      fill: #D2E3FC;\n",
              "    }\n",
              "\n",
              "    [theme=dark] .colab-df-convert:hover {\n",
              "      background-color: #434B5C;\n",
              "      box-shadow: 0px 1px 3px 1px rgba(0, 0, 0, 0.15);\n",
              "      filter: drop-shadow(0px 1px 2px rgba(0, 0, 0, 0.3));\n",
              "      fill: #FFFFFF;\n",
              "    }\n",
              "  </style>\n",
              "\n",
              "      <script>\n",
              "        const buttonEl =\n",
              "          document.querySelector('#df-38f9b14f-4aae-48a9-8518-4145de980fbe button.colab-df-convert');\n",
              "        buttonEl.style.display =\n",
              "          google.colab.kernel.accessAllowed ? 'block' : 'none';\n",
              "\n",
              "        async function convertToInteractive(key) {\n",
              "          const element = document.querySelector('#df-38f9b14f-4aae-48a9-8518-4145de980fbe');\n",
              "          const dataTable =\n",
              "            await google.colab.kernel.invokeFunction('convertToInteractive',\n",
              "                                                     [key], {});\n",
              "          if (!dataTable) return;\n",
              "\n",
              "          const docLinkHtml = 'Like what you see? Visit the ' +\n",
              "            '<a target=\"_blank\" href=https://colab.research.google.com/notebooks/data_table.ipynb>data table notebook</a>'\n",
              "            + ' to learn more about interactive tables.';\n",
              "          element.innerHTML = '';\n",
              "          dataTable['output_type'] = 'display_data';\n",
              "          await google.colab.output.renderOutput(dataTable, element);\n",
              "          const docLink = document.createElement('div');\n",
              "          docLink.innerHTML = docLinkHtml;\n",
              "          element.appendChild(docLink);\n",
              "        }\n",
              "      </script>\n",
              "    </div>\n",
              "  </div>\n",
              "  "
            ]
          },
          "metadata": {},
          "execution_count": 235
        }
      ]
    },
    {
      "cell_type": "code",
      "source": [
        "dataframe_results.to_csv('/content/drive/MyDrive/PHD_2022/SAC/data/INTERACTION-Dataset-DR-single-v1_2/train/50m-DR_USA_Intersection_MA_train_baseline_results.csv',  index = False)"
      ],
      "metadata": {
        "id": "fkmt1nOq2gUj"
      },
      "execution_count": null,
      "outputs": []
    },
    {
      "cell_type": "code",
      "source": [
        "dataframe.describe()"
      ],
      "metadata": {
        "colab": {
          "base_uri": "https://localhost:8080/",
          "height": 364
        },
        "id": "aIzNebrH2uka",
        "outputId": "3eca5611-8445-49b2-dd78-c803aef7fdb7"
      },
      "execution_count": null,
      "outputs": [
        {
          "output_type": "execute_result",
          "data": {
            "text/plain": [
              "            case_id       track_id       frame_id   timestamp_ms  \\\n",
              "count  635560.00000  635560.000000  635560.000000  635560.000000   \n",
              "mean     2634.16096       7.163730      20.000000    2000.000000   \n",
              "std      1459.69109       4.006838      11.532572    1153.257167   \n",
              "min         1.00000       1.000000       1.000000     100.000000   \n",
              "25%      1356.00000       4.000000      10.500000    1050.000000   \n",
              "50%      2728.00000       7.000000      20.000000    2000.000000   \n",
              "75%      4006.00000      10.000000      29.500000    2950.000000   \n",
              "max      5163.00000      24.000000      39.000000    3900.000000   \n",
              "\n",
              "                   x              y            vx             vy  \\\n",
              "count  635560.000000  635560.000000  635560.00000  635560.000000   \n",
              "mean     1018.105851    1003.645663       1.60804      -0.084499   \n",
              "std        22.522870       9.534795       4.01982       2.041666   \n",
              "min       972.187000     964.518000     -15.58800     -14.836000   \n",
              "25%       998.217000    1000.439000      -0.02200      -0.212000   \n",
              "50%      1016.885000    1003.893000       0.21000      -0.017000   \n",
              "75%      1031.413000    1007.871000       2.85800       0.094000   \n",
              "max      1088.321000    1034.248000      17.87600      13.540000   \n",
              "\n",
              "             psi_rad         length          width          label  \n",
              "count  635560.000000  635560.000000  635560.000000  635560.000000  \n",
              "mean       -0.196957       4.503195       1.733667       0.493801  \n",
              "std         1.517198       0.602154       0.203770       0.646093  \n",
              "min        -3.142000       2.660000       1.350000       0.000000  \n",
              "25%        -1.430000       4.230000       1.560000       0.000000  \n",
              "50%        -0.033000       4.450000       1.650000       0.000000  \n",
              "75%         0.098000       4.690000       1.910000       1.000000  \n",
              "max         3.142000      12.200000       2.600000       5.000000  "
            ],
            "text/html": [
              "\n",
              "  <div id=\"df-fe36fb0f-a3f8-498e-a5a8-5c2ab39578c8\">\n",
              "    <div class=\"colab-df-container\">\n",
              "      <div>\n",
              "<style scoped>\n",
              "    .dataframe tbody tr th:only-of-type {\n",
              "        vertical-align: middle;\n",
              "    }\n",
              "\n",
              "    .dataframe tbody tr th {\n",
              "        vertical-align: top;\n",
              "    }\n",
              "\n",
              "    .dataframe thead th {\n",
              "        text-align: right;\n",
              "    }\n",
              "</style>\n",
              "<table border=\"1\" class=\"dataframe\">\n",
              "  <thead>\n",
              "    <tr style=\"text-align: right;\">\n",
              "      <th></th>\n",
              "      <th>case_id</th>\n",
              "      <th>track_id</th>\n",
              "      <th>frame_id</th>\n",
              "      <th>timestamp_ms</th>\n",
              "      <th>x</th>\n",
              "      <th>y</th>\n",
              "      <th>vx</th>\n",
              "      <th>vy</th>\n",
              "      <th>psi_rad</th>\n",
              "      <th>length</th>\n",
              "      <th>width</th>\n",
              "      <th>label</th>\n",
              "    </tr>\n",
              "  </thead>\n",
              "  <tbody>\n",
              "    <tr>\n",
              "      <th>count</th>\n",
              "      <td>635560.00000</td>\n",
              "      <td>635560.000000</td>\n",
              "      <td>635560.000000</td>\n",
              "      <td>635560.000000</td>\n",
              "      <td>635560.000000</td>\n",
              "      <td>635560.000000</td>\n",
              "      <td>635560.00000</td>\n",
              "      <td>635560.000000</td>\n",
              "      <td>635560.000000</td>\n",
              "      <td>635560.000000</td>\n",
              "      <td>635560.000000</td>\n",
              "      <td>635560.000000</td>\n",
              "    </tr>\n",
              "    <tr>\n",
              "      <th>mean</th>\n",
              "      <td>2634.16096</td>\n",
              "      <td>7.163730</td>\n",
              "      <td>20.000000</td>\n",
              "      <td>2000.000000</td>\n",
              "      <td>1018.105851</td>\n",
              "      <td>1003.645663</td>\n",
              "      <td>1.60804</td>\n",
              "      <td>-0.084499</td>\n",
              "      <td>-0.196957</td>\n",
              "      <td>4.503195</td>\n",
              "      <td>1.733667</td>\n",
              "      <td>0.493801</td>\n",
              "    </tr>\n",
              "    <tr>\n",
              "      <th>std</th>\n",
              "      <td>1459.69109</td>\n",
              "      <td>4.006838</td>\n",
              "      <td>11.532572</td>\n",
              "      <td>1153.257167</td>\n",
              "      <td>22.522870</td>\n",
              "      <td>9.534795</td>\n",
              "      <td>4.01982</td>\n",
              "      <td>2.041666</td>\n",
              "      <td>1.517198</td>\n",
              "      <td>0.602154</td>\n",
              "      <td>0.203770</td>\n",
              "      <td>0.646093</td>\n",
              "    </tr>\n",
              "    <tr>\n",
              "      <th>min</th>\n",
              "      <td>1.00000</td>\n",
              "      <td>1.000000</td>\n",
              "      <td>1.000000</td>\n",
              "      <td>100.000000</td>\n",
              "      <td>972.187000</td>\n",
              "      <td>964.518000</td>\n",
              "      <td>-15.58800</td>\n",
              "      <td>-14.836000</td>\n",
              "      <td>-3.142000</td>\n",
              "      <td>2.660000</td>\n",
              "      <td>1.350000</td>\n",
              "      <td>0.000000</td>\n",
              "    </tr>\n",
              "    <tr>\n",
              "      <th>25%</th>\n",
              "      <td>1356.00000</td>\n",
              "      <td>4.000000</td>\n",
              "      <td>10.500000</td>\n",
              "      <td>1050.000000</td>\n",
              "      <td>998.217000</td>\n",
              "      <td>1000.439000</td>\n",
              "      <td>-0.02200</td>\n",
              "      <td>-0.212000</td>\n",
              "      <td>-1.430000</td>\n",
              "      <td>4.230000</td>\n",
              "      <td>1.560000</td>\n",
              "      <td>0.000000</td>\n",
              "    </tr>\n",
              "    <tr>\n",
              "      <th>50%</th>\n",
              "      <td>2728.00000</td>\n",
              "      <td>7.000000</td>\n",
              "      <td>20.000000</td>\n",
              "      <td>2000.000000</td>\n",
              "      <td>1016.885000</td>\n",
              "      <td>1003.893000</td>\n",
              "      <td>0.21000</td>\n",
              "      <td>-0.017000</td>\n",
              "      <td>-0.033000</td>\n",
              "      <td>4.450000</td>\n",
              "      <td>1.650000</td>\n",
              "      <td>0.000000</td>\n",
              "    </tr>\n",
              "    <tr>\n",
              "      <th>75%</th>\n",
              "      <td>4006.00000</td>\n",
              "      <td>10.000000</td>\n",
              "      <td>29.500000</td>\n",
              "      <td>2950.000000</td>\n",
              "      <td>1031.413000</td>\n",
              "      <td>1007.871000</td>\n",
              "      <td>2.85800</td>\n",
              "      <td>0.094000</td>\n",
              "      <td>0.098000</td>\n",
              "      <td>4.690000</td>\n",
              "      <td>1.910000</td>\n",
              "      <td>1.000000</td>\n",
              "    </tr>\n",
              "    <tr>\n",
              "      <th>max</th>\n",
              "      <td>5163.00000</td>\n",
              "      <td>24.000000</td>\n",
              "      <td>39.000000</td>\n",
              "      <td>3900.000000</td>\n",
              "      <td>1088.321000</td>\n",
              "      <td>1034.248000</td>\n",
              "      <td>17.87600</td>\n",
              "      <td>13.540000</td>\n",
              "      <td>3.142000</td>\n",
              "      <td>12.200000</td>\n",
              "      <td>2.600000</td>\n",
              "      <td>5.000000</td>\n",
              "    </tr>\n",
              "  </tbody>\n",
              "</table>\n",
              "</div>\n",
              "      <button class=\"colab-df-convert\" onclick=\"convertToInteractive('df-fe36fb0f-a3f8-498e-a5a8-5c2ab39578c8')\"\n",
              "              title=\"Convert this dataframe to an interactive table.\"\n",
              "              style=\"display:none;\">\n",
              "        \n",
              "  <svg xmlns=\"http://www.w3.org/2000/svg\" height=\"24px\"viewBox=\"0 0 24 24\"\n",
              "       width=\"24px\">\n",
              "    <path d=\"M0 0h24v24H0V0z\" fill=\"none\"/>\n",
              "    <path d=\"M18.56 5.44l.94 2.06.94-2.06 2.06-.94-2.06-.94-.94-2.06-.94 2.06-2.06.94zm-11 1L8.5 8.5l.94-2.06 2.06-.94-2.06-.94L8.5 2.5l-.94 2.06-2.06.94zm10 10l.94 2.06.94-2.06 2.06-.94-2.06-.94-.94-2.06-.94 2.06-2.06.94z\"/><path d=\"M17.41 7.96l-1.37-1.37c-.4-.4-.92-.59-1.43-.59-.52 0-1.04.2-1.43.59L10.3 9.45l-7.72 7.72c-.78.78-.78 2.05 0 2.83L4 21.41c.39.39.9.59 1.41.59.51 0 1.02-.2 1.41-.59l7.78-7.78 2.81-2.81c.8-.78.8-2.07 0-2.86zM5.41 20L4 18.59l7.72-7.72 1.47 1.35L5.41 20z\"/>\n",
              "  </svg>\n",
              "      </button>\n",
              "      \n",
              "  <style>\n",
              "    .colab-df-container {\n",
              "      display:flex;\n",
              "      flex-wrap:wrap;\n",
              "      gap: 12px;\n",
              "    }\n",
              "\n",
              "    .colab-df-convert {\n",
              "      background-color: #E8F0FE;\n",
              "      border: none;\n",
              "      border-radius: 50%;\n",
              "      cursor: pointer;\n",
              "      display: none;\n",
              "      fill: #1967D2;\n",
              "      height: 32px;\n",
              "      padding: 0 0 0 0;\n",
              "      width: 32px;\n",
              "    }\n",
              "\n",
              "    .colab-df-convert:hover {\n",
              "      background-color: #E2EBFA;\n",
              "      box-shadow: 0px 1px 2px rgba(60, 64, 67, 0.3), 0px 1px 3px 1px rgba(60, 64, 67, 0.15);\n",
              "      fill: #174EA6;\n",
              "    }\n",
              "\n",
              "    [theme=dark] .colab-df-convert {\n",
              "      background-color: #3B4455;\n",
              "      fill: #D2E3FC;\n",
              "    }\n",
              "\n",
              "    [theme=dark] .colab-df-convert:hover {\n",
              "      background-color: #434B5C;\n",
              "      box-shadow: 0px 1px 3px 1px rgba(0, 0, 0, 0.15);\n",
              "      filter: drop-shadow(0px 1px 2px rgba(0, 0, 0, 0.3));\n",
              "      fill: #FFFFFF;\n",
              "    }\n",
              "  </style>\n",
              "\n",
              "      <script>\n",
              "        const buttonEl =\n",
              "          document.querySelector('#df-fe36fb0f-a3f8-498e-a5a8-5c2ab39578c8 button.colab-df-convert');\n",
              "        buttonEl.style.display =\n",
              "          google.colab.kernel.accessAllowed ? 'block' : 'none';\n",
              "\n",
              "        async function convertToInteractive(key) {\n",
              "          const element = document.querySelector('#df-fe36fb0f-a3f8-498e-a5a8-5c2ab39578c8');\n",
              "          const dataTable =\n",
              "            await google.colab.kernel.invokeFunction('convertToInteractive',\n",
              "                                                     [key], {});\n",
              "          if (!dataTable) return;\n",
              "\n",
              "          const docLinkHtml = 'Like what you see? Visit the ' +\n",
              "            '<a target=\"_blank\" href=https://colab.research.google.com/notebooks/data_table.ipynb>data table notebook</a>'\n",
              "            + ' to learn more about interactive tables.';\n",
              "          element.innerHTML = '';\n",
              "          dataTable['output_type'] = 'display_data';\n",
              "          await google.colab.output.renderOutput(dataTable, element);\n",
              "          const docLink = document.createElement('div');\n",
              "          docLink.innerHTML = docLinkHtml;\n",
              "          element.appendChild(docLink);\n",
              "        }\n",
              "      </script>\n",
              "    </div>\n",
              "  </div>\n",
              "  "
            ]
          },
          "metadata": {},
          "execution_count": 237
        }
      ]
    },
    {
      "cell_type": "code",
      "source": [
        "dataframe_index = dataframe.reset_index(drop=True)\n",
        "dataframe_results_index = dataframe_results.reset_index(drop=True)"
      ],
      "metadata": {
        "id": "MOLesV2X5ZJY"
      },
      "execution_count": null,
      "outputs": []
    },
    {
      "cell_type": "code",
      "source": [
        "dataframe_index = dataframe_index.drop(columns=['x', 'y','psi_rad','length','width','vx','vy'])"
      ],
      "metadata": {
        "id": "EUklQjQe5pmB"
      },
      "execution_count": null,
      "outputs": []
    },
    {
      "cell_type": "code",
      "source": [
        "dataframe_index.describe()"
      ],
      "metadata": {
        "colab": {
          "base_uri": "https://localhost:8080/",
          "height": 300
        },
        "id": "KGRZ6_an5_H3",
        "outputId": "a9f44054-bb7c-44a5-ad64-dec24cfff60f"
      },
      "execution_count": null,
      "outputs": [
        {
          "output_type": "execute_result",
          "data": {
            "text/plain": [
              "            case_id       track_id       frame_id   timestamp_ms  \\\n",
              "count  635560.00000  635560.000000  635560.000000  635560.000000   \n",
              "mean     2634.16096       7.163730      20.000000    2000.000000   \n",
              "std      1459.69109       4.006838      11.532572    1153.257167   \n",
              "min         1.00000       1.000000       1.000000     100.000000   \n",
              "25%      1356.00000       4.000000      10.500000    1050.000000   \n",
              "50%      2728.00000       7.000000      20.000000    2000.000000   \n",
              "75%      4006.00000      10.000000      29.500000    2950.000000   \n",
              "max      5163.00000      24.000000      39.000000    3900.000000   \n",
              "\n",
              "               label  \n",
              "count  635560.000000  \n",
              "mean        0.493801  \n",
              "std         0.646093  \n",
              "min         0.000000  \n",
              "25%         0.000000  \n",
              "50%         0.000000  \n",
              "75%         1.000000  \n",
              "max         5.000000  "
            ],
            "text/html": [
              "\n",
              "  <div id=\"df-544445b2-05ee-42bf-88e0-161ed56c296d\">\n",
              "    <div class=\"colab-df-container\">\n",
              "      <div>\n",
              "<style scoped>\n",
              "    .dataframe tbody tr th:only-of-type {\n",
              "        vertical-align: middle;\n",
              "    }\n",
              "\n",
              "    .dataframe tbody tr th {\n",
              "        vertical-align: top;\n",
              "    }\n",
              "\n",
              "    .dataframe thead th {\n",
              "        text-align: right;\n",
              "    }\n",
              "</style>\n",
              "<table border=\"1\" class=\"dataframe\">\n",
              "  <thead>\n",
              "    <tr style=\"text-align: right;\">\n",
              "      <th></th>\n",
              "      <th>case_id</th>\n",
              "      <th>track_id</th>\n",
              "      <th>frame_id</th>\n",
              "      <th>timestamp_ms</th>\n",
              "      <th>label</th>\n",
              "    </tr>\n",
              "  </thead>\n",
              "  <tbody>\n",
              "    <tr>\n",
              "      <th>count</th>\n",
              "      <td>635560.00000</td>\n",
              "      <td>635560.000000</td>\n",
              "      <td>635560.000000</td>\n",
              "      <td>635560.000000</td>\n",
              "      <td>635560.000000</td>\n",
              "    </tr>\n",
              "    <tr>\n",
              "      <th>mean</th>\n",
              "      <td>2634.16096</td>\n",
              "      <td>7.163730</td>\n",
              "      <td>20.000000</td>\n",
              "      <td>2000.000000</td>\n",
              "      <td>0.493801</td>\n",
              "    </tr>\n",
              "    <tr>\n",
              "      <th>std</th>\n",
              "      <td>1459.69109</td>\n",
              "      <td>4.006838</td>\n",
              "      <td>11.532572</td>\n",
              "      <td>1153.257167</td>\n",
              "      <td>0.646093</td>\n",
              "    </tr>\n",
              "    <tr>\n",
              "      <th>min</th>\n",
              "      <td>1.00000</td>\n",
              "      <td>1.000000</td>\n",
              "      <td>1.000000</td>\n",
              "      <td>100.000000</td>\n",
              "      <td>0.000000</td>\n",
              "    </tr>\n",
              "    <tr>\n",
              "      <th>25%</th>\n",
              "      <td>1356.00000</td>\n",
              "      <td>4.000000</td>\n",
              "      <td>10.500000</td>\n",
              "      <td>1050.000000</td>\n",
              "      <td>0.000000</td>\n",
              "    </tr>\n",
              "    <tr>\n",
              "      <th>50%</th>\n",
              "      <td>2728.00000</td>\n",
              "      <td>7.000000</td>\n",
              "      <td>20.000000</td>\n",
              "      <td>2000.000000</td>\n",
              "      <td>0.000000</td>\n",
              "    </tr>\n",
              "    <tr>\n",
              "      <th>75%</th>\n",
              "      <td>4006.00000</td>\n",
              "      <td>10.000000</td>\n",
              "      <td>29.500000</td>\n",
              "      <td>2950.000000</td>\n",
              "      <td>1.000000</td>\n",
              "    </tr>\n",
              "    <tr>\n",
              "      <th>max</th>\n",
              "      <td>5163.00000</td>\n",
              "      <td>24.000000</td>\n",
              "      <td>39.000000</td>\n",
              "      <td>3900.000000</td>\n",
              "      <td>5.000000</td>\n",
              "    </tr>\n",
              "  </tbody>\n",
              "</table>\n",
              "</div>\n",
              "      <button class=\"colab-df-convert\" onclick=\"convertToInteractive('df-544445b2-05ee-42bf-88e0-161ed56c296d')\"\n",
              "              title=\"Convert this dataframe to an interactive table.\"\n",
              "              style=\"display:none;\">\n",
              "        \n",
              "  <svg xmlns=\"http://www.w3.org/2000/svg\" height=\"24px\"viewBox=\"0 0 24 24\"\n",
              "       width=\"24px\">\n",
              "    <path d=\"M0 0h24v24H0V0z\" fill=\"none\"/>\n",
              "    <path d=\"M18.56 5.44l.94 2.06.94-2.06 2.06-.94-2.06-.94-.94-2.06-.94 2.06-2.06.94zm-11 1L8.5 8.5l.94-2.06 2.06-.94-2.06-.94L8.5 2.5l-.94 2.06-2.06.94zm10 10l.94 2.06.94-2.06 2.06-.94-2.06-.94-.94-2.06-.94 2.06-2.06.94z\"/><path d=\"M17.41 7.96l-1.37-1.37c-.4-.4-.92-.59-1.43-.59-.52 0-1.04.2-1.43.59L10.3 9.45l-7.72 7.72c-.78.78-.78 2.05 0 2.83L4 21.41c.39.39.9.59 1.41.59.51 0 1.02-.2 1.41-.59l7.78-7.78 2.81-2.81c.8-.78.8-2.07 0-2.86zM5.41 20L4 18.59l7.72-7.72 1.47 1.35L5.41 20z\"/>\n",
              "  </svg>\n",
              "      </button>\n",
              "      \n",
              "  <style>\n",
              "    .colab-df-container {\n",
              "      display:flex;\n",
              "      flex-wrap:wrap;\n",
              "      gap: 12px;\n",
              "    }\n",
              "\n",
              "    .colab-df-convert {\n",
              "      background-color: #E8F0FE;\n",
              "      border: none;\n",
              "      border-radius: 50%;\n",
              "      cursor: pointer;\n",
              "      display: none;\n",
              "      fill: #1967D2;\n",
              "      height: 32px;\n",
              "      padding: 0 0 0 0;\n",
              "      width: 32px;\n",
              "    }\n",
              "\n",
              "    .colab-df-convert:hover {\n",
              "      background-color: #E2EBFA;\n",
              "      box-shadow: 0px 1px 2px rgba(60, 64, 67, 0.3), 0px 1px 3px 1px rgba(60, 64, 67, 0.15);\n",
              "      fill: #174EA6;\n",
              "    }\n",
              "\n",
              "    [theme=dark] .colab-df-convert {\n",
              "      background-color: #3B4455;\n",
              "      fill: #D2E3FC;\n",
              "    }\n",
              "\n",
              "    [theme=dark] .colab-df-convert:hover {\n",
              "      background-color: #434B5C;\n",
              "      box-shadow: 0px 1px 3px 1px rgba(0, 0, 0, 0.15);\n",
              "      filter: drop-shadow(0px 1px 2px rgba(0, 0, 0, 0.3));\n",
              "      fill: #FFFFFF;\n",
              "    }\n",
              "  </style>\n",
              "\n",
              "      <script>\n",
              "        const buttonEl =\n",
              "          document.querySelector('#df-544445b2-05ee-42bf-88e0-161ed56c296d button.colab-df-convert');\n",
              "        buttonEl.style.display =\n",
              "          google.colab.kernel.accessAllowed ? 'block' : 'none';\n",
              "\n",
              "        async function convertToInteractive(key) {\n",
              "          const element = document.querySelector('#df-544445b2-05ee-42bf-88e0-161ed56c296d');\n",
              "          const dataTable =\n",
              "            await google.colab.kernel.invokeFunction('convertToInteractive',\n",
              "                                                     [key], {});\n",
              "          if (!dataTable) return;\n",
              "\n",
              "          const docLinkHtml = 'Like what you see? Visit the ' +\n",
              "            '<a target=\"_blank\" href=https://colab.research.google.com/notebooks/data_table.ipynb>data table notebook</a>'\n",
              "            + ' to learn more about interactive tables.';\n",
              "          element.innerHTML = '';\n",
              "          dataTable['output_type'] = 'display_data';\n",
              "          await google.colab.output.renderOutput(dataTable, element);\n",
              "          const docLink = document.createElement('div');\n",
              "          docLink.innerHTML = docLinkHtml;\n",
              "          element.appendChild(docLink);\n",
              "        }\n",
              "      </script>\n",
              "    </div>\n",
              "  </div>\n",
              "  "
            ]
          },
          "metadata": {},
          "execution_count": 243
        }
      ]
    },
    {
      "cell_type": "code",
      "source": [
        "dataframe_results_index.describe()"
      ],
      "metadata": {
        "id": "gKbpMoBe6QSb"
      },
      "execution_count": null,
      "outputs": []
    },
    {
      "cell_type": "code",
      "source": [
        "# add dummy columns, because inverse transform needed the orginal columns used to scale the training set\n",
        "dataframe_results_index['vx'] = 0\n",
        "dataframe_results_index['vy'] = 0\n",
        "dataframe_results_index['psi_rad'] = 0"
      ],
      "metadata": {
        "id": "McpfarJaDN8R"
      },
      "execution_count": null,
      "outputs": []
    },
    {
      "cell_type": "code",
      "source": [
        "dataframe_results_index_inv = scaler.inverse_transform(dataframe_results_index)"
      ],
      "metadata": {
        "id": "srTgZOEADfPY"
      },
      "execution_count": null,
      "outputs": []
    },
    {
      "cell_type": "code",
      "source": [
        "dataframe_reversed = pd.DataFrame(dataframe_results_index_inv[:,0:2], columns=[\"x\", \"y\"])"
      ],
      "metadata": {
        "id": "OXiTv3UjDu_1"
      },
      "execution_count": null,
      "outputs": []
    },
    {
      "cell_type": "code",
      "source": [
        "dataframe_reversed.describe()"
      ],
      "metadata": {
        "colab": {
          "base_uri": "https://localhost:8080/",
          "height": 300
        },
        "id": "TqP5F6Z5D1Ff",
        "outputId": "8ec47d2e-bc73-4937-9e95-666e40fd670a"
      },
      "execution_count": null,
      "outputs": [
        {
          "output_type": "execute_result",
          "data": {
            "text/plain": [
              "                   x              y\n",
              "count  635560.000000  635560.000000\n",
              "mean     1018.107846    1003.632913\n",
              "std        22.524729       9.536163\n",
              "min       972.187000     964.518000\n",
              "25%       998.213072    1000.432289\n",
              "50%      1016.889734    1003.896000\n",
              "75%      1031.427000    1007.840840\n",
              "max      1088.629796    1034.248000"
            ],
            "text/html": [
              "\n",
              "  <div id=\"df-dc29e1cb-7cc3-4da2-bfe3-f7dea9c9c538\">\n",
              "    <div class=\"colab-df-container\">\n",
              "      <div>\n",
              "<style scoped>\n",
              "    .dataframe tbody tr th:only-of-type {\n",
              "        vertical-align: middle;\n",
              "    }\n",
              "\n",
              "    .dataframe tbody tr th {\n",
              "        vertical-align: top;\n",
              "    }\n",
              "\n",
              "    .dataframe thead th {\n",
              "        text-align: right;\n",
              "    }\n",
              "</style>\n",
              "<table border=\"1\" class=\"dataframe\">\n",
              "  <thead>\n",
              "    <tr style=\"text-align: right;\">\n",
              "      <th></th>\n",
              "      <th>x</th>\n",
              "      <th>y</th>\n",
              "    </tr>\n",
              "  </thead>\n",
              "  <tbody>\n",
              "    <tr>\n",
              "      <th>count</th>\n",
              "      <td>635560.000000</td>\n",
              "      <td>635560.000000</td>\n",
              "    </tr>\n",
              "    <tr>\n",
              "      <th>mean</th>\n",
              "      <td>1018.107846</td>\n",
              "      <td>1003.632913</td>\n",
              "    </tr>\n",
              "    <tr>\n",
              "      <th>std</th>\n",
              "      <td>22.524729</td>\n",
              "      <td>9.536163</td>\n",
              "    </tr>\n",
              "    <tr>\n",
              "      <th>min</th>\n",
              "      <td>972.187000</td>\n",
              "      <td>964.518000</td>\n",
              "    </tr>\n",
              "    <tr>\n",
              "      <th>25%</th>\n",
              "      <td>998.213072</td>\n",
              "      <td>1000.432289</td>\n",
              "    </tr>\n",
              "    <tr>\n",
              "      <th>50%</th>\n",
              "      <td>1016.889734</td>\n",
              "      <td>1003.896000</td>\n",
              "    </tr>\n",
              "    <tr>\n",
              "      <th>75%</th>\n",
              "      <td>1031.427000</td>\n",
              "      <td>1007.840840</td>\n",
              "    </tr>\n",
              "    <tr>\n",
              "      <th>max</th>\n",
              "      <td>1088.629796</td>\n",
              "      <td>1034.248000</td>\n",
              "    </tr>\n",
              "  </tbody>\n",
              "</table>\n",
              "</div>\n",
              "      <button class=\"colab-df-convert\" onclick=\"convertToInteractive('df-dc29e1cb-7cc3-4da2-bfe3-f7dea9c9c538')\"\n",
              "              title=\"Convert this dataframe to an interactive table.\"\n",
              "              style=\"display:none;\">\n",
              "        \n",
              "  <svg xmlns=\"http://www.w3.org/2000/svg\" height=\"24px\"viewBox=\"0 0 24 24\"\n",
              "       width=\"24px\">\n",
              "    <path d=\"M0 0h24v24H0V0z\" fill=\"none\"/>\n",
              "    <path d=\"M18.56 5.44l.94 2.06.94-2.06 2.06-.94-2.06-.94-.94-2.06-.94 2.06-2.06.94zm-11 1L8.5 8.5l.94-2.06 2.06-.94-2.06-.94L8.5 2.5l-.94 2.06-2.06.94zm10 10l.94 2.06.94-2.06 2.06-.94-2.06-.94-.94-2.06-.94 2.06-2.06.94z\"/><path d=\"M17.41 7.96l-1.37-1.37c-.4-.4-.92-.59-1.43-.59-.52 0-1.04.2-1.43.59L10.3 9.45l-7.72 7.72c-.78.78-.78 2.05 0 2.83L4 21.41c.39.39.9.59 1.41.59.51 0 1.02-.2 1.41-.59l7.78-7.78 2.81-2.81c.8-.78.8-2.07 0-2.86zM5.41 20L4 18.59l7.72-7.72 1.47 1.35L5.41 20z\"/>\n",
              "  </svg>\n",
              "      </button>\n",
              "      \n",
              "  <style>\n",
              "    .colab-df-container {\n",
              "      display:flex;\n",
              "      flex-wrap:wrap;\n",
              "      gap: 12px;\n",
              "    }\n",
              "\n",
              "    .colab-df-convert {\n",
              "      background-color: #E8F0FE;\n",
              "      border: none;\n",
              "      border-radius: 50%;\n",
              "      cursor: pointer;\n",
              "      display: none;\n",
              "      fill: #1967D2;\n",
              "      height: 32px;\n",
              "      padding: 0 0 0 0;\n",
              "      width: 32px;\n",
              "    }\n",
              "\n",
              "    .colab-df-convert:hover {\n",
              "      background-color: #E2EBFA;\n",
              "      box-shadow: 0px 1px 2px rgba(60, 64, 67, 0.3), 0px 1px 3px 1px rgba(60, 64, 67, 0.15);\n",
              "      fill: #174EA6;\n",
              "    }\n",
              "\n",
              "    [theme=dark] .colab-df-convert {\n",
              "      background-color: #3B4455;\n",
              "      fill: #D2E3FC;\n",
              "    }\n",
              "\n",
              "    [theme=dark] .colab-df-convert:hover {\n",
              "      background-color: #434B5C;\n",
              "      box-shadow: 0px 1px 3px 1px rgba(0, 0, 0, 0.15);\n",
              "      filter: drop-shadow(0px 1px 2px rgba(0, 0, 0, 0.3));\n",
              "      fill: #FFFFFF;\n",
              "    }\n",
              "  </style>\n",
              "\n",
              "      <script>\n",
              "        const buttonEl =\n",
              "          document.querySelector('#df-dc29e1cb-7cc3-4da2-bfe3-f7dea9c9c538 button.colab-df-convert');\n",
              "        buttonEl.style.display =\n",
              "          google.colab.kernel.accessAllowed ? 'block' : 'none';\n",
              "\n",
              "        async function convertToInteractive(key) {\n",
              "          const element = document.querySelector('#df-dc29e1cb-7cc3-4da2-bfe3-f7dea9c9c538');\n",
              "          const dataTable =\n",
              "            await google.colab.kernel.invokeFunction('convertToInteractive',\n",
              "                                                     [key], {});\n",
              "          if (!dataTable) return;\n",
              "\n",
              "          const docLinkHtml = 'Like what you see? Visit the ' +\n",
              "            '<a target=\"_blank\" href=https://colab.research.google.com/notebooks/data_table.ipynb>data table notebook</a>'\n",
              "            + ' to learn more about interactive tables.';\n",
              "          element.innerHTML = '';\n",
              "          dataTable['output_type'] = 'display_data';\n",
              "          await google.colab.output.renderOutput(dataTable, element);\n",
              "          const docLink = document.createElement('div');\n",
              "          docLink.innerHTML = docLinkHtml;\n",
              "          element.appendChild(docLink);\n",
              "        }\n",
              "      </script>\n",
              "    </div>\n",
              "  </div>\n",
              "  "
            ]
          },
          "metadata": {},
          "execution_count": 248
        }
      ]
    },
    {
      "cell_type": "code",
      "source": [
        "result_merged = pd.concat([dataframe_index, dataframe_reversed], axis=1,ignore_index=False)"
      ],
      "metadata": {
        "id": "Ui2cgiPr2u3P"
      },
      "execution_count": null,
      "outputs": []
    },
    {
      "cell_type": "code",
      "source": [
        "result_merged.describe()"
      ],
      "metadata": {
        "colab": {
          "base_uri": "https://localhost:8080/",
          "height": 300
        },
        "id": "JOkwC92c2gpP",
        "outputId": "e078d4eb-17aa-47f4-e937-58bb18bc9b56"
      },
      "execution_count": null,
      "outputs": [
        {
          "output_type": "execute_result",
          "data": {
            "text/plain": [
              "            case_id       track_id       frame_id   timestamp_ms  \\\n",
              "count  635560.00000  635560.000000  635560.000000  635560.000000   \n",
              "mean     2634.16096       7.163730      20.000000    2000.000000   \n",
              "std      1459.69109       4.006838      11.532572    1153.257167   \n",
              "min         1.00000       1.000000       1.000000     100.000000   \n",
              "25%      1356.00000       4.000000      10.500000    1050.000000   \n",
              "50%      2728.00000       7.000000      20.000000    2000.000000   \n",
              "75%      4006.00000      10.000000      29.500000    2950.000000   \n",
              "max      5163.00000      24.000000      39.000000    3900.000000   \n",
              "\n",
              "               label              x              y  \n",
              "count  635560.000000  635560.000000  635560.000000  \n",
              "mean        0.493801    1018.107846    1003.632913  \n",
              "std         0.646093      22.524729       9.536163  \n",
              "min         0.000000     972.187000     964.518000  \n",
              "25%         0.000000     998.213072    1000.432289  \n",
              "50%         0.000000    1016.889734    1003.896000  \n",
              "75%         1.000000    1031.427000    1007.840840  \n",
              "max         5.000000    1088.629796    1034.248000  "
            ],
            "text/html": [
              "\n",
              "  <div id=\"df-6ffcbdd4-b13f-4e0c-95b0-5d9b9135bc63\">\n",
              "    <div class=\"colab-df-container\">\n",
              "      <div>\n",
              "<style scoped>\n",
              "    .dataframe tbody tr th:only-of-type {\n",
              "        vertical-align: middle;\n",
              "    }\n",
              "\n",
              "    .dataframe tbody tr th {\n",
              "        vertical-align: top;\n",
              "    }\n",
              "\n",
              "    .dataframe thead th {\n",
              "        text-align: right;\n",
              "    }\n",
              "</style>\n",
              "<table border=\"1\" class=\"dataframe\">\n",
              "  <thead>\n",
              "    <tr style=\"text-align: right;\">\n",
              "      <th></th>\n",
              "      <th>case_id</th>\n",
              "      <th>track_id</th>\n",
              "      <th>frame_id</th>\n",
              "      <th>timestamp_ms</th>\n",
              "      <th>label</th>\n",
              "      <th>x</th>\n",
              "      <th>y</th>\n",
              "    </tr>\n",
              "  </thead>\n",
              "  <tbody>\n",
              "    <tr>\n",
              "      <th>count</th>\n",
              "      <td>635560.00000</td>\n",
              "      <td>635560.000000</td>\n",
              "      <td>635560.000000</td>\n",
              "      <td>635560.000000</td>\n",
              "      <td>635560.000000</td>\n",
              "      <td>635560.000000</td>\n",
              "      <td>635560.000000</td>\n",
              "    </tr>\n",
              "    <tr>\n",
              "      <th>mean</th>\n",
              "      <td>2634.16096</td>\n",
              "      <td>7.163730</td>\n",
              "      <td>20.000000</td>\n",
              "      <td>2000.000000</td>\n",
              "      <td>0.493801</td>\n",
              "      <td>1018.107846</td>\n",
              "      <td>1003.632913</td>\n",
              "    </tr>\n",
              "    <tr>\n",
              "      <th>std</th>\n",
              "      <td>1459.69109</td>\n",
              "      <td>4.006838</td>\n",
              "      <td>11.532572</td>\n",
              "      <td>1153.257167</td>\n",
              "      <td>0.646093</td>\n",
              "      <td>22.524729</td>\n",
              "      <td>9.536163</td>\n",
              "    </tr>\n",
              "    <tr>\n",
              "      <th>min</th>\n",
              "      <td>1.00000</td>\n",
              "      <td>1.000000</td>\n",
              "      <td>1.000000</td>\n",
              "      <td>100.000000</td>\n",
              "      <td>0.000000</td>\n",
              "      <td>972.187000</td>\n",
              "      <td>964.518000</td>\n",
              "    </tr>\n",
              "    <tr>\n",
              "      <th>25%</th>\n",
              "      <td>1356.00000</td>\n",
              "      <td>4.000000</td>\n",
              "      <td>10.500000</td>\n",
              "      <td>1050.000000</td>\n",
              "      <td>0.000000</td>\n",
              "      <td>998.213072</td>\n",
              "      <td>1000.432289</td>\n",
              "    </tr>\n",
              "    <tr>\n",
              "      <th>50%</th>\n",
              "      <td>2728.00000</td>\n",
              "      <td>7.000000</td>\n",
              "      <td>20.000000</td>\n",
              "      <td>2000.000000</td>\n",
              "      <td>0.000000</td>\n",
              "      <td>1016.889734</td>\n",
              "      <td>1003.896000</td>\n",
              "    </tr>\n",
              "    <tr>\n",
              "      <th>75%</th>\n",
              "      <td>4006.00000</td>\n",
              "      <td>10.000000</td>\n",
              "      <td>29.500000</td>\n",
              "      <td>2950.000000</td>\n",
              "      <td>1.000000</td>\n",
              "      <td>1031.427000</td>\n",
              "      <td>1007.840840</td>\n",
              "    </tr>\n",
              "    <tr>\n",
              "      <th>max</th>\n",
              "      <td>5163.00000</td>\n",
              "      <td>24.000000</td>\n",
              "      <td>39.000000</td>\n",
              "      <td>3900.000000</td>\n",
              "      <td>5.000000</td>\n",
              "      <td>1088.629796</td>\n",
              "      <td>1034.248000</td>\n",
              "    </tr>\n",
              "  </tbody>\n",
              "</table>\n",
              "</div>\n",
              "      <button class=\"colab-df-convert\" onclick=\"convertToInteractive('df-6ffcbdd4-b13f-4e0c-95b0-5d9b9135bc63')\"\n",
              "              title=\"Convert this dataframe to an interactive table.\"\n",
              "              style=\"display:none;\">\n",
              "        \n",
              "  <svg xmlns=\"http://www.w3.org/2000/svg\" height=\"24px\"viewBox=\"0 0 24 24\"\n",
              "       width=\"24px\">\n",
              "    <path d=\"M0 0h24v24H0V0z\" fill=\"none\"/>\n",
              "    <path d=\"M18.56 5.44l.94 2.06.94-2.06 2.06-.94-2.06-.94-.94-2.06-.94 2.06-2.06.94zm-11 1L8.5 8.5l.94-2.06 2.06-.94-2.06-.94L8.5 2.5l-.94 2.06-2.06.94zm10 10l.94 2.06.94-2.06 2.06-.94-2.06-.94-.94-2.06-.94 2.06-2.06.94z\"/><path d=\"M17.41 7.96l-1.37-1.37c-.4-.4-.92-.59-1.43-.59-.52 0-1.04.2-1.43.59L10.3 9.45l-7.72 7.72c-.78.78-.78 2.05 0 2.83L4 21.41c.39.39.9.59 1.41.59.51 0 1.02-.2 1.41-.59l7.78-7.78 2.81-2.81c.8-.78.8-2.07 0-2.86zM5.41 20L4 18.59l7.72-7.72 1.47 1.35L5.41 20z\"/>\n",
              "  </svg>\n",
              "      </button>\n",
              "      \n",
              "  <style>\n",
              "    .colab-df-container {\n",
              "      display:flex;\n",
              "      flex-wrap:wrap;\n",
              "      gap: 12px;\n",
              "    }\n",
              "\n",
              "    .colab-df-convert {\n",
              "      background-color: #E8F0FE;\n",
              "      border: none;\n",
              "      border-radius: 50%;\n",
              "      cursor: pointer;\n",
              "      display: none;\n",
              "      fill: #1967D2;\n",
              "      height: 32px;\n",
              "      padding: 0 0 0 0;\n",
              "      width: 32px;\n",
              "    }\n",
              "\n",
              "    .colab-df-convert:hover {\n",
              "      background-color: #E2EBFA;\n",
              "      box-shadow: 0px 1px 2px rgba(60, 64, 67, 0.3), 0px 1px 3px 1px rgba(60, 64, 67, 0.15);\n",
              "      fill: #174EA6;\n",
              "    }\n",
              "\n",
              "    [theme=dark] .colab-df-convert {\n",
              "      background-color: #3B4455;\n",
              "      fill: #D2E3FC;\n",
              "    }\n",
              "\n",
              "    [theme=dark] .colab-df-convert:hover {\n",
              "      background-color: #434B5C;\n",
              "      box-shadow: 0px 1px 3px 1px rgba(0, 0, 0, 0.15);\n",
              "      filter: drop-shadow(0px 1px 2px rgba(0, 0, 0, 0.3));\n",
              "      fill: #FFFFFF;\n",
              "    }\n",
              "  </style>\n",
              "\n",
              "      <script>\n",
              "        const buttonEl =\n",
              "          document.querySelector('#df-6ffcbdd4-b13f-4e0c-95b0-5d9b9135bc63 button.colab-df-convert');\n",
              "        buttonEl.style.display =\n",
              "          google.colab.kernel.accessAllowed ? 'block' : 'none';\n",
              "\n",
              "        async function convertToInteractive(key) {\n",
              "          const element = document.querySelector('#df-6ffcbdd4-b13f-4e0c-95b0-5d9b9135bc63');\n",
              "          const dataTable =\n",
              "            await google.colab.kernel.invokeFunction('convertToInteractive',\n",
              "                                                     [key], {});\n",
              "          if (!dataTable) return;\n",
              "\n",
              "          const docLinkHtml = 'Like what you see? Visit the ' +\n",
              "            '<a target=\"_blank\" href=https://colab.research.google.com/notebooks/data_table.ipynb>data table notebook</a>'\n",
              "            + ' to learn more about interactive tables.';\n",
              "          element.innerHTML = '';\n",
              "          dataTable['output_type'] = 'display_data';\n",
              "          await google.colab.output.renderOutput(dataTable, element);\n",
              "          const docLink = document.createElement('div');\n",
              "          docLink.innerHTML = docLinkHtml;\n",
              "          element.appendChild(docLink);\n",
              "        }\n",
              "      </script>\n",
              "    </div>\n",
              "  </div>\n",
              "  "
            ]
          },
          "metadata": {},
          "execution_count": 250
        }
      ]
    },
    {
      "cell_type": "code",
      "source": [
        "result_merged.to_csv('/content/drive/MyDrive/PHD_2022/SAC/data/INTERACTION-Dataset-DR-single-v1_2/train/50m-DR_USA_Intersection_MA_train_baseline_results.csv',  index = False)"
      ],
      "metadata": {
        "id": "BANAHa-oEEgX"
      },
      "execution_count": null,
      "outputs": []
    },
    {
      "cell_type": "code",
      "source": [
        "#@title\n",
        "# Predict to get ADE and FDE metrics (RAW)\n",
        "\n",
        "\n",
        "scaler.inverse_transform(scene_x_train)\n",
        "sca\n",
        "\n",
        "results = model.predict(scene_x_train)\n",
        "calculate_error_batch(scene_x_train,scene_y_train)\n",
        "\n",
        "scaler.inverse_transform(data_scaled)"
      ],
      "metadata": {
        "id": "gToZ0xwAyLkn",
        "cellView": "form"
      },
      "execution_count": null,
      "outputs": []
    },
    {
      "cell_type": "code",
      "source": [
        "#@title\n",
        "t = np.array([[[10,20],[10,20],[10,20],[10,20],[10,20],[10,20],[10,20],[10,20],[10,20],[10,20]],[[10,20],[10,20],[10,20],[10,20],[10,20],[10,20],[10,20],[10,20],[10,20],[10,20]]])\n",
        "u = np.array([[[10,20],[10,20],[10,20],[10,20],[10,20],[10,20],[10,20],[10,20],[10,20],[10,20]],[[100,200],[100,200],[100,200],[100,200],[100,200],[100,200],[100,200],[100,200],[100,200],[100,200]]])\n",
        "\n",
        "print(t.shape)\n",
        "print(u.shape)"
      ],
      "metadata": {
        "colab": {
          "base_uri": "https://localhost:8080/"
        },
        "id": "vHQv34R21gBu",
        "outputId": "5d043dc9-82ab-4392-e88a-1b21b160f725",
        "cellView": "form",
        "collapsed": true
      },
      "execution_count": null,
      "outputs": [
        {
          "output_type": "stream",
          "name": "stdout",
          "text": [
            "(2, 10, 2)\n",
            "(2, 10, 2)\n"
          ]
        }
      ]
    },
    {
      "cell_type": "code",
      "source": [
        "#@title\n",
        "calculate_error_batch(scene_x_train,scene_y_train)"
      ],
      "metadata": {
        "colab": {
          "base_uri": "https://localhost:8080/"
        },
        "id": "ZBx6CPGOzHlR",
        "outputId": "1a55a3cc-a101-4fe3-85fd-c9f9aa6c85e8",
        "cellView": "form",
        "collapsed": true
      },
      "execution_count": null,
      "outputs": [
        {
          "output_type": "execute_result",
          "data": {
            "text/plain": [
              "0.19117683071510755"
            ]
          },
          "metadata": {},
          "execution_count": 70
        }
      ]
    },
    {
      "cell_type": "code",
      "source": [
        "#@title\n",
        "calculate_error_batch(scene_x_test,scene_y_test)"
      ],
      "metadata": {
        "colab": {
          "base_uri": "https://localhost:8080/"
        },
        "id": "93NA9b0F-ND0",
        "outputId": "ee694ee9-5a42-4c6c-c21f-9ed864acc3d3",
        "cellView": "form",
        "collapsed": true
      },
      "execution_count": null,
      "outputs": [
        {
          "output_type": "execute_result",
          "data": {
            "text/plain": [
              "0.19054279958229312"
            ]
          },
          "metadata": {},
          "execution_count": 71
        }
      ]
    },
    {
      "cell_type": "code",
      "source": [
        "#@title\n",
        "evaluate_pred = scene_x_test     #original\n",
        "evaluate_pred_t = tf.transpose(evaluate_pred, [0,2,1, 3])\n",
        "\n",
        "evaluate_ground = scene_y_test     #original\n",
        "evaluate_ground_t = tf.transpose(evaluate_ground, [0,2,1, 3])\n",
        "\n",
        "\n",
        "\n",
        "h = []\n",
        "\n",
        "for e in evaluate_t:\n",
        "    h.append(e[0])\n",
        "\n",
        "\n",
        "print(np.array(h).shape)  \n",
        "\n"
      ],
      "metadata": {
        "colab": {
          "base_uri": "https://localhost:8080/"
        },
        "id": "PBe1bvw663SQ",
        "outputId": "dc2723ea-1fa5-4901-abce-18a34298b5f4",
        "cellView": "form",
        "collapsed": true
      },
      "execution_count": null,
      "outputs": [
        {
          "output_type": "stream",
          "name": "stdout",
          "text": [
            "(502, 10, 2)\n"
          ]
        }
      ]
    },
    {
      "cell_type": "code",
      "source": [
        "#@title\n",
        "print(results[0])"
      ],
      "metadata": {
        "colab": {
          "base_uri": "https://localhost:8080/"
        },
        "id": "laStabzuArBx",
        "outputId": "9e8fc804-090e-4804-929f-6104d3f78fcb",
        "cellView": "form",
        "collapsed": true
      },
      "execution_count": null,
      "outputs": [
        {
          "output_type": "stream",
          "name": "stdout",
          "text": [
            "[[2.242194   0.49625453]\n",
            " [2.217759   0.49500656]\n",
            " [2.2030003  0.4903936 ]\n",
            " [2.190922   0.48204356]\n",
            " [2.1840956  0.4743137 ]\n",
            " [2.1780179  0.4686251 ]\n",
            " [2.1706202  0.46490005]\n",
            " [2.1613402  0.4625947 ]\n",
            " [2.1504366  0.46119907]\n",
            " [2.1384835  0.46036834]]\n"
          ]
        }
      ]
    },
    {
      "cell_type": "code",
      "source": [
        "#@title\n",
        "print(results[1])"
      ],
      "metadata": {
        "colab": {
          "base_uri": "https://localhost:8080/"
        },
        "id": "ecp_71SnBt-d",
        "outputId": "60d469dd-7ac8-44ce-a558-61671d3f9633",
        "cellView": "form",
        "collapsed": true
      },
      "execution_count": null,
      "outputs": [
        {
          "output_type": "stream",
          "name": "stdout",
          "text": [
            "[[ 0.5972746  -1.4958715 ]\n",
            " [ 0.5989837  -1.4937139 ]\n",
            " [ 0.5996488  -1.4761806 ]\n",
            " [ 0.60216266 -1.4634647 ]\n",
            " [ 0.6005164  -1.4450533 ]\n",
            " [ 0.5971631  -1.4220117 ]\n",
            " [ 0.5931323  -1.396016  ]\n",
            " [ 0.58831775 -1.3689764 ]\n",
            " [ 0.58223337 -1.3428581 ]\n",
            " [ 0.5743798  -1.3190734 ]]\n"
          ]
        }
      ]
    },
    {
      "cell_type": "code",
      "source": [
        "#@title\n",
        "r_t = tf.transpose(results, [0,2,1, 3])"
      ],
      "metadata": {
        "id": "KmbCuKQsBetB",
        "cellView": "form"
      },
      "execution_count": null,
      "outputs": []
    },
    {
      "cell_type": "code",
      "source": [
        "#@title\n",
        "r_t.shape"
      ],
      "metadata": {
        "colab": {
          "base_uri": "https://localhost:8080/"
        },
        "id": "J--7DuFyByvK",
        "outputId": "c5eb7a55-1932-4adc-8ad2-35f091b74d87",
        "cellView": "form",
        "collapsed": true
      },
      "execution_count": null,
      "outputs": [
        {
          "output_type": "execute_result",
          "data": {
            "text/plain": [
              "TensorShape([502, 3, 8, 2])"
            ]
          },
          "metadata": {},
          "execution_count": 37
        }
      ]
    },
    {
      "cell_type": "code",
      "source": [
        "#@title\n",
        "print(r_t[0])"
      ],
      "metadata": {
        "colab": {
          "base_uri": "https://localhost:8080/"
        },
        "id": "4HZdvEe6B1fe",
        "outputId": "3f9af076-8404-4d01-f6c6-b6139fb7d8d1",
        "cellView": "form",
        "collapsed": true
      },
      "execution_count": null,
      "outputs": [
        {
          "output_type": "stream",
          "name": "stdout",
          "text": [
            "tf.Tensor(\n",
            "[[[1013.10706 1004.457  ]\n",
            "  [1012.0455  1003.8274 ]\n",
            "  [1013.8372  1004.3048 ]\n",
            "  [1014.08405 1004.3704 ]\n",
            "  [1014.1176  1004.3795 ]\n",
            "  [1014.1221  1004.3807 ]\n",
            "  [1014.12274 1004.38086]\n",
            "  [1014.12286 1004.38086]]\n",
            "\n",
            " [[1013.10706 1004.457  ]\n",
            "  [1012.0455  1003.8274 ]\n",
            "  [1013.8372  1004.3048 ]\n",
            "  [1014.08405 1004.3704 ]\n",
            "  [1014.1176  1004.3795 ]\n",
            "  [1014.1221  1004.3807 ]\n",
            "  [1014.12274 1004.38086]\n",
            "  [1014.12286 1004.38086]]\n",
            "\n",
            " [[1013.10706 1004.457  ]\n",
            "  [1012.0455  1003.8274 ]\n",
            "  [1013.8372  1004.3048 ]\n",
            "  [1014.08405 1004.3704 ]\n",
            "  [1014.1176  1004.3795 ]\n",
            "  [1014.1221  1004.3807 ]\n",
            "  [1014.12274 1004.38086]\n",
            "  [1014.12286 1004.38086]]], shape=(3, 8, 2), dtype=float32)\n"
          ]
        }
      ]
    },
    {
      "cell_type": "code",
      "source": [
        "#@title\n",
        "import tensorflow as tf\n",
        "inp = np.empty([3,10,3,2], dtype=int) #(batch_size, input_seq_len, num_nodes, in_feat)\n",
        "\n",
        "inp = tf.convert_to_tensor(inp, dtype=None, dtype_hint=None, name=None)\n",
        "\n",
        "print(inp)\n"
      ],
      "metadata": {
        "id": "g80SsQQ0hzE5",
        "colab": {
          "base_uri": "https://localhost:8080/"
        },
        "outputId": "c1013635-fbd8-4be5-9337-6277c4ee7dcd",
        "cellView": "form",
        "collapsed": true
      },
      "execution_count": null,
      "outputs": [
        {
          "output_type": "stream",
          "name": "stdout",
          "text": [
            "tf.Tensor(\n",
            "[[[[          461040128            11119392]\n",
            "   [               1430                  -1]\n",
            "   [                228                   0]]\n",
            "\n",
            "  [[2314885531812175904 3834870269549490464]\n",
            "   [3618413830648901686 3760822486181093408]\n",
            "   [3832622885096272176 2308760229270335544]]\n",
            "\n",
            "  [[2314885530822320160 3762536702404473905]\n",
            "   [2319408995090182706 3473455226657185824]\n",
            "   [3474298634033967665 2314861603925864496]]\n",
            "\n",
            "  [[3539864629463243552 3474022678039441460]\n",
            "   [2314911988187674423 3544390292337598496]\n",
            "   [3978141037057488690 2308669155092870967]]\n",
            "\n",
            "  [[2314885530822335264 3762536702404473905]\n",
            "   [2319975252151711026 3473455226657185824]\n",
            "   [3834587708063691313 2314861603825531192]]\n",
            "\n",
            "  [[3539864629463243552 4122259549404082228]\n",
            "   [2314907615843659829 3544390292337598496]\n",
            "   [3473460797566826290 2314885437353898035]]\n",
            "\n",
            "  [[3760822486181093467 3976734774637244720]\n",
            "   [2314885634201038896 3616724976475840544]\n",
            "   [4050199730573293367 2314861248100775992]]\n",
            "\n",
            "  [[3539864629463243611 3763101872872828980]\n",
            "   [2314909793492809529 3544390292337598496]\n",
            "   [3690478000349198386 2314885437354160691]]\n",
            "\n",
            "  [[3760822486181093467 3617010862485811504]\n",
            "   [2314885625627751987 3616724976475840544]\n",
            "   [3904680461904131895 6566283578691106872]]\n",
            "\n",
            "  [[3473455226657185824 4049076038330233393]\n",
            "   [2314885531088074037 4049353098063323168]\n",
            "   [3835159475601880373 6566283484201835826]]]\n",
            "\n",
            "\n",
            " [[[3760822486181093467 4050201942581981488]\n",
            "   [2314885608481829177 3616724976475840544]\n",
            "   [3472901176229705016 6566283578691106353]]\n",
            "\n",
            "  [[3473455226657185824 3978701805184365105]\n",
            "   [2314885531222421558 4049353098063323168]\n",
            "   [3618420436308604469 2331492554442956080]]\n",
            "\n",
            "  [[3544390292337598496 3546643187738425394]\n",
            "   [2314885530819639096 3978703982648635680]\n",
            "   [4049353132440236340 6582890602311605597]]\n",
            "\n",
            "  [[3473455226657185824 3834871382063657521]\n",
            "   [2314885531222159417 4049353098063323168]\n",
            "   [3907208243398062899 2331492554442956088]]\n",
            "\n",
            "  [[3544390292337598496 3546643187738425394]\n",
            "   [2314885530819507248 3834870269549490464]\n",
            "   [3474580104782820661 2314950402004486749]]\n",
            "\n",
            "  [[3616724976475840544 3832897771458999608]\n",
            "   [2314885530818458165 3689917257924752433]\n",
            "   [6716610003092911920 2331557425628973661]]\n",
            "\n",
            "  [[3544390292337598496 4122821387011569714]\n",
            "   [2314885530819900213 3978703982648635680]\n",
            "   [3906081256864100916 2314950402004486749]]\n",
            "\n",
            "  [[3616724976475840544 3906928967427569463]\n",
            "   [2314885530818457652 3834032446000608305]\n",
            "   [6716048144061183289 2314885784221523978]]\n",
            "\n",
            "  [[4049353098063323168 3907213732416402485]\n",
            "   [3539864629463228464 4122259549404082228]\n",
            "   [6727593020565567283 2314950655407557130]]\n",
            "\n",
            "  [[3616724976475840544 3904680457659626040]\n",
            "   [2314885530818459189 3762536702404473905]\n",
            "   [6716616595985348145 2314885784221523978]]]\n",
            "\n",
            "\n",
            " [[[4049353098063323168 3690199828101674037]\n",
            "   [3539864629463228466 3834029173252370484]\n",
            "   [ 746810511981689144 2314885531808309280]]\n",
            "\n",
            "  [[3834870269549490464 4048791256295814453]\n",
            "   [3760822486181093408 3472895674409955632]\n",
            "   [ 746855600615340338 2314885785211379722]]\n",
            "\n",
            "  [[3977295504025395232 3689918357419734071]\n",
            "   [3539864629463228470 3617577110890164276]\n",
            "   [ 746812706743923248 2314885531808309280]]\n",
            "\n",
            "  [[3978703982648635680 3907211567685448244]\n",
            "   [3760822486181093408 4049637901690089776]\n",
            "   [2308760254989809461 2314885530822320160]]\n",
            "\n",
            "  [[3689917257924752433 2321098978687465264]\n",
            "   [3473455226657185824 3618419328257897009]\n",
            "   [ 723493345001813817 2314885531812175904]]\n",
            "\n",
            "  [[3834870269549490464 3472328304818073651]\n",
            "   [3760822486181093408 3616728279424315696]\n",
            "   [2308760254922961460 2314885530822320160]]\n",
            "\n",
            "  [[3833188021070476337 2319979667294401077]\n",
            "   [3473455226657185824 3689910669546041905]\n",
            "   [2314861603892246839 3539864629463243552]]\n",
            "\n",
            "  [[3761403131702882356 2314909827852678453]\n",
            "   [3544390292337598496 4121981377358411058]\n",
            "   [2308669155092869937 4050487806833416992]]\n",
            "\n",
            "  [[3905519423686520884 2320822962614186294]\n",
            "   [3473455226657185824 3474586714670248497]\n",
            "   [2314861603892637746 3539864629463243552]]\n",
            "\n",
            "  [[4123108359495823412 2314903209308009528]\n",
            "   [3472338191899766841 3545793269494723380]\n",
            "   [2314885437353766967 3760822486181093467]]]], shape=(3, 10, 3, 2), dtype=int64)\n"
          ]
        }
      ]
    },
    {
      "cell_type": "code",
      "source": [
        "#@title\n",
        "inputs = tf.transpose(inp, [2, 0, 1, 3])\n",
        "\n",
        "print(inputs)"
      ],
      "metadata": {
        "id": "Gg9VhFH_jbuG",
        "colab": {
          "base_uri": "https://localhost:8080/"
        },
        "outputId": "938b9e44-94bf-4007-8c49-21a8621f1e0b",
        "cellView": "form",
        "collapsed": true
      },
      "execution_count": null,
      "outputs": [
        {
          "output_type": "stream",
          "name": "stdout",
          "text": [
            "tf.Tensor(\n",
            "[[[[          461040128            11119392]\n",
            "   [2314885531812175904 3834870269549490464]\n",
            "   [2314885530822320160 3762536702404473905]\n",
            "   [3539864629463243552 3474022678039441460]\n",
            "   [2314885530822335264 3762536702404473905]\n",
            "   [3539864629463243552 4122259549404082228]\n",
            "   [3760822486181093467 3976734774637244720]\n",
            "   [3539864629463243611 3763101872872828980]\n",
            "   [3760822486181093467 3617010862485811504]\n",
            "   [3473455226657185824 4049076038330233393]]\n",
            "\n",
            "  [[3760822486181093467 4050201942581981488]\n",
            "   [3473455226657185824 3978701805184365105]\n",
            "   [3544390292337598496 3546643187738425394]\n",
            "   [3473455226657185824 3834871382063657521]\n",
            "   [3544390292337598496 3546643187738425394]\n",
            "   [3616724976475840544 3832897771458999608]\n",
            "   [3544390292337598496 4122821387011569714]\n",
            "   [3616724976475840544 3906928967427569463]\n",
            "   [4049353098063323168 3907213732416402485]\n",
            "   [3616724976475840544 3904680457659626040]]\n",
            "\n",
            "  [[4049353098063323168 3690199828101674037]\n",
            "   [3834870269549490464 4048791256295814453]\n",
            "   [3977295504025395232 3689918357419734071]\n",
            "   [3978703982648635680 3907211567685448244]\n",
            "   [3689917257924752433 2321098978687465264]\n",
            "   [3834870269549490464 3472328304818073651]\n",
            "   [3833188021070476337 2319979667294401077]\n",
            "   [3761403131702882356 2314909827852678453]\n",
            "   [3905519423686520884 2320822962614186294]\n",
            "   [4123108359495823412 2314903209308009528]]]\n",
            "\n",
            "\n",
            " [[[               1430                  -1]\n",
            "   [3618413830648901686 3760822486181093408]\n",
            "   [2319408995090182706 3473455226657185824]\n",
            "   [2314911988187674423 3544390292337598496]\n",
            "   [2319975252151711026 3473455226657185824]\n",
            "   [2314907615843659829 3544390292337598496]\n",
            "   [2314885634201038896 3616724976475840544]\n",
            "   [2314909793492809529 3544390292337598496]\n",
            "   [2314885625627751987 3616724976475840544]\n",
            "   [2314885531088074037 4049353098063323168]]\n",
            "\n",
            "  [[2314885608481829177 3616724976475840544]\n",
            "   [2314885531222421558 4049353098063323168]\n",
            "   [2314885530819639096 3978703982648635680]\n",
            "   [2314885531222159417 4049353098063323168]\n",
            "   [2314885530819507248 3834870269549490464]\n",
            "   [2314885530818458165 3689917257924752433]\n",
            "   [2314885530819900213 3978703982648635680]\n",
            "   [2314885530818457652 3834032446000608305]\n",
            "   [3539864629463228464 4122259549404082228]\n",
            "   [2314885530818459189 3762536702404473905]]\n",
            "\n",
            "  [[3539864629463228466 3834029173252370484]\n",
            "   [3760822486181093408 3472895674409955632]\n",
            "   [3539864629463228470 3617577110890164276]\n",
            "   [3760822486181093408 4049637901690089776]\n",
            "   [3473455226657185824 3618419328257897009]\n",
            "   [3760822486181093408 3616728279424315696]\n",
            "   [3473455226657185824 3689910669546041905]\n",
            "   [3544390292337598496 4121981377358411058]\n",
            "   [3473455226657185824 3474586714670248497]\n",
            "   [3472338191899766841 3545793269494723380]]]\n",
            "\n",
            "\n",
            " [[[                228                   0]\n",
            "   [3832622885096272176 2308760229270335544]\n",
            "   [3474298634033967665 2314861603925864496]\n",
            "   [3978141037057488690 2308669155092870967]\n",
            "   [3834587708063691313 2314861603825531192]\n",
            "   [3473460797566826290 2314885437353898035]\n",
            "   [4050199730573293367 2314861248100775992]\n",
            "   [3690478000349198386 2314885437354160691]\n",
            "   [3904680461904131895 6566283578691106872]\n",
            "   [3835159475601880373 6566283484201835826]]\n",
            "\n",
            "  [[3472901176229705016 6566283578691106353]\n",
            "   [3618420436308604469 2331492554442956080]\n",
            "   [4049353132440236340 6582890602311605597]\n",
            "   [3907208243398062899 2331492554442956088]\n",
            "   [3474580104782820661 2314950402004486749]\n",
            "   [6716610003092911920 2331557425628973661]\n",
            "   [3906081256864100916 2314950402004486749]\n",
            "   [6716048144061183289 2314885784221523978]\n",
            "   [6727593020565567283 2314950655407557130]\n",
            "   [6716616595985348145 2314885784221523978]]\n",
            "\n",
            "  [[ 746810511981689144 2314885531808309280]\n",
            "   [ 746855600615340338 2314885785211379722]\n",
            "   [ 746812706743923248 2314885531808309280]\n",
            "   [2308760254989809461 2314885530822320160]\n",
            "   [ 723493345001813817 2314885531812175904]\n",
            "   [2308760254922961460 2314885530822320160]\n",
            "   [2314861603892246839 3539864629463243552]\n",
            "   [2308669155092869937 4050487806833416992]\n",
            "   [2314861603892637746 3539864629463243552]\n",
            "   [2314885437353766967 3760822486181093467]]]], shape=(3, 3, 10, 2), dtype=int64)\n"
          ]
        }
      ]
    },
    {
      "cell_type": "code",
      "source": [
        "#@title\n",
        "lstminp = tf.reshape(inputs, (3 * 3, 10, 2))\n",
        "print(lstminp)"
      ],
      "metadata": {
        "id": "H7sIThOElm_Q",
        "colab": {
          "base_uri": "https://localhost:8080/"
        },
        "outputId": "364bf2c7-e334-458c-ab21-87048518eda7",
        "cellView": "form",
        "collapsed": true
      },
      "execution_count": null,
      "outputs": [
        {
          "output_type": "stream",
          "name": "stdout",
          "text": [
            "tf.Tensor(\n",
            "[[[          461040128            11119392]\n",
            "  [2314885531812175904 3834870269549490464]\n",
            "  [2314885530822320160 3762536702404473905]\n",
            "  [3539864629463243552 3474022678039441460]\n",
            "  [2314885530822335264 3762536702404473905]\n",
            "  [3539864629463243552 4122259549404082228]\n",
            "  [3760822486181093467 3976734774637244720]\n",
            "  [3539864629463243611 3763101872872828980]\n",
            "  [3760822486181093467 3617010862485811504]\n",
            "  [3473455226657185824 4049076038330233393]]\n",
            "\n",
            " [[3760822486181093467 4050201942581981488]\n",
            "  [3473455226657185824 3978701805184365105]\n",
            "  [3544390292337598496 3546643187738425394]\n",
            "  [3473455226657185824 3834871382063657521]\n",
            "  [3544390292337598496 3546643187738425394]\n",
            "  [3616724976475840544 3832897771458999608]\n",
            "  [3544390292337598496 4122821387011569714]\n",
            "  [3616724976475840544 3906928967427569463]\n",
            "  [4049353098063323168 3907213732416402485]\n",
            "  [3616724976475840544 3904680457659626040]]\n",
            "\n",
            " [[4049353098063323168 3690199828101674037]\n",
            "  [3834870269549490464 4048791256295814453]\n",
            "  [3977295504025395232 3689918357419734071]\n",
            "  [3978703982648635680 3907211567685448244]\n",
            "  [3689917257924752433 2321098978687465264]\n",
            "  [3834870269549490464 3472328304818073651]\n",
            "  [3833188021070476337 2319979667294401077]\n",
            "  [3761403131702882356 2314909827852678453]\n",
            "  [3905519423686520884 2320822962614186294]\n",
            "  [4123108359495823412 2314903209308009528]]\n",
            "\n",
            " [[               1430                  -1]\n",
            "  [3618413830648901686 3760822486181093408]\n",
            "  [2319408995090182706 3473455226657185824]\n",
            "  [2314911988187674423 3544390292337598496]\n",
            "  [2319975252151711026 3473455226657185824]\n",
            "  [2314907615843659829 3544390292337598496]\n",
            "  [2314885634201038896 3616724976475840544]\n",
            "  [2314909793492809529 3544390292337598496]\n",
            "  [2314885625627751987 3616724976475840544]\n",
            "  [2314885531088074037 4049353098063323168]]\n",
            "\n",
            " [[2314885608481829177 3616724976475840544]\n",
            "  [2314885531222421558 4049353098063323168]\n",
            "  [2314885530819639096 3978703982648635680]\n",
            "  [2314885531222159417 4049353098063323168]\n",
            "  [2314885530819507248 3834870269549490464]\n",
            "  [2314885530818458165 3689917257924752433]\n",
            "  [2314885530819900213 3978703982648635680]\n",
            "  [2314885530818457652 3834032446000608305]\n",
            "  [3539864629463228464 4122259549404082228]\n",
            "  [2314885530818459189 3762536702404473905]]\n",
            "\n",
            " [[3539864629463228466 3834029173252370484]\n",
            "  [3760822486181093408 3472895674409955632]\n",
            "  [3539864629463228470 3617577110890164276]\n",
            "  [3760822486181093408 4049637901690089776]\n",
            "  [3473455226657185824 3618419328257897009]\n",
            "  [3760822486181093408 3616728279424315696]\n",
            "  [3473455226657185824 3689910669546041905]\n",
            "  [3544390292337598496 4121981377358411058]\n",
            "  [3473455226657185824 3474586714670248497]\n",
            "  [3472338191899766841 3545793269494723380]]\n",
            "\n",
            " [[                228                   0]\n",
            "  [3832622885096272176 2308760229270335544]\n",
            "  [3474298634033967665 2314861603925864496]\n",
            "  [3978141037057488690 2308669155092870967]\n",
            "  [3834587708063691313 2314861603825531192]\n",
            "  [3473460797566826290 2314885437353898035]\n",
            "  [4050199730573293367 2314861248100775992]\n",
            "  [3690478000349198386 2314885437354160691]\n",
            "  [3904680461904131895 6566283578691106872]\n",
            "  [3835159475601880373 6566283484201835826]]\n",
            "\n",
            " [[3472901176229705016 6566283578691106353]\n",
            "  [3618420436308604469 2331492554442956080]\n",
            "  [4049353132440236340 6582890602311605597]\n",
            "  [3907208243398062899 2331492554442956088]\n",
            "  [3474580104782820661 2314950402004486749]\n",
            "  [6716610003092911920 2331557425628973661]\n",
            "  [3906081256864100916 2314950402004486749]\n",
            "  [6716048144061183289 2314885784221523978]\n",
            "  [6727593020565567283 2314950655407557130]\n",
            "  [6716616595985348145 2314885784221523978]]\n",
            "\n",
            " [[ 746810511981689144 2314885531808309280]\n",
            "  [ 746855600615340338 2314885785211379722]\n",
            "  [ 746812706743923248 2314885531808309280]\n",
            "  [2308760254989809461 2314885530822320160]\n",
            "  [ 723493345001813817 2314885531812175904]\n",
            "  [2308760254922961460 2314885530822320160]\n",
            "  [2314861603892246839 3539864629463243552]\n",
            "  [2308669155092869937 4050487806833416992]\n",
            "  [2314861603892637746 3539864629463243552]\n",
            "  [2314885437353766967 3760822486181093467]]], shape=(9, 10, 2), dtype=int64)\n"
          ]
        }
      ]
    },
    {
      "cell_type": "code",
      "source": [
        "#@title\n",
        "  reverse = tf.reshape(lstminp, (3,4, 12,2))\n",
        "  print(reverse)"
      ],
      "metadata": {
        "id": "9eMf3Koqlxvh",
        "cellView": "form"
      },
      "execution_count": null,
      "outputs": []
    },
    {
      "cell_type": "code",
      "source": [
        "#@title\n",
        "treverse = tf.transpose(reverse, [1, 2, 0, 3 ])\n",
        "print(treverse)"
      ],
      "metadata": {
        "id": "h_CxbxZsn98Z",
        "cellView": "form"
      },
      "execution_count": null,
      "outputs": []
    },
    {
      "cell_type": "code",
      "source": [],
      "metadata": {
        "id": "muCBV0xtoWLa"
      },
      "execution_count": null,
      "outputs": []
    }
  ]
}